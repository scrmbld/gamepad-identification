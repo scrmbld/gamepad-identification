{
 "cells": [
  {
   "cell_type": "code",
   "execution_count": 1,
   "metadata": {},
   "outputs": [],
   "source": [
    "import os\n",
    "import random\n",
    "\n",
    "import pandas as pd\n",
    "import numpy as np"
   ]
  },
  {
   "cell_type": "code",
   "execution_count": 2,
   "metadata": {},
   "outputs": [],
   "source": [
    "SEQ_LEN=180\n",
    "SPLIT=(0.6, 0.2, 0.2)"
   ]
  },
  {
   "cell_type": "markdown",
   "metadata": {},
   "source": [
    "### Load data"
   ]
  },
  {
   "cell_type": "code",
   "execution_count": 3,
   "metadata": {},
   "outputs": [
    {
     "data": {
      "text/html": [
       "<div>\n",
       "<style scoped>\n",
       "    .dataframe tbody tr th:only-of-type {\n",
       "        vertical-align: middle;\n",
       "    }\n",
       "\n",
       "    .dataframe tbody tr th {\n",
       "        vertical-align: top;\n",
       "    }\n",
       "\n",
       "    .dataframe thead th {\n",
       "        text-align: right;\n",
       "    }\n",
       "</style>\n",
       "<table border=\"1\" class=\"dataframe\">\n",
       "  <thead>\n",
       "    <tr style=\"text-align: right;\">\n",
       "      <th></th>\n",
       "      <th>d_x</th>\n",
       "      <th>d_y</th>\n",
       "      <th>frames_elapsed</th>\n",
       "    </tr>\n",
       "  </thead>\n",
       "  <tbody>\n",
       "    <tr>\n",
       "      <th>0</th>\n",
       "      <td>0.9875</td>\n",
       "      <td>0.0000</td>\n",
       "      <td>0.383333</td>\n",
       "    </tr>\n",
       "    <tr>\n",
       "      <th>1</th>\n",
       "      <td>0.0125</td>\n",
       "      <td>0.0000</td>\n",
       "      <td>0.050000</td>\n",
       "    </tr>\n",
       "    <tr>\n",
       "      <th>2</th>\n",
       "      <td>-0.0125</td>\n",
       "      <td>0.0000</td>\n",
       "      <td>0.166667</td>\n",
       "    </tr>\n",
       "    <tr>\n",
       "      <th>3</th>\n",
       "      <td>0.0125</td>\n",
       "      <td>0.0000</td>\n",
       "      <td>0.016667</td>\n",
       "    </tr>\n",
       "    <tr>\n",
       "      <th>4</th>\n",
       "      <td>-0.0125</td>\n",
       "      <td>0.0000</td>\n",
       "      <td>0.016667</td>\n",
       "    </tr>\n",
       "    <tr>\n",
       "      <th>5</th>\n",
       "      <td>-0.0125</td>\n",
       "      <td>0.0000</td>\n",
       "      <td>0.133333</td>\n",
       "    </tr>\n",
       "    <tr>\n",
       "      <th>6</th>\n",
       "      <td>-0.0125</td>\n",
       "      <td>0.0000</td>\n",
       "      <td>0.016667</td>\n",
       "    </tr>\n",
       "    <tr>\n",
       "      <th>7</th>\n",
       "      <td>-0.0375</td>\n",
       "      <td>0.3375</td>\n",
       "      <td>0.016667</td>\n",
       "    </tr>\n",
       "    <tr>\n",
       "      <th>8</th>\n",
       "      <td>-0.0250</td>\n",
       "      <td>0.0750</td>\n",
       "      <td>0.016667</td>\n",
       "    </tr>\n",
       "    <tr>\n",
       "      <th>9</th>\n",
       "      <td>-0.0250</td>\n",
       "      <td>0.0500</td>\n",
       "      <td>0.016667</td>\n",
       "    </tr>\n",
       "  </tbody>\n",
       "</table>\n",
       "</div>"
      ],
      "text/plain": [
       "      d_x     d_y  frames_elapsed\n",
       "0  0.9875  0.0000        0.383333\n",
       "1  0.0125  0.0000        0.050000\n",
       "2 -0.0125  0.0000        0.166667\n",
       "3  0.0125  0.0000        0.016667\n",
       "4 -0.0125  0.0000        0.016667\n",
       "5 -0.0125  0.0000        0.133333\n",
       "6 -0.0125  0.0000        0.016667\n",
       "7 -0.0375  0.3375        0.016667\n",
       "8 -0.0250  0.0750        0.016667\n",
       "9 -0.0250  0.0500        0.016667"
      ]
     },
     "execution_count": 3,
     "metadata": {},
     "output_type": "execute_result"
    }
   ],
   "source": [
    "data_path = 'dataset/demo/displacements/'\n",
    "\n",
    "all_files = os.listdir(data_path)\n",
    "games_inputs = {}\n",
    "for filename in all_files:\n",
    "    filepath = data_path + filename\n",
    "    inputs = pd.read_csv(filepath)\n",
    "    games_inputs[filename.split('.')[0]] = inputs\n",
    "\n",
    "games_inputs[all_files[0].split('.')[0]].head(10)"
   ]
  },
  {
   "cell_type": "markdown",
   "metadata": {},
   "source": [
    "### Organize by user (necessary for labelling)"
   ]
  },
  {
   "cell_type": "code",
   "execution_count": 4,
   "metadata": {},
   "outputs": [
    {
     "data": {
      "text/plain": [
       "(128676, 3)"
      ]
     },
     "execution_count": 4,
     "metadata": {},
     "output_type": "execute_result"
    }
   ],
   "source": [
    "def sort_games_by_user():\n",
    "    users_sessions = {}\n",
    "    for filename in all_files:\n",
    "        user = filename.split('_')[0]\n",
    "\n",
    "        if user not in users_sessions.keys():\n",
    "            users_sessions[user] = []\n",
    "        \n",
    "        users_sessions[user].append(filename.split('.')[0])\n",
    "    \n",
    "    return users_sessions\n",
    "\n",
    "games_by_player = sort_games_by_user()\n",
    "\n",
    "inputs_by_player = {}\n",
    "\n",
    "for player in games_by_player.keys():\n",
    "    # get the inputs from all the games played by a certain player\n",
    "    player_games_inputs = [games_inputs[game] for game in games_by_player[player]]\n",
    "    player_inputs = pd.concat(player_games_inputs, ignore_index=True)\n",
    "    \n",
    "    inputs_by_player[player] = player_inputs\n",
    "\n",
    "inputs_by_player['aklo'].shape"
   ]
  },
  {
   "cell_type": "code",
   "execution_count": 5,
   "metadata": {},
   "outputs": [
    {
     "data": {
      "text/plain": [
       "dict_keys(['axe', 'plup', 'cpu', 'kodorin', 'aklo', '2saint', 'mang0', 'n0ne', 'zain', 'hbox', 'moky', 'wizzrobe', 'sfat', 'cynthia', 'amsa', 'cody', 'logan', 'yingling'])"
      ]
     },
     "execution_count": 5,
     "metadata": {},
     "output_type": "execute_result"
    }
   ],
   "source": [
    "inputs_by_player.keys()"
   ]
  },
  {
   "cell_type": "markdown",
   "metadata": {},
   "source": [
    "### Organize data into labelled sequences"
   ]
  },
  {
   "cell_type": "code",
   "execution_count": 6,
   "metadata": {},
   "outputs": [
    {
     "data": {
      "text/plain": [
       "20957"
      ]
     },
     "execution_count": 6,
     "metadata": {},
     "output_type": "execute_result"
    }
   ],
   "source": [
    "players_set = list(inputs_by_player.keys())\n",
    "players_set.sort() # ensure the mappings are the same every time\n",
    "\n",
    "player_to_int = {key: i for i, key in enumerate(players_set)}\n",
    "int_to_player = {i: key for key, i in player_to_int.items()}\n",
    "\n",
    "def seqs_from_df(df, player_id, seq_len=100):\n",
    "    seqs = []\n",
    "\n",
    "    label = np.zeros(len(players_set))\n",
    "    label[player_id] = 1.0\n",
    "\n",
    "    for i in range(0, df.shape[0] - seq_len, int(seq_len*0.5)):\n",
    "        seq_x = df.loc[i:i+seq_len-1]\n",
    "        seqs.append((seq_x, label))\n",
    "        \n",
    "    return seqs\n",
    "\n",
    "labelled_ml_data = [seqs_from_df(inputs_by_player[p], player_to_int[p], SEQ_LEN) for p in players_set]\n",
    "labelled_ml_data = [seq for p in labelled_ml_data for seq in p] # flatten\n",
    "random.shuffle(labelled_ml_data)\n",
    "len(labelled_ml_data)"
   ]
  },
  {
   "cell_type": "code",
   "execution_count": 7,
   "metadata": {},
   "outputs": [
    {
     "data": {
      "text/plain": [
       "{0: '2saint',\n",
       " 1: 'aklo',\n",
       " 2: 'amsa',\n",
       " 3: 'axe',\n",
       " 4: 'cody',\n",
       " 5: 'cpu',\n",
       " 6: 'cynthia',\n",
       " 7: 'hbox',\n",
       " 8: 'kodorin',\n",
       " 9: 'logan',\n",
       " 10: 'mang0',\n",
       " 11: 'moky',\n",
       " 12: 'n0ne',\n",
       " 13: 'plup',\n",
       " 14: 'sfat',\n",
       " 15: 'wizzrobe',\n",
       " 16: 'yingling',\n",
       " 17: 'zain'}"
      ]
     },
     "execution_count": 7,
     "metadata": {},
     "output_type": "execute_result"
    }
   ],
   "source": [
    "int_to_player"
   ]
  },
  {
   "cell_type": "markdown",
   "metadata": {},
   "source": [
    "### Split into training, validation, and test sets"
   ]
  },
  {
   "cell_type": "code",
   "execution_count": 8,
   "metadata": {},
   "outputs": [
    {
     "name": "stdout",
     "output_type": "stream",
     "text": [
      "[12574, 16765, 20956]\n",
      "len(train)=12574, len(valid)=4191, len(test)=4191, len(labelled_ml_data)=20957\n"
     ]
    }
   ],
   "source": [
    "def split_set(examples_list, split=SPLIT):\n",
    "    split_indices = [0, 0, 0]\n",
    "    for i in range(3):\n",
    "        split_indices[i] = int(split[i] * len(examples_list))\n",
    "        if i >= 1:\n",
    "            split_indices[i] += split_indices[i-1]\n",
    "\n",
    "    print(split_indices)\n",
    "    \n",
    "    return (examples_list[0:split_indices[0]], examples_list[split_indices[0]:split_indices[1]], examples_list[split_indices[1]:split_indices[2]])\n",
    "\n",
    "train, valid, test = split_set(labelled_ml_data, (0.6, 0.2, 0.2))\n",
    "\n",
    "print(f'{len(train)=}, {len(valid)=}, {len(test)=}, {len(labelled_ml_data)=}')"
   ]
  },
  {
   "cell_type": "code",
   "execution_count": 9,
   "metadata": {},
   "outputs": [
    {
     "name": "stdout",
     "output_type": "stream",
     "text": [
      "train_x[0]=array([[ 0.02499998, -0.325     ,  0.01666667],\n",
      "       [ 0.01250005,  0.        ,  0.01666667],\n",
      "       [ 0.01249999,  0.        ,  0.01666667],\n",
      "       [-0.5625    ,  0.        ,  0.13333334],\n",
      "       [-0.425     ,  0.        ,  0.01666667],\n",
      "       [ 0.9875    ,  0.        ,  0.4       ],\n",
      "       [-0.01249999,  0.        ,  0.06666667],\n",
      "       [-0.11250001, -0.4875    ,  0.01666667],\n",
      "       [-0.10000002, -0.13749999,  0.01666667],\n",
      "       [-0.01249999, -0.02499998,  0.01666667],\n",
      "       [ 0.01249999,  0.01249999,  0.05      ],\n",
      "       [ 0.02500004,  0.03749996,  0.01666667],\n",
      "       [ 0.02499998,  0.03750002,  0.01666667],\n",
      "       [ 0.02499998,  0.03750002,  0.01666667],\n",
      "       [ 0.03750002,  0.06249997,  0.01666667],\n",
      "       [ 0.03750002,  0.07500002,  0.01666667],\n",
      "       [ 0.03749996,  0.08749998,  0.01666667],\n",
      "       [-0.95      ,  0.3       ,  0.01666667],\n",
      "       [-0.45      ,  0.        ,  0.81666666],\n",
      "       [-0.5125    ,  0.        ,  0.01666667],\n",
      "       [-0.01250005,  0.        ,  0.15      ],\n",
      "       [ 0.22500002,  0.        ,  0.01666667],\n",
      "       [ 0.75      ,  0.        ,  0.01666667],\n",
      "       [-0.9875    ,  0.        ,  0.3       ],\n",
      "       [ 0.01249999,  0.        ,  0.16666667],\n",
      "       [ 0.35000002,  0.        ,  0.01666667],\n",
      "       [ 1.4625    ,  0.        ,  0.01666667],\n",
      "       [ 0.15000004,  0.        ,  0.01666667],\n",
      "       [-0.375     ,  0.        ,  0.15      ],\n",
      "       [-0.6125    ,  0.        ,  0.01666667],\n",
      "       [ 0.        ,  0.4625    ,  0.48333332],\n",
      "       [ 0.        ,  0.525     ,  0.01666667],\n",
      "       [ 0.325     , -0.05000001,  0.06666667],\n",
      "       [ 0.3625    , -0.22500002,  0.01666667],\n",
      "       [ 0.02499998, -0.02499998,  0.01666667],\n",
      "       [ 0.01250005, -0.01249999,  0.01666667],\n",
      "       [ 0.03749996, -0.03750002,  0.01666667],\n",
      "       [ 0.05000001, -0.0625    ,  0.01666667],\n",
      "       [ 0.05000001, -0.07499999,  0.01666667],\n",
      "       [ 0.05000001, -0.11250001,  0.01666667],\n",
      "       [ 0.01249999, -0.02499998,  0.01666667],\n",
      "       [ 0.        ,  0.01249999,  0.03333334],\n",
      "       [ 0.        , -0.01249999,  0.05      ],\n",
      "       [ 0.        , -0.01250002,  0.01666667],\n",
      "       [ 0.01249999, -0.03749999,  0.1       ],\n",
      "       [ 0.03750002, -0.3125    ,  0.01666667],\n",
      "       [ 0.01249999,  0.        ,  0.01666667],\n",
      "       [-0.40000004,  0.        ,  0.01666667],\n",
      "       [-0.5875    ,  0.        ,  0.01666667],\n",
      "       [-0.6625    ,  0.        ,  0.1       ],\n",
      "       [-0.325     ,  0.        ,  0.01666667],\n",
      "       [ 0.01249999,  0.        ,  0.05      ],\n",
      "       [-0.01249999,  0.        ,  0.03333334],\n",
      "       [ 0.17500001,  0.        ,  0.01666667],\n",
      "       [ 0.8125    , -0.6375    ,  0.01666667],\n",
      "       [ 0.75      ,  0.        ,  0.01666667],\n",
      "       [ 0.03750002,  0.03749996,  0.01666667],\n",
      "       [ 0.07499999,  0.11250001,  0.01666667],\n",
      "       [-0.8625    ,  0.4875    ,  0.01666667],\n",
      "       [-0.95      ,  0.2875    ,  0.01666667],\n",
      "       [-0.01249999, -0.2875    ,  0.01666667],\n",
      "       [-0.02500004,  0.        ,  0.01666667],\n",
      "       [ 0.21250004,  0.        ,  0.01666667],\n",
      "       [ 1.5       , -0.6625    ,  0.01666667],\n",
      "       [ 0.08749998,  0.10000002,  0.01666667],\n",
      "       [-0.02499998, -0.05000001,  0.01666667],\n",
      "       [-0.7875    ,  0.6125    ,  0.01666667],\n",
      "       [-0.9875    ,  0.        ,  0.01666667],\n",
      "       [ 0.675     , -0.3375    ,  0.03333334],\n",
      "       [ 1.0375    , -0.3375    ,  0.01666667],\n",
      "       [-0.05000001, -0.05000001,  0.01666667],\n",
      "       [-1.1375    ,  0.31250003,  0.01666667],\n",
      "       [-0.525     ,  0.4125    ,  0.01666667],\n",
      "       [ 0.01249999,  0.        ,  0.23333333],\n",
      "       [-0.01249999,  0.        ,  0.05      ],\n",
      "       [ 0.03750002, -0.2875    ,  0.4       ],\n",
      "       [ 0.25      , -0.4125    ,  0.01666667],\n",
      "       [ 0.02499998, -0.02500004,  0.01666667],\n",
      "       [ 0.01249999, -0.01249999,  0.01666667],\n",
      "       [ 0.17500001, -0.125     ,  0.01666667],\n",
      "       [ 0.4875    , -0.125     ,  0.01666667],\n",
      "       [ 0.3375    ,  0.05000001,  0.01666667],\n",
      "       [ 0.4125    ,  0.28750002,  0.01666667],\n",
      "       [ 0.23750001,  0.65      ,  0.01666667],\n",
      "       [-0.1875    ,  0.5875    ,  0.01666667],\n",
      "       [-0.03750002,  0.05000001,  0.01666667],\n",
      "       [ 0.07499999, -0.09999996,  0.01666667],\n",
      "       [ 0.13750005, -0.5375    ,  0.01666667],\n",
      "       [ 0.01249999,  0.        ,  0.01666667],\n",
      "       [-0.02500004,  0.        ,  0.03333334],\n",
      "       [-0.125     , -0.525     ,  0.01666667],\n",
      "       [-0.13749999, -0.17500001,  0.01666667],\n",
      "       [ 0.01249999,  0.01249999,  0.01666667],\n",
      "       [ 0.02500004,  0.02499998,  0.01666667],\n",
      "       [-0.02500004, -0.02499998,  0.03333334],\n",
      "       [-0.04999995, -0.05000001,  0.01666667],\n",
      "       [-0.0625    , -0.05000001,  0.01666667],\n",
      "       [-0.05000001, -0.03749996,  0.01666667],\n",
      "       [-0.07500002, -0.05000001,  0.01666667],\n",
      "       [-0.11249998, -0.05000001,  0.01666667],\n",
      "       [-0.3625    , -0.05000001,  0.01666667],\n",
      "       [ 0.        , -0.01249999,  0.01666667],\n",
      "       [ 0.        , -0.01249999,  0.96666664],\n",
      "       [ 0.        ,  0.01249999,  0.01666667],\n",
      "       [-0.6375    ,  0.22500002,  0.06666667],\n",
      "       [-0.05000001,  0.05000001,  0.01666667],\n",
      "       [-0.01249999,  0.01249999,  0.65      ],\n",
      "       [ 0.1875    ,  0.08749998,  0.01666667],\n",
      "       [ 0.5125    ,  0.6125    ,  0.01666667],\n",
      "       [ 0.        , -0.2875    ,  0.05      ],\n",
      "       [ 0.        , -0.70000005,  0.01666667],\n",
      "       [-0.6625    ,  0.25      ,  0.08333334],\n",
      "       [-0.02499998,  0.02500004,  0.01666667],\n",
      "       [ 0.01249999, -0.01250005,  0.03333334],\n",
      "       [-0.01249999,  0.01250005,  0.33333334],\n",
      "       [-0.02499998,  0.02499998,  0.01666667],\n",
      "       [ 0.01249999, -0.01249999,  0.05      ],\n",
      "       [ 0.02499998, -0.02500004,  0.01666667],\n",
      "       [-0.01249999,  0.01250005,  0.03333334],\n",
      "       [ 0.01249999, -0.01250005,  0.1       ],\n",
      "       [-0.01249999,  0.01250005,  0.05      ],\n",
      "       [-0.02499998,  0.02499998,  0.05      ],\n",
      "       [-0.05000001,  0.0625    ,  0.01666667],\n",
      "       [-0.10000002,  0.15      ,  0.01666667],\n",
      "       [ 0.13749999,  0.475     ,  0.01666667],\n",
      "       [ 0.725     ,  0.        ,  0.01666667],\n",
      "       [ 0.        , -0.625     ,  0.01666667],\n",
      "       [ 0.6125    , -0.16250002,  0.01666667],\n",
      "       [-0.01249999,  0.        ,  0.01666667],\n",
      "       [-0.3       , -0.16249996,  0.01666667],\n",
      "       [-0.3       , -0.03750002,  0.01666667],\n",
      "       [ 0.        ,  0.01249999,  0.03333334],\n",
      "       [ 0.3       ,  0.675     ,  0.01666667],\n",
      "       [-0.3       ,  0.3       ,  0.01666667],\n",
      "       [ 0.2875    ,  0.        ,  0.01666667],\n",
      "       [ 0.08750001,  0.        ,  0.01666667],\n",
      "       [ 0.0625    ,  0.        ,  0.01666667],\n",
      "       [-0.01249999,  0.        ,  0.01666667],\n",
      "       [-0.425     ,  0.        ,  0.01666667],\n",
      "       [ 0.8875    , -0.4375    ,  0.2       ],\n",
      "       [ 0.02500004,  0.03749999,  0.01666667],\n",
      "       [ 0.        ,  0.01250002,  0.01666667],\n",
      "       [ 0.0625    ,  0.3875    ,  0.01666667],\n",
      "       [ 0.01249999,  0.        ,  0.01666667],\n",
      "       [-0.3625    ,  0.        ,  0.21666667],\n",
      "       [-0.11250001, -0.3625    ,  0.01666667],\n",
      "       [ 0.125     , -0.39999998,  0.01666667],\n",
      "       [-0.14999998, -0.10000002,  0.01666667],\n",
      "       [-0.4875    , -0.125     ,  0.01666667],\n",
      "       [ 0.3375    ,  0.23750001,  0.45      ],\n",
      "       [-0.3375    ,  0.75      ,  0.01666667],\n",
      "       [ 0.625     ,  0.        ,  0.23333333],\n",
      "       [ 0.375     ,  0.        ,  0.01666667],\n",
      "       [-0.01249999,  0.        ,  0.03333334],\n",
      "       [ 0.01249999,  0.        ,  0.5       ],\n",
      "       [-0.0625    , -0.325     ,  0.01666667],\n",
      "       [-0.19999999, -0.33750004,  0.01666667],\n",
      "       [-0.02500004, -0.02499998,  0.01666667],\n",
      "       [-0.08749998, -0.08749998,  0.01666667],\n",
      "       [-0.3125    , -0.16250002,  0.01666667],\n",
      "       [-0.3125    , -0.05000001,  0.01666667],\n",
      "       [ 0.        , -0.01249999,  0.05      ],\n",
      "       [ 0.        ,  0.01249999,  0.01666667],\n",
      "       [ 0.        ,  0.02500004,  0.01666667],\n",
      "       [-0.525     ,  0.125     ,  0.01666667],\n",
      "       [-0.15000004,  0.11249995,  0.01666667],\n",
      "       [-0.01249999,  0.01250005,  0.01666667],\n",
      "       [ 0.01249999, -0.01250005,  0.06666667],\n",
      "       [ 0.01249999, -0.01249999,  0.01666667],\n",
      "       [ 0.10000002, -0.08749998,  0.01666667],\n",
      "       [ 0.19999999, -0.10000002,  0.01666667],\n",
      "       [ 0.3625    , -0.02499998,  0.01666667],\n",
      "       [ 0.        , -0.01249999,  0.01666667],\n",
      "       [ 0.        , -0.01250005,  0.05      ],\n",
      "       [ 0.        , -0.01249999,  0.03333334],\n",
      "       [ 0.        ,  0.5625    ,  0.05      ],\n",
      "       [ 0.        ,  0.425     ,  0.01666667],\n",
      "       [ 0.525     ,  0.3375    ,  0.18333334],\n",
      "       [ 0.375     ,  0.07499999,  0.01666667],\n",
      "       [ 0.01250005, -0.02500001,  0.01666667]], dtype=float32)\n",
      "train_x[0].shape= (180, 3), (train_x.shape)=(12574, 180, 3)\n",
      "\n",
      "\n",
      "train_y[0]=array([0., 0., 0., 0., 0., 0., 0., 0., 1., 0., 0., 0., 0., 0., 0., 0., 0.,\n",
      "       0.]), len(train_y)=12574\n"
     ]
    }
   ],
   "source": [
    "train_x, train_y = (np.array([x.to_numpy(dtype=np.float32) for (x, _) in train], dtype=np.float32), np.array([y for (_, y) in train]))\n",
    "valid_x, valid_y =(np.array([x.to_numpy(dtype=np.float32) for (x, _) in valid], dtype=np.float32), np.array([y for (_, y) in valid]))\n",
    "test_x, test_y = (np.array([x.to_numpy(dtype=np.float32) for (x, _) in test], dtype=np.float32), np.array([y for (_, y) in test]))\n",
    "\n",
    "print(f'{train_x[0]=}\\n{train_x[0].shape= }, {(train_x.shape)=}\\n')\n",
    "print(f'\\n{train_y[0]=}, {len(train_y)=}')"
   ]
  },
  {
   "cell_type": "markdown",
   "metadata": {},
   "source": [
    "### Define the model"
   ]
  },
  {
   "cell_type": "code",
   "execution_count": 10,
   "metadata": {},
   "outputs": [
    {
     "name": "stderr",
     "output_type": "stream",
     "text": [
      "2024-05-01 10:56:50.497185: I tensorflow/core/platform/cpu_feature_guard.cc:182] This TensorFlow binary is optimized to use available CPU instructions in performance-critical operations.\n",
      "To enable the following instructions: AVX2 FMA, in other operations, rebuild TensorFlow with the appropriate compiler flags.\n"
     ]
    }
   ],
   "source": [
    "import tensorflow as tf\n",
    "import tensorflow.keras as keras\n",
    "from tensorflow.keras.models import Model\n",
    "from tensorflow.keras.layers import Input, Conv1D, ELU, Dropout, Dense, Concatenate, Flatten, GRU, LSTM"
   ]
  },
  {
   "cell_type": "code",
   "execution_count": 11,
   "metadata": {},
   "outputs": [
    {
     "name": "stdout",
     "output_type": "stream",
     "text": [
      "1 Physical GPUs, 1 Logical GPUs\n"
     ]
    },
    {
     "name": "stderr",
     "output_type": "stream",
     "text": [
      "2024-05-01 10:56:51.913807: I tensorflow/compiler/xla/stream_executor/rocm/rocm_gpu_executor.cc:838] successful NUMA node read from SysFS had negative value (-1), but there must be at least one NUMA node, so returning NUMA node zero\n",
      "2024-05-01 10:56:51.931030: I tensorflow/compiler/xla/stream_executor/rocm/rocm_gpu_executor.cc:838] successful NUMA node read from SysFS had negative value (-1), but there must be at least one NUMA node, so returning NUMA node zero\n",
      "2024-05-01 10:56:51.931082: I tensorflow/compiler/xla/stream_executor/rocm/rocm_gpu_executor.cc:838] successful NUMA node read from SysFS had negative value (-1), but there must be at least one NUMA node, so returning NUMA node zero\n",
      "2024-05-01 10:56:51.932137: I tensorflow/compiler/xla/stream_executor/rocm/rocm_gpu_executor.cc:838] successful NUMA node read from SysFS had negative value (-1), but there must be at least one NUMA node, so returning NUMA node zero\n",
      "2024-05-01 10:56:51.932204: I tensorflow/compiler/xla/stream_executor/rocm/rocm_gpu_executor.cc:838] successful NUMA node read from SysFS had negative value (-1), but there must be at least one NUMA node, so returning NUMA node zero\n",
      "2024-05-01 10:56:51.932238: I tensorflow/compiler/xla/stream_executor/rocm/rocm_gpu_executor.cc:838] successful NUMA node read from SysFS had negative value (-1), but there must be at least one NUMA node, so returning NUMA node zero\n",
      "2024-05-01 10:56:51.932323: I tensorflow/compiler/xla/stream_executor/rocm/rocm_gpu_executor.cc:838] successful NUMA node read from SysFS had negative value (-1), but there must be at least one NUMA node, so returning NUMA node zero\n",
      "2024-05-01 10:56:51.932363: I tensorflow/compiler/xla/stream_executor/rocm/rocm_gpu_executor.cc:838] successful NUMA node read from SysFS had negative value (-1), but there must be at least one NUMA node, so returning NUMA node zero\n",
      "2024-05-01 10:56:51.932399: I tensorflow/compiler/xla/stream_executor/rocm/rocm_gpu_executor.cc:838] successful NUMA node read from SysFS had negative value (-1), but there must be at least one NUMA node, so returning NUMA node zero\n",
      "2024-05-01 10:56:51.932418: I tensorflow/core/common_runtime/gpu/gpu_device.cc:1639] Created device /job:localhost/replica:0/task:0/device:GPU:0 with 11164 MB memory:  -> device: 0, name: AMD Radeon RX 6700 XT, pci bus id: 0000:2d:00.0\n"
     ]
    }
   ],
   "source": [
    "gpus = tf.config.list_physical_devices('GPU')\n",
    "if gpus:\n",
    "  try:\n",
    "    # Currently, memory growth needs to be the same across GPUs\n",
    "    for gpu in gpus:\n",
    "      tf.config.experimental.set_memory_growth(gpu, True)\n",
    "    logical_gpus = tf.config.list_logical_devices('GPU')\n",
    "    print(len(gpus), \"Physical GPUs,\", len(logical_gpus), \"Logical GPUs\")\n",
    "  except RuntimeError as e:\n",
    "    # Memory growth must be set before GPUs have been initialized\n",
    "    print(e)"
   ]
  },
  {
   "cell_type": "code",
   "execution_count": 12,
   "metadata": {},
   "outputs": [
    {
     "name": "stderr",
     "output_type": "stream",
     "text": [
      "2024-05-01 10:56:52.138508: I tensorflow/core/common_runtime/gpu_fusion_pass.cc:508] ROCm Fusion is enabled.\n",
      "2024-05-01 10:56:52.139988: I tensorflow/core/common_runtime/gpu_fusion_pass.cc:508] ROCm Fusion is enabled.\n",
      "2024-05-01 10:56:52.189986: I tensorflow/core/common_runtime/gpu_fusion_pass.cc:508] ROCm Fusion is enabled.\n",
      "2024-05-01 10:56:52.193400: I tensorflow/core/common_runtime/gpu_fusion_pass.cc:508] ROCm Fusion is enabled.\n",
      "2024-05-01 10:56:52.195906: I tensorflow/core/common_runtime/gpu_fusion_pass.cc:508] ROCm Fusion is enabled.\n",
      "2024-05-01 10:56:52.197804: I tensorflow/core/common_runtime/gpu_fusion_pass.cc:508] ROCm Fusion is enabled.\n",
      "2024-05-01 10:56:52.199771: I tensorflow/core/common_runtime/gpu_fusion_pass.cc:508] ROCm Fusion is enabled.\n",
      "2024-05-01 10:56:52.201632: I tensorflow/core/common_runtime/gpu_fusion_pass.cc:508] ROCm Fusion is enabled.\n",
      "2024-05-01 10:56:52.202175: I tensorflow/core/common_runtime/gpu_fusion_pass.cc:508] ROCm Fusion is enabled.\n",
      "2024-05-01 10:56:52.203383: I tensorflow/core/common_runtime/gpu_fusion_pass.cc:508] ROCm Fusion is enabled.\n",
      "2024-05-01 10:56:52.206991: I tensorflow/core/common_runtime/gpu_fusion_pass.cc:508] ROCm Fusion is enabled.\n",
      "2024-05-01 10:56:52.207522: I tensorflow/core/common_runtime/gpu_fusion_pass.cc:508] ROCm Fusion is enabled.\n",
      "2024-05-01 10:56:52.215542: I tensorflow/core/common_runtime/gpu_fusion_pass.cc:508] ROCm Fusion is enabled.\n",
      "2024-05-01 10:56:52.216088: I tensorflow/core/common_runtime/gpu_fusion_pass.cc:508] ROCm Fusion is enabled.\n",
      "2024-05-01 10:56:52.227232: I tensorflow/core/common_runtime/gpu_fusion_pass.cc:508] ROCm Fusion is enabled.\n",
      "2024-05-01 10:56:52.227813: I tensorflow/core/common_runtime/gpu_fusion_pass.cc:508] ROCm Fusion is enabled.\n",
      "2024-05-01 10:56:52.245190: I tensorflow/core/common_runtime/gpu_fusion_pass.cc:508] ROCm Fusion is enabled.\n",
      "2024-05-01 10:56:52.245716: I tensorflow/core/common_runtime/gpu_fusion_pass.cc:508] ROCm Fusion is enabled.\n",
      "2024-05-01 10:56:52.246976: I tensorflow/core/common_runtime/gpu_fusion_pass.cc:508] ROCm Fusion is enabled.\n",
      "2024-05-01 10:56:52.247783: I tensorflow/core/common_runtime/gpu_fusion_pass.cc:508] ROCm Fusion is enabled.\n",
      "2024-05-01 10:56:52.248790: I tensorflow/core/common_runtime/gpu_fusion_pass.cc:508] ROCm Fusion is enabled.\n",
      "2024-05-01 10:56:52.250337: I tensorflow/core/common_runtime/gpu_fusion_pass.cc:508] ROCm Fusion is enabled.\n",
      "2024-05-01 10:56:52.253549: I tensorflow/core/common_runtime/gpu_fusion_pass.cc:508] ROCm Fusion is enabled.\n",
      "2024-05-01 10:56:52.257744: I tensorflow/core/common_runtime/gpu_fusion_pass.cc:508] ROCm Fusion is enabled.\n",
      "2024-05-01 10:56:52.260768: I tensorflow/core/common_runtime/gpu_fusion_pass.cc:508] ROCm Fusion is enabled.\n",
      "2024-05-01 10:56:52.261412: I tensorflow/core/common_runtime/gpu_fusion_pass.cc:508] ROCm Fusion is enabled.\n",
      "2024-05-01 10:56:52.261924: I tensorflow/core/common_runtime/gpu_fusion_pass.cc:508] ROCm Fusion is enabled.\n"
     ]
    },
    {
     "name": "stdout",
     "output_type": "stream",
     "text": [
      "Model: \"model\"\n",
      "__________________________________________________________________________________________________\n",
      " Layer (type)                Output Shape                 Param #   Connected to                  \n",
      "==================================================================================================\n",
      " input_1 (InputLayer)        [(None, 180, 3)]             0         []                            \n",
      "                                                                                                  \n",
      " conv1d (Conv1D)             (None, 87, 32)               704       ['input_1[0][0]']             \n",
      "                                                                                                  \n",
      " conv1d_1 (Conv1D)           (None, 178, 32)              320       ['input_1[0][0]']             \n",
      "                                                                                                  \n",
      " concatenate (Concatenate)   (None, 265, 32)              0         ['conv1d[0][0]',              \n",
      "                                                                     'conv1d_1[0][0]']            \n",
      "                                                                                                  \n",
      " elu_2 (ELU)                 (None, 265, 32)              0         ['concatenate[0][0]']         \n",
      "                                                                                                  \n",
      " conv1d_2 (Conv1D)           (None, 264, 32)              2080      ['elu_2[0][0]']               \n",
      "                                                                                                  \n",
      " conv1d_3 (Conv1D)           (None, 263, 32)              2080      ['conv1d_2[0][0]']            \n",
      "                                                                                                  \n",
      " dropout (Dropout)           (None, 263, 32)              0         ['conv1d_3[0][0]']            \n",
      "                                                                                                  \n",
      " lstm (LSTM)                 (None, 263, 32)              8320      ['dropout[0][0]']             \n",
      "                                                                                                  \n",
      " lstm_1 (LSTM)               (None, 32)                   8320      ['lstm[0][0]']                \n",
      "                                                                                                  \n",
      " dropout_1 (Dropout)         (None, 32)                   0         ['lstm_1[0][0]']              \n",
      "                                                                                                  \n",
      " dense (Dense)               (None, 18)                   594       ['dropout_1[0][0]']           \n",
      "                                                                                                  \n",
      "==================================================================================================\n",
      "Total params: 22418 (87.57 KB)\n",
      "Trainable params: 22418 (87.57 KB)\n",
      "Non-trainable params: 0 (0.00 Byte)\n",
      "__________________________________________________________________________________________________\n"
     ]
    },
    {
     "name": "stderr",
     "output_type": "stream",
     "text": [
      "2024-05-01 10:56:52.473343: I tensorflow/core/common_runtime/gpu_fusion_pass.cc:508] ROCm Fusion is enabled.\n",
      "2024-05-01 10:56:52.474052: I tensorflow/core/common_runtime/gpu_fusion_pass.cc:508] ROCm Fusion is enabled.\n",
      "2024-05-01 10:56:52.474827: I tensorflow/core/common_runtime/gpu_fusion_pass.cc:508] ROCm Fusion is enabled.\n",
      "2024-05-01 10:56:52.475309: I tensorflow/core/common_runtime/gpu_fusion_pass.cc:508] ROCm Fusion is enabled.\n",
      "2024-05-01 10:56:52.478819: I tensorflow/core/common_runtime/gpu_fusion_pass.cc:508] ROCm Fusion is enabled.\n",
      "2024-05-01 10:56:52.479416: I tensorflow/core/common_runtime/gpu_fusion_pass.cc:508] ROCm Fusion is enabled.\n",
      "2024-05-01 10:56:52.479907: I tensorflow/core/common_runtime/gpu_fusion_pass.cc:508] ROCm Fusion is enabled.\n",
      "2024-05-01 10:56:52.484693: I tensorflow/core/common_runtime/gpu_fusion_pass.cc:508] ROCm Fusion is enabled.\n",
      "2024-05-01 10:56:52.485216: I tensorflow/core/common_runtime/gpu_fusion_pass.cc:508] ROCm Fusion is enabled.\n"
     ]
    }
   ],
   "source": [
    "def createClassifier(width=3, seq_len=SEQ_LEN):\n",
    "    input_layer = Input(shape=(seq_len, width))\n",
    "    conv1 = Conv1D(filters=32, kernel_size=7, strides=2, activation=ELU())(input_layer)\n",
    "    conv2 = Conv1D(filters=32, kernel_size=3, strides=1, activation=ELU())(input_layer)\n",
    "    \n",
    "    catted = Concatenate(axis=1)([conv1, conv2])\n",
    "    elu1 = ELU(32)(catted)\n",
    "    conv3 = Conv1D(filters=32, kernel_size=2, strides=1, activation=ELU())(elu1)\n",
    "    conv4 = Conv1D(filters=32, kernel_size=2, strides=1, activation=ELU())(conv3)\n",
    "    drop1 = Dropout(0.2)(conv4)\n",
    "\n",
    "    lstm1 = LSTM(32, return_sequences=True)(drop1)\n",
    "    lstm2 = LSTM(32)(lstm1)\n",
    "    drop2 = Dropout(0.2)(lstm2)\n",
    "\n",
    "    output = Dense(len(players_set), activation='softmax')(drop2)\n",
    "\n",
    "    model = Model(inputs=input_layer, outputs=output)\n",
    "    model.compile(loss='categorical_crossentropy', optimizer='adam', metrics=['accuracy'])\n",
    "    return model\n",
    "\n",
    "model = createClassifier(3)\n",
    "model.summary()"
   ]
  },
  {
   "cell_type": "code",
   "execution_count": 13,
   "metadata": {},
   "outputs": [
    {
     "name": "stdout",
     "output_type": "stream",
     "text": [
      "Epoch 1/60\n"
     ]
    },
    {
     "name": "stderr",
     "output_type": "stream",
     "text": [
      "2024-05-01 10:56:52.530904: I tensorflow/core/common_runtime/gpu_fusion_pass.cc:508] ROCm Fusion is enabled.\n",
      "2024-05-01 10:56:52.531991: I tensorflow/core/common_runtime/gpu_fusion_pass.cc:508] ROCm Fusion is enabled.\n",
      "2024-05-01 10:56:52.537221: I tensorflow/core/common_runtime/gpu_fusion_pass.cc:508] ROCm Fusion is enabled.\n",
      "2024-05-01 10:56:52.538112: I tensorflow/core/common_runtime/gpu_fusion_pass.cc:508] ROCm Fusion is enabled.\n",
      "2024-05-01 10:56:52.547825: I tensorflow/core/common_runtime/gpu_fusion_pass.cc:508] ROCm Fusion is enabled.\n",
      "2024-05-01 10:56:52.549351: I tensorflow/core/common_runtime/gpu_fusion_pass.cc:508] ROCm Fusion is enabled.\n",
      "2024-05-01 10:56:52.556489: I tensorflow/core/common_runtime/gpu_fusion_pass.cc:508] ROCm Fusion is enabled.\n",
      "2024-05-01 10:56:52.557746: I tensorflow/core/common_runtime/gpu_fusion_pass.cc:508] ROCm Fusion is enabled.\n",
      "2024-05-01 10:56:52.562871: I tensorflow/core/common_runtime/gpu_fusion_pass.cc:508] ROCm Fusion is enabled.\n",
      "2024-05-01 10:56:52.563688: I tensorflow/core/common_runtime/gpu_fusion_pass.cc:508] ROCm Fusion is enabled.\n",
      "2024-05-01 10:56:52.564371: I tensorflow/core/common_runtime/gpu_fusion_pass.cc:508] ROCm Fusion is enabled.\n",
      "2024-05-01 10:56:52.565082: I tensorflow/core/common_runtime/gpu_fusion_pass.cc:508] ROCm Fusion is enabled.\n",
      "2024-05-01 10:56:52.565687: I tensorflow/core/common_runtime/gpu_fusion_pass.cc:508] ROCm Fusion is enabled.\n",
      "2024-05-01 10:56:52.566175: I tensorflow/core/common_runtime/gpu_fusion_pass.cc:508] ROCm Fusion is enabled.\n",
      "2024-05-01 10:56:52.570049: I tensorflow/core/common_runtime/gpu_fusion_pass.cc:508] ROCm Fusion is enabled.\n",
      "2024-05-01 10:56:52.571045: I tensorflow/core/common_runtime/gpu_fusion_pass.cc:508] ROCm Fusion is enabled.\n",
      "2024-05-01 10:56:52.571484: I tensorflow/core/common_runtime/gpu_fusion_pass.cc:508] ROCm Fusion is enabled.\n",
      "2024-05-01 10:56:52.598509: I tensorflow/core/common_runtime/gpu_fusion_pass.cc:508] ROCm Fusion is enabled.\n",
      "2024-05-01 10:56:52.602392: I tensorflow/core/common_runtime/gpu_fusion_pass.cc:508] ROCm Fusion is enabled.\n",
      "2024-05-01 10:56:52.605353: I tensorflow/core/common_runtime/gpu_fusion_pass.cc:508] ROCm Fusion is enabled.\n",
      "2024-05-01 10:56:54.353311: I tensorflow/core/common_runtime/gpu_fusion_pass.cc:508] ROCm Fusion is enabled.\n",
      "2024-05-01 10:56:54.537163: I tensorflow/core/common_runtime/gpu_fusion_pass.cc:508] ROCm Fusion is enabled.\n",
      "2024-05-01 10:56:54.806428: I tensorflow/core/common_runtime/gpu_fusion_pass.cc:508] ROCm Fusion is enabled.\n",
      "2024-05-01 10:56:55.044605: I tensorflow/compiler/xla/service/service.cc:168] XLA service 0x7f21ee1e5450 initialized for platform ROCM (this does not guarantee that XLA will be used). Devices:\n",
      "2024-05-01 10:56:55.044633: I tensorflow/compiler/xla/service/service.cc:176]   StreamExecutor device (0): AMD Radeon RX 6700 XT, AMDGPU ISA version: gfx1030\n",
      "2024-05-01 10:56:55.047635: I tensorflow/compiler/mlir/tensorflow/utils/dump_mlir_util.cc:255] disabling MLIR crash reproducer, set env var `MLIR_CRASH_REPRODUCER_DIRECTORY` to enable.\n",
      "2024-05-01 10:56:55.230172: I ./tensorflow/compiler/jit/device_compiler.h:186] Compiled cluster using XLA!  This line is logged at most once for the lifetime of the process.\n",
      "2024-05-01 10:56:55.637575: I tensorflow/core/common_runtime/gpu_fusion_pass.cc:508] ROCm Fusion is enabled.\n",
      "2024-05-01 10:56:55.701135: I tensorflow/core/common_runtime/gpu_fusion_pass.cc:508] ROCm Fusion is enabled.\n"
     ]
    },
    {
     "name": "stdout",
     "output_type": "stream",
     "text": [
      "197/197 [==============================] - ETA: 0s - loss: 2.7379 - accuracy: 0.1298"
     ]
    },
    {
     "name": "stderr",
     "output_type": "stream",
     "text": [
      "2024-05-01 10:57:02.378354: I tensorflow/core/common_runtime/gpu_fusion_pass.cc:508] ROCm Fusion is enabled.\n",
      "2024-05-01 10:57:02.379505: I tensorflow/core/common_runtime/gpu_fusion_pass.cc:508] ROCm Fusion is enabled.\n",
      "2024-05-01 10:57:02.380551: I tensorflow/core/common_runtime/gpu_fusion_pass.cc:508] ROCm Fusion is enabled.\n",
      "2024-05-01 10:57:02.393664: I tensorflow/core/common_runtime/gpu_fusion_pass.cc:508] ROCm Fusion is enabled.\n",
      "2024-05-01 10:57:02.395305: I tensorflow/core/common_runtime/gpu_fusion_pass.cc:508] ROCm Fusion is enabled.\n",
      "2024-05-01 10:57:02.407300: I tensorflow/core/common_runtime/gpu_fusion_pass.cc:508] ROCm Fusion is enabled.\n",
      "2024-05-01 10:57:02.409373: I tensorflow/core/common_runtime/gpu_fusion_pass.cc:508] ROCm Fusion is enabled.\n",
      "2024-05-01 10:57:02.412510: I tensorflow/core/common_runtime/gpu_fusion_pass.cc:508] ROCm Fusion is enabled.\n",
      "2024-05-01 10:57:02.413685: I tensorflow/core/common_runtime/gpu_fusion_pass.cc:508] ROCm Fusion is enabled.\n",
      "2024-05-01 10:57:02.422908: I tensorflow/core/common_runtime/gpu_fusion_pass.cc:508] ROCm Fusion is enabled.\n",
      "2024-05-01 10:57:02.424357: I tensorflow/core/common_runtime/gpu_fusion_pass.cc:508] ROCm Fusion is enabled.\n",
      "2024-05-01 10:57:02.434492: I tensorflow/core/common_runtime/gpu_fusion_pass.cc:508] ROCm Fusion is enabled.\n",
      "2024-05-01 10:57:02.442123: I tensorflow/core/common_runtime/gpu_fusion_pass.cc:508] ROCm Fusion is enabled.\n",
      "2024-05-01 10:57:02.447912: I tensorflow/core/common_runtime/gpu_fusion_pass.cc:508] ROCm Fusion is enabled.\n",
      "2024-05-01 10:57:02.450015: I tensorflow/core/common_runtime/gpu_fusion_pass.cc:508] ROCm Fusion is enabled.\n",
      "2024-05-01 10:57:02.845343: I tensorflow/core/common_runtime/gpu_fusion_pass.cc:508] ROCm Fusion is enabled.\n",
      "2024-05-01 10:57:02.869933: I tensorflow/core/common_runtime/gpu_fusion_pass.cc:508] ROCm Fusion is enabled.\n",
      "2024-05-01 10:57:02.894499: I tensorflow/core/common_runtime/gpu_fusion_pass.cc:508] ROCm Fusion is enabled.\n"
     ]
    },
    {
     "name": "stdout",
     "output_type": "stream",
     "text": [
      "197/197 [==============================] - 11s 35ms/step - loss: 2.7379 - accuracy: 0.1298 - val_loss: 2.4866 - val_accuracy: 0.1744\n",
      "Epoch 2/60\n",
      "197/197 [==============================] - ETA: 0s - loss: 2.5007 - accuracy: 0.1740"
     ]
    },
    {
     "name": "stderr",
     "output_type": "stream",
     "text": [
      "2024-05-01 10:57:09.589837: I tensorflow/core/common_runtime/gpu_fusion_pass.cc:508] ROCm Fusion is enabled.\n",
      "2024-05-01 10:57:09.597973: I tensorflow/core/common_runtime/gpu_fusion_pass.cc:508] ROCm Fusion is enabled.\n",
      "2024-05-01 10:57:09.603779: I tensorflow/core/common_runtime/gpu_fusion_pass.cc:508] ROCm Fusion is enabled.\n"
     ]
    },
    {
     "name": "stdout",
     "output_type": "stream",
     "text": [
      "197/197 [==============================] - 7s 34ms/step - loss: 2.5007 - accuracy: 0.1740 - val_loss: 2.4454 - val_accuracy: 0.2128\n",
      "Epoch 3/60\n",
      "196/197 [============================>.] - ETA: 0s - loss: 2.3464 - accuracy: 0.2152"
     ]
    },
    {
     "name": "stderr",
     "output_type": "stream",
     "text": [
      "2024-05-01 10:57:16.388534: I tensorflow/core/common_runtime/gpu_fusion_pass.cc:508] ROCm Fusion is enabled.\n",
      "2024-05-01 10:57:16.397017: I tensorflow/core/common_runtime/gpu_fusion_pass.cc:508] ROCm Fusion is enabled.\n",
      "2024-05-01 10:57:16.403424: I tensorflow/core/common_runtime/gpu_fusion_pass.cc:508] ROCm Fusion is enabled.\n"
     ]
    },
    {
     "name": "stdout",
     "output_type": "stream",
     "text": [
      "197/197 [==============================] - 7s 34ms/step - loss: 2.3465 - accuracy: 0.2153 - val_loss: 2.2664 - val_accuracy: 0.2493\n",
      "Epoch 4/60\n",
      "197/197 [==============================] - ETA: 0s - loss: 2.2901 - accuracy: 0.2352"
     ]
    },
    {
     "name": "stderr",
     "output_type": "stream",
     "text": [
      "2024-05-01 10:57:22.958795: I tensorflow/core/common_runtime/gpu_fusion_pass.cc:508] ROCm Fusion is enabled.\n",
      "2024-05-01 10:57:22.967198: I tensorflow/core/common_runtime/gpu_fusion_pass.cc:508] ROCm Fusion is enabled.\n",
      "2024-05-01 10:57:22.973838: I tensorflow/core/common_runtime/gpu_fusion_pass.cc:508] ROCm Fusion is enabled.\n"
     ]
    },
    {
     "name": "stdout",
     "output_type": "stream",
     "text": [
      "197/197 [==============================] - 6s 33ms/step - loss: 2.2901 - accuracy: 0.2352 - val_loss: 2.1179 - val_accuracy: 0.2849\n",
      "Epoch 5/60\n",
      "196/197 [============================>.] - ETA: 0s - loss: 2.2038 - accuracy: 0.2506"
     ]
    },
    {
     "name": "stderr",
     "output_type": "stream",
     "text": [
      "2024-05-01 10:57:29.068084: I tensorflow/core/common_runtime/gpu_fusion_pass.cc:508] ROCm Fusion is enabled.\n",
      "2024-05-01 10:57:29.071770: I tensorflow/core/common_runtime/gpu_fusion_pass.cc:508] ROCm Fusion is enabled.\n",
      "2024-05-01 10:57:29.074624: I tensorflow/core/common_runtime/gpu_fusion_pass.cc:508] ROCm Fusion is enabled.\n"
     ]
    },
    {
     "name": "stdout",
     "output_type": "stream",
     "text": [
      "197/197 [==============================] - 6s 31ms/step - loss: 2.2043 - accuracy: 0.2505 - val_loss: 2.1008 - val_accuracy: 0.3049\n",
      "Epoch 6/60\n",
      "196/197 [============================>.] - ETA: 0s - loss: 2.0940 - accuracy: 0.2980"
     ]
    },
    {
     "name": "stderr",
     "output_type": "stream",
     "text": [
      "2024-05-01 10:57:35.655272: I tensorflow/core/common_runtime/gpu_fusion_pass.cc:508] ROCm Fusion is enabled.\n",
      "2024-05-01 10:57:35.662728: I tensorflow/core/common_runtime/gpu_fusion_pass.cc:508] ROCm Fusion is enabled.\n",
      "2024-05-01 10:57:35.668378: I tensorflow/core/common_runtime/gpu_fusion_pass.cc:508] ROCm Fusion is enabled.\n"
     ]
    },
    {
     "name": "stdout",
     "output_type": "stream",
     "text": [
      "197/197 [==============================] - 7s 33ms/step - loss: 2.0931 - accuracy: 0.2982 - val_loss: 1.9350 - val_accuracy: 0.3381\n",
      "Epoch 7/60\n",
      "196/197 [============================>.] - ETA: 0s - loss: 1.9070 - accuracy: 0.3429"
     ]
    },
    {
     "name": "stderr",
     "output_type": "stream",
     "text": [
      "2024-05-01 10:57:42.037954: I tensorflow/core/common_runtime/gpu_fusion_pass.cc:508] ROCm Fusion is enabled.\n",
      "2024-05-01 10:57:42.041954: I tensorflow/core/common_runtime/gpu_fusion_pass.cc:508] ROCm Fusion is enabled.\n",
      "2024-05-01 10:57:42.044947: I tensorflow/core/common_runtime/gpu_fusion_pass.cc:508] ROCm Fusion is enabled.\n"
     ]
    },
    {
     "name": "stdout",
     "output_type": "stream",
     "text": [
      "197/197 [==============================] - 6s 32ms/step - loss: 1.9064 - accuracy: 0.3432 - val_loss: 1.7892 - val_accuracy: 0.3863\n",
      "Epoch 8/60\n",
      "196/197 [============================>.] - ETA: 0s - loss: 1.7937 - accuracy: 0.3758"
     ]
    },
    {
     "name": "stderr",
     "output_type": "stream",
     "text": [
      "2024-05-01 10:57:48.503918: I tensorflow/core/common_runtime/gpu_fusion_pass.cc:508] ROCm Fusion is enabled.\n",
      "2024-05-01 10:57:48.507805: I tensorflow/core/common_runtime/gpu_fusion_pass.cc:508] ROCm Fusion is enabled.\n",
      "2024-05-01 10:57:48.510818: I tensorflow/core/common_runtime/gpu_fusion_pass.cc:508] ROCm Fusion is enabled.\n"
     ]
    },
    {
     "name": "stdout",
     "output_type": "stream",
     "text": [
      "197/197 [==============================] - 6s 33ms/step - loss: 1.7940 - accuracy: 0.3757 - val_loss: 1.7294 - val_accuracy: 0.4006\n",
      "Epoch 9/60\n",
      "197/197 [==============================] - ETA: 0s - loss: 1.7066 - accuracy: 0.4071"
     ]
    },
    {
     "name": "stderr",
     "output_type": "stream",
     "text": [
      "2024-05-01 10:57:54.704513: I tensorflow/core/common_runtime/gpu_fusion_pass.cc:508] ROCm Fusion is enabled.\n",
      "2024-05-01 10:57:54.708380: I tensorflow/core/common_runtime/gpu_fusion_pass.cc:508] ROCm Fusion is enabled.\n",
      "2024-05-01 10:57:54.711253: I tensorflow/core/common_runtime/gpu_fusion_pass.cc:508] ROCm Fusion is enabled.\n"
     ]
    },
    {
     "name": "stdout",
     "output_type": "stream",
     "text": [
      "197/197 [==============================] - 6s 31ms/step - loss: 1.7066 - accuracy: 0.4071 - val_loss: 1.6164 - val_accuracy: 0.4338\n",
      "Epoch 10/60\n",
      "196/197 [============================>.] - ETA: 0s - loss: 1.6373 - accuracy: 0.4257"
     ]
    },
    {
     "name": "stderr",
     "output_type": "stream",
     "text": [
      "2024-05-01 10:58:00.977652: I tensorflow/core/common_runtime/gpu_fusion_pass.cc:508] ROCm Fusion is enabled.\n",
      "2024-05-01 10:58:00.985305: I tensorflow/core/common_runtime/gpu_fusion_pass.cc:508] ROCm Fusion is enabled.\n",
      "2024-05-01 10:58:00.991154: I tensorflow/core/common_runtime/gpu_fusion_pass.cc:508] ROCm Fusion is enabled.\n"
     ]
    },
    {
     "name": "stdout",
     "output_type": "stream",
     "text": [
      "197/197 [==============================] - 6s 32ms/step - loss: 1.6374 - accuracy: 0.4255 - val_loss: 1.5436 - val_accuracy: 0.4593\n",
      "Epoch 11/60\n",
      "196/197 [============================>.] - ETA: 0s - loss: 1.7764 - accuracy: 0.3870"
     ]
    },
    {
     "name": "stderr",
     "output_type": "stream",
     "text": [
      "2024-05-01 10:58:07.278250: I tensorflow/core/common_runtime/gpu_fusion_pass.cc:508] ROCm Fusion is enabled.\n",
      "2024-05-01 10:58:07.285857: I tensorflow/core/common_runtime/gpu_fusion_pass.cc:508] ROCm Fusion is enabled.\n",
      "2024-05-01 10:58:07.291737: I tensorflow/core/common_runtime/gpu_fusion_pass.cc:508] ROCm Fusion is enabled.\n"
     ]
    },
    {
     "name": "stdout",
     "output_type": "stream",
     "text": [
      "197/197 [==============================] - 6s 32ms/step - loss: 1.7769 - accuracy: 0.3868 - val_loss: 1.6641 - val_accuracy: 0.4223\n",
      "Epoch 12/60\n",
      "196/197 [============================>.] - ETA: 0s - loss: 1.5784 - accuracy: 0.4479"
     ]
    },
    {
     "name": "stderr",
     "output_type": "stream",
     "text": [
      "2024-05-01 10:58:13.583444: I tensorflow/core/common_runtime/gpu_fusion_pass.cc:508] ROCm Fusion is enabled.\n",
      "2024-05-01 10:58:13.590938: I tensorflow/core/common_runtime/gpu_fusion_pass.cc:508] ROCm Fusion is enabled.\n",
      "2024-05-01 10:58:13.597202: I tensorflow/core/common_runtime/gpu_fusion_pass.cc:508] ROCm Fusion is enabled.\n"
     ]
    },
    {
     "name": "stdout",
     "output_type": "stream",
     "text": [
      "197/197 [==============================] - 6s 32ms/step - loss: 1.5783 - accuracy: 0.4481 - val_loss: 1.5296 - val_accuracy: 0.4567\n",
      "Epoch 13/60\n",
      "196/197 [============================>.] - ETA: 0s - loss: 1.5543 - accuracy: 0.4621"
     ]
    },
    {
     "name": "stderr",
     "output_type": "stream",
     "text": [
      "2024-05-01 10:58:19.950317: I tensorflow/core/common_runtime/gpu_fusion_pass.cc:508] ROCm Fusion is enabled.\n",
      "2024-05-01 10:58:19.957664: I tensorflow/core/common_runtime/gpu_fusion_pass.cc:508] ROCm Fusion is enabled.\n",
      "2024-05-01 10:58:19.963451: I tensorflow/core/common_runtime/gpu_fusion_pass.cc:508] ROCm Fusion is enabled.\n"
     ]
    },
    {
     "name": "stdout",
     "output_type": "stream",
     "text": [
      "197/197 [==============================] - 6s 32ms/step - loss: 1.5542 - accuracy: 0.4622 - val_loss: 1.5728 - val_accuracy: 0.4471\n",
      "Epoch 14/60\n",
      "196/197 [============================>.] - ETA: 0s - loss: 1.4730 - accuracy: 0.4865"
     ]
    },
    {
     "name": "stderr",
     "output_type": "stream",
     "text": [
      "2024-05-01 10:58:26.081156: I tensorflow/core/common_runtime/gpu_fusion_pass.cc:508] ROCm Fusion is enabled.\n",
      "2024-05-01 10:58:26.088546: I tensorflow/core/common_runtime/gpu_fusion_pass.cc:508] ROCm Fusion is enabled.\n",
      "2024-05-01 10:58:26.094287: I tensorflow/core/common_runtime/gpu_fusion_pass.cc:508] ROCm Fusion is enabled.\n"
     ]
    },
    {
     "name": "stdout",
     "output_type": "stream",
     "text": [
      "197/197 [==============================] - 6s 31ms/step - loss: 1.4730 - accuracy: 0.4864 - val_loss: 1.3473 - val_accuracy: 0.5152\n",
      "Epoch 15/60\n",
      "197/197 [==============================] - ETA: 0s - loss: 1.4107 - accuracy: 0.5070"
     ]
    },
    {
     "name": "stderr",
     "output_type": "stream",
     "text": [
      "2024-05-01 10:58:32.296656: I tensorflow/core/common_runtime/gpu_fusion_pass.cc:508] ROCm Fusion is enabled.\n",
      "2024-05-01 10:58:32.301120: I tensorflow/core/common_runtime/gpu_fusion_pass.cc:508] ROCm Fusion is enabled.\n",
      "2024-05-01 10:58:32.304642: I tensorflow/core/common_runtime/gpu_fusion_pass.cc:508] ROCm Fusion is enabled.\n"
     ]
    },
    {
     "name": "stdout",
     "output_type": "stream",
     "text": [
      "197/197 [==============================] - 6s 31ms/step - loss: 1.4107 - accuracy: 0.5070 - val_loss: 1.3213 - val_accuracy: 0.5283\n",
      "Epoch 16/60\n",
      "197/197 [==============================] - ETA: 0s - loss: 1.3546 - accuracy: 0.5242"
     ]
    },
    {
     "name": "stderr",
     "output_type": "stream",
     "text": [
      "2024-05-01 10:58:38.785623: I tensorflow/core/common_runtime/gpu_fusion_pass.cc:508] ROCm Fusion is enabled.\n",
      "2024-05-01 10:58:38.789448: I tensorflow/core/common_runtime/gpu_fusion_pass.cc:508] ROCm Fusion is enabled.\n",
      "2024-05-01 10:58:38.792450: I tensorflow/core/common_runtime/gpu_fusion_pass.cc:508] ROCm Fusion is enabled.\n"
     ]
    },
    {
     "name": "stdout",
     "output_type": "stream",
     "text": [
      "197/197 [==============================] - 7s 33ms/step - loss: 1.3546 - accuracy: 0.5242 - val_loss: 1.4830 - val_accuracy: 0.4822\n",
      "Epoch 17/60\n",
      "196/197 [============================>.] - ETA: 0s - loss: 1.3354 - accuracy: 0.5358"
     ]
    },
    {
     "name": "stderr",
     "output_type": "stream",
     "text": [
      "2024-05-01 10:58:45.030597: I tensorflow/core/common_runtime/gpu_fusion_pass.cc:508] ROCm Fusion is enabled.\n",
      "2024-05-01 10:58:45.038253: I tensorflow/core/common_runtime/gpu_fusion_pass.cc:508] ROCm Fusion is enabled.\n",
      "2024-05-01 10:58:45.044477: I tensorflow/core/common_runtime/gpu_fusion_pass.cc:508] ROCm Fusion is enabled.\n"
     ]
    },
    {
     "name": "stdout",
     "output_type": "stream",
     "text": [
      "197/197 [==============================] - 6s 32ms/step - loss: 1.3359 - accuracy: 0.5356 - val_loss: 1.2632 - val_accuracy: 0.5517\n",
      "Epoch 18/60\n",
      "197/197 [==============================] - ETA: 0s - loss: 1.2312 - accuracy: 0.5782"
     ]
    },
    {
     "name": "stderr",
     "output_type": "stream",
     "text": [
      "2024-05-01 10:58:51.191667: I tensorflow/core/common_runtime/gpu_fusion_pass.cc:508] ROCm Fusion is enabled.\n",
      "2024-05-01 10:58:51.199835: I tensorflow/core/common_runtime/gpu_fusion_pass.cc:508] ROCm Fusion is enabled.\n",
      "2024-05-01 10:58:51.206337: I tensorflow/core/common_runtime/gpu_fusion_pass.cc:508] ROCm Fusion is enabled.\n"
     ]
    },
    {
     "name": "stdout",
     "output_type": "stream",
     "text": [
      "197/197 [==============================] - 6s 31ms/step - loss: 1.2312 - accuracy: 0.5782 - val_loss: 1.1356 - val_accuracy: 0.6018\n",
      "Epoch 19/60\n",
      "196/197 [============================>.] - ETA: 0s - loss: 1.1848 - accuracy: 0.5906"
     ]
    },
    {
     "name": "stderr",
     "output_type": "stream",
     "text": [
      "2024-05-01 10:58:57.521872: I tensorflow/core/common_runtime/gpu_fusion_pass.cc:508] ROCm Fusion is enabled.\n",
      "2024-05-01 10:58:57.525726: I tensorflow/core/common_runtime/gpu_fusion_pass.cc:508] ROCm Fusion is enabled.\n",
      "2024-05-01 10:58:57.528727: I tensorflow/core/common_runtime/gpu_fusion_pass.cc:508] ROCm Fusion is enabled.\n"
     ]
    },
    {
     "name": "stdout",
     "output_type": "stream",
     "text": [
      "197/197 [==============================] - 6s 32ms/step - loss: 1.1853 - accuracy: 0.5905 - val_loss: 1.1420 - val_accuracy: 0.5996\n",
      "Epoch 20/60\n",
      "197/197 [==============================] - ETA: 0s - loss: 1.1388 - accuracy: 0.6097"
     ]
    },
    {
     "name": "stderr",
     "output_type": "stream",
     "text": [
      "2024-05-01 10:59:03.803291: I tensorflow/core/common_runtime/gpu_fusion_pass.cc:508] ROCm Fusion is enabled.\n",
      "2024-05-01 10:59:03.810699: I tensorflow/core/common_runtime/gpu_fusion_pass.cc:508] ROCm Fusion is enabled.\n",
      "2024-05-01 10:59:03.816395: I tensorflow/core/common_runtime/gpu_fusion_pass.cc:508] ROCm Fusion is enabled.\n"
     ]
    },
    {
     "name": "stdout",
     "output_type": "stream",
     "text": [
      "197/197 [==============================] - 6s 33ms/step - loss: 1.1388 - accuracy: 0.6097 - val_loss: 1.0998 - val_accuracy: 0.6173\n",
      "Epoch 21/60\n",
      "196/197 [============================>.] - ETA: 0s - loss: 1.0914 - accuracy: 0.6243"
     ]
    },
    {
     "name": "stderr",
     "output_type": "stream",
     "text": [
      "2024-05-01 10:59:10.064872: I tensorflow/core/common_runtime/gpu_fusion_pass.cc:508] ROCm Fusion is enabled.\n",
      "2024-05-01 10:59:10.068805: I tensorflow/core/common_runtime/gpu_fusion_pass.cc:508] ROCm Fusion is enabled.\n",
      "2024-05-01 10:59:10.071806: I tensorflow/core/common_runtime/gpu_fusion_pass.cc:508] ROCm Fusion is enabled.\n"
     ]
    },
    {
     "name": "stdout",
     "output_type": "stream",
     "text": [
      "197/197 [==============================] - 6s 31ms/step - loss: 1.0917 - accuracy: 0.6242 - val_loss: 1.0158 - val_accuracy: 0.6464\n",
      "Epoch 22/60\n",
      "197/197 [==============================] - ETA: 0s - loss: 1.0216 - accuracy: 0.6499"
     ]
    },
    {
     "name": "stderr",
     "output_type": "stream",
     "text": [
      "2024-05-01 10:59:16.392658: I tensorflow/core/common_runtime/gpu_fusion_pass.cc:508] ROCm Fusion is enabled.\n",
      "2024-05-01 10:59:16.401210: I tensorflow/core/common_runtime/gpu_fusion_pass.cc:508] ROCm Fusion is enabled.\n",
      "2024-05-01 10:59:16.407358: I tensorflow/core/common_runtime/gpu_fusion_pass.cc:508] ROCm Fusion is enabled.\n"
     ]
    },
    {
     "name": "stdout",
     "output_type": "stream",
     "text": [
      "197/197 [==============================] - 6s 32ms/step - loss: 1.0216 - accuracy: 0.6499 - val_loss: 1.0167 - val_accuracy: 0.6531\n",
      "Epoch 23/60\n",
      "197/197 [==============================] - ETA: 0s - loss: 1.0057 - accuracy: 0.6601"
     ]
    },
    {
     "name": "stderr",
     "output_type": "stream",
     "text": [
      "2024-05-01 10:59:22.650152: I tensorflow/core/common_runtime/gpu_fusion_pass.cc:508] ROCm Fusion is enabled.\n",
      "2024-05-01 10:59:22.659535: I tensorflow/core/common_runtime/gpu_fusion_pass.cc:508] ROCm Fusion is enabled.\n",
      "2024-05-01 10:59:22.666819: I tensorflow/core/common_runtime/gpu_fusion_pass.cc:508] ROCm Fusion is enabled.\n"
     ]
    },
    {
     "name": "stdout",
     "output_type": "stream",
     "text": [
      "197/197 [==============================] - 6s 32ms/step - loss: 1.0057 - accuracy: 0.6601 - val_loss: 0.9312 - val_accuracy: 0.6831\n",
      "Epoch 24/60\n",
      "195/197 [============================>.] - ETA: 0s - loss: 0.9588 - accuracy: 0.6744"
     ]
    },
    {
     "name": "stderr",
     "output_type": "stream",
     "text": [
      "2024-05-01 10:59:28.735075: I tensorflow/core/common_runtime/gpu_fusion_pass.cc:508] ROCm Fusion is enabled.\n",
      "2024-05-01 10:59:28.738877: I tensorflow/core/common_runtime/gpu_fusion_pass.cc:508] ROCm Fusion is enabled.\n",
      "2024-05-01 10:59:28.741787: I tensorflow/core/common_runtime/gpu_fusion_pass.cc:508] ROCm Fusion is enabled.\n"
     ]
    },
    {
     "name": "stdout",
     "output_type": "stream",
     "text": [
      "197/197 [==============================] - 6s 31ms/step - loss: 0.9597 - accuracy: 0.6742 - val_loss: 0.9213 - val_accuracy: 0.6843\n",
      "Epoch 25/60\n",
      "195/197 [============================>.] - ETA: 0s - loss: 0.9109 - accuracy: 0.6927"
     ]
    },
    {
     "name": "stderr",
     "output_type": "stream",
     "text": [
      "2024-05-01 10:59:34.810956: I tensorflow/core/common_runtime/gpu_fusion_pass.cc:508] ROCm Fusion is enabled.\n",
      "2024-05-01 10:59:34.814802: I tensorflow/core/common_runtime/gpu_fusion_pass.cc:508] ROCm Fusion is enabled.\n",
      "2024-05-01 10:59:34.817766: I tensorflow/core/common_runtime/gpu_fusion_pass.cc:508] ROCm Fusion is enabled.\n"
     ]
    },
    {
     "name": "stdout",
     "output_type": "stream",
     "text": [
      "197/197 [==============================] - 6s 31ms/step - loss: 0.9107 - accuracy: 0.6925 - val_loss: 0.8552 - val_accuracy: 0.7032\n",
      "Epoch 26/60\n",
      "197/197 [==============================] - ETA: 0s - loss: 0.8916 - accuracy: 0.7018"
     ]
    },
    {
     "name": "stderr",
     "output_type": "stream",
     "text": [
      "2024-05-01 10:59:41.099036: I tensorflow/core/common_runtime/gpu_fusion_pass.cc:508] ROCm Fusion is enabled.\n",
      "2024-05-01 10:59:41.102881: I tensorflow/core/common_runtime/gpu_fusion_pass.cc:508] ROCm Fusion is enabled.\n",
      "2024-05-01 10:59:41.105922: I tensorflow/core/common_runtime/gpu_fusion_pass.cc:508] ROCm Fusion is enabled.\n"
     ]
    },
    {
     "name": "stdout",
     "output_type": "stream",
     "text": [
      "197/197 [==============================] - 6s 32ms/step - loss: 0.8916 - accuracy: 0.7018 - val_loss: 0.8013 - val_accuracy: 0.7213\n",
      "Epoch 27/60\n",
      "195/197 [============================>.] - ETA: 0s - loss: 0.8589 - accuracy: 0.7114"
     ]
    },
    {
     "name": "stderr",
     "output_type": "stream",
     "text": [
      "2024-05-01 10:59:47.342816: I tensorflow/core/common_runtime/gpu_fusion_pass.cc:508] ROCm Fusion is enabled.\n",
      "2024-05-01 10:59:47.351479: I tensorflow/core/common_runtime/gpu_fusion_pass.cc:508] ROCm Fusion is enabled.\n",
      "2024-05-01 10:59:47.357450: I tensorflow/core/common_runtime/gpu_fusion_pass.cc:508] ROCm Fusion is enabled.\n"
     ]
    },
    {
     "name": "stdout",
     "output_type": "stream",
     "text": [
      "197/197 [==============================] - 6s 32ms/step - loss: 0.8580 - accuracy: 0.7116 - val_loss: 0.9106 - val_accuracy: 0.6965\n",
      "Epoch 28/60\n",
      "197/197 [==============================] - ETA: 0s - loss: 0.8247 - accuracy: 0.7218"
     ]
    },
    {
     "name": "stderr",
     "output_type": "stream",
     "text": [
      "2024-05-01 10:59:53.750309: I tensorflow/core/common_runtime/gpu_fusion_pass.cc:508] ROCm Fusion is enabled.\n",
      "2024-05-01 10:59:53.754161: I tensorflow/core/common_runtime/gpu_fusion_pass.cc:508] ROCm Fusion is enabled.\n",
      "2024-05-01 10:59:53.757103: I tensorflow/core/common_runtime/gpu_fusion_pass.cc:508] ROCm Fusion is enabled.\n"
     ]
    },
    {
     "name": "stdout",
     "output_type": "stream",
     "text": [
      "197/197 [==============================] - 6s 32ms/step - loss: 0.8247 - accuracy: 0.7218 - val_loss: 0.7536 - val_accuracy: 0.7437\n",
      "Epoch 29/60\n",
      "197/197 [==============================] - ETA: 0s - loss: 0.8059 - accuracy: 0.7309"
     ]
    },
    {
     "name": "stderr",
     "output_type": "stream",
     "text": [
      "2024-05-01 11:00:00.188780: I tensorflow/core/common_runtime/gpu_fusion_pass.cc:508] ROCm Fusion is enabled.\n",
      "2024-05-01 11:00:00.196365: I tensorflow/core/common_runtime/gpu_fusion_pass.cc:508] ROCm Fusion is enabled.\n",
      "2024-05-01 11:00:00.202205: I tensorflow/core/common_runtime/gpu_fusion_pass.cc:508] ROCm Fusion is enabled.\n"
     ]
    },
    {
     "name": "stdout",
     "output_type": "stream",
     "text": [
      "197/197 [==============================] - 6s 32ms/step - loss: 0.8059 - accuracy: 0.7309 - val_loss: 0.7485 - val_accuracy: 0.7437\n",
      "Epoch 30/60\n",
      "195/197 [============================>.] - ETA: 0s - loss: 0.7717 - accuracy: 0.7442"
     ]
    },
    {
     "name": "stderr",
     "output_type": "stream",
     "text": [
      "2024-05-01 11:00:06.299330: I tensorflow/core/common_runtime/gpu_fusion_pass.cc:508] ROCm Fusion is enabled.\n",
      "2024-05-01 11:00:06.303236: I tensorflow/core/common_runtime/gpu_fusion_pass.cc:508] ROCm Fusion is enabled.\n",
      "2024-05-01 11:00:06.306229: I tensorflow/core/common_runtime/gpu_fusion_pass.cc:508] ROCm Fusion is enabled.\n"
     ]
    },
    {
     "name": "stdout",
     "output_type": "stream",
     "text": [
      "197/197 [==============================] - 6s 31ms/step - loss: 0.7713 - accuracy: 0.7445 - val_loss: 0.7353 - val_accuracy: 0.7447\n",
      "Epoch 31/60\n",
      "197/197 [==============================] - ETA: 0s - loss: 0.7549 - accuracy: 0.7500"
     ]
    },
    {
     "name": "stderr",
     "output_type": "stream",
     "text": [
      "2024-05-01 11:00:12.599217: I tensorflow/core/common_runtime/gpu_fusion_pass.cc:508] ROCm Fusion is enabled.\n",
      "2024-05-01 11:00:12.603002: I tensorflow/core/common_runtime/gpu_fusion_pass.cc:508] ROCm Fusion is enabled.\n",
      "2024-05-01 11:00:12.606132: I tensorflow/core/common_runtime/gpu_fusion_pass.cc:508] ROCm Fusion is enabled.\n"
     ]
    },
    {
     "name": "stdout",
     "output_type": "stream",
     "text": [
      "197/197 [==============================] - 6s 32ms/step - loss: 0.7549 - accuracy: 0.7500 - val_loss: 0.7216 - val_accuracy: 0.7554\n",
      "Epoch 32/60\n",
      "196/197 [============================>.] - ETA: 0s - loss: 0.7290 - accuracy: 0.7549"
     ]
    },
    {
     "name": "stderr",
     "output_type": "stream",
     "text": [
      "2024-05-01 11:00:18.879680: I tensorflow/core/common_runtime/gpu_fusion_pass.cc:508] ROCm Fusion is enabled.\n",
      "2024-05-01 11:00:18.883620: I tensorflow/core/common_runtime/gpu_fusion_pass.cc:508] ROCm Fusion is enabled.\n",
      "2024-05-01 11:00:18.886553: I tensorflow/core/common_runtime/gpu_fusion_pass.cc:508] ROCm Fusion is enabled.\n"
     ]
    },
    {
     "name": "stdout",
     "output_type": "stream",
     "text": [
      "197/197 [==============================] - 6s 32ms/step - loss: 0.7285 - accuracy: 0.7552 - val_loss: 0.7065 - val_accuracy: 0.7628\n",
      "Epoch 33/60\n",
      "196/197 [============================>.] - ETA: 0s - loss: 0.7117 - accuracy: 0.7652"
     ]
    },
    {
     "name": "stderr",
     "output_type": "stream",
     "text": [
      "2024-05-01 11:00:25.145183: I tensorflow/core/common_runtime/gpu_fusion_pass.cc:508] ROCm Fusion is enabled.\n",
      "2024-05-01 11:00:25.152953: I tensorflow/core/common_runtime/gpu_fusion_pass.cc:508] ROCm Fusion is enabled.\n",
      "2024-05-01 11:00:25.158966: I tensorflow/core/common_runtime/gpu_fusion_pass.cc:508] ROCm Fusion is enabled.\n"
     ]
    },
    {
     "name": "stdout",
     "output_type": "stream",
     "text": [
      "197/197 [==============================] - 6s 32ms/step - loss: 0.7121 - accuracy: 0.7652 - val_loss: 0.7121 - val_accuracy: 0.7619\n",
      "Epoch 34/60\n",
      "196/197 [============================>.] - ETA: 0s - loss: 0.6841 - accuracy: 0.7729"
     ]
    },
    {
     "name": "stderr",
     "output_type": "stream",
     "text": [
      "2024-05-01 11:00:31.499271: I tensorflow/core/common_runtime/gpu_fusion_pass.cc:508] ROCm Fusion is enabled.\n",
      "2024-05-01 11:00:31.503200: I tensorflow/core/common_runtime/gpu_fusion_pass.cc:508] ROCm Fusion is enabled.\n",
      "2024-05-01 11:00:31.506234: I tensorflow/core/common_runtime/gpu_fusion_pass.cc:508] ROCm Fusion is enabled.\n"
     ]
    },
    {
     "name": "stdout",
     "output_type": "stream",
     "text": [
      "197/197 [==============================] - 6s 32ms/step - loss: 0.6833 - accuracy: 0.7732 - val_loss: 0.6419 - val_accuracy: 0.7824\n",
      "Epoch 35/60\n",
      "196/197 [============================>.] - ETA: 0s - loss: 0.6592 - accuracy: 0.7824"
     ]
    },
    {
     "name": "stderr",
     "output_type": "stream",
     "text": [
      "2024-05-01 11:00:37.542456: I tensorflow/core/common_runtime/gpu_fusion_pass.cc:508] ROCm Fusion is enabled.\n",
      "2024-05-01 11:00:37.550282: I tensorflow/core/common_runtime/gpu_fusion_pass.cc:508] ROCm Fusion is enabled.\n",
      "2024-05-01 11:00:37.556278: I tensorflow/core/common_runtime/gpu_fusion_pass.cc:508] ROCm Fusion is enabled.\n"
     ]
    },
    {
     "name": "stdout",
     "output_type": "stream",
     "text": [
      "197/197 [==============================] - 6s 31ms/step - loss: 0.6595 - accuracy: 0.7823 - val_loss: 0.6451 - val_accuracy: 0.7857\n",
      "Epoch 36/60\n",
      "196/197 [============================>.] - ETA: 0s - loss: 0.6612 - accuracy: 0.7837"
     ]
    },
    {
     "name": "stderr",
     "output_type": "stream",
     "text": [
      "2024-05-01 11:00:43.704308: I tensorflow/core/common_runtime/gpu_fusion_pass.cc:508] ROCm Fusion is enabled.\n",
      "2024-05-01 11:00:43.711781: I tensorflow/core/common_runtime/gpu_fusion_pass.cc:508] ROCm Fusion is enabled.\n",
      "2024-05-01 11:00:43.717567: I tensorflow/core/common_runtime/gpu_fusion_pass.cc:508] ROCm Fusion is enabled.\n"
     ]
    },
    {
     "name": "stdout",
     "output_type": "stream",
     "text": [
      "197/197 [==============================] - 6s 31ms/step - loss: 0.6613 - accuracy: 0.7838 - val_loss: 0.6099 - val_accuracy: 0.7946\n",
      "Epoch 37/60\n",
      "195/197 [============================>.] - ETA: 0s - loss: 0.6192 - accuracy: 0.7966"
     ]
    },
    {
     "name": "stderr",
     "output_type": "stream",
     "text": [
      "2024-05-01 11:00:49.852621: I tensorflow/core/common_runtime/gpu_fusion_pass.cc:508] ROCm Fusion is enabled.\n",
      "2024-05-01 11:00:49.860154: I tensorflow/core/common_runtime/gpu_fusion_pass.cc:508] ROCm Fusion is enabled.\n",
      "2024-05-01 11:00:49.866019: I tensorflow/core/common_runtime/gpu_fusion_pass.cc:508] ROCm Fusion is enabled.\n"
     ]
    },
    {
     "name": "stdout",
     "output_type": "stream",
     "text": [
      "197/197 [==============================] - 6s 31ms/step - loss: 0.6197 - accuracy: 0.7962 - val_loss: 0.6160 - val_accuracy: 0.7905\n",
      "Epoch 38/60\n",
      "196/197 [============================>.] - ETA: 0s - loss: 0.6152 - accuracy: 0.7970"
     ]
    },
    {
     "name": "stderr",
     "output_type": "stream",
     "text": [
      "2024-05-01 11:00:56.236638: I tensorflow/core/common_runtime/gpu_fusion_pass.cc:508] ROCm Fusion is enabled.\n",
      "2024-05-01 11:00:56.244213: I tensorflow/core/common_runtime/gpu_fusion_pass.cc:508] ROCm Fusion is enabled.\n",
      "2024-05-01 11:00:56.250253: I tensorflow/core/common_runtime/gpu_fusion_pass.cc:508] ROCm Fusion is enabled.\n"
     ]
    },
    {
     "name": "stdout",
     "output_type": "stream",
     "text": [
      "197/197 [==============================] - 6s 33ms/step - loss: 0.6159 - accuracy: 0.7968 - val_loss: 0.6017 - val_accuracy: 0.8015\n",
      "Epoch 39/60\n",
      "196/197 [============================>.] - ETA: 0s - loss: 0.5910 - accuracy: 0.8080"
     ]
    },
    {
     "name": "stderr",
     "output_type": "stream",
     "text": [
      "2024-05-01 11:01:02.623773: I tensorflow/core/common_runtime/gpu_fusion_pass.cc:508] ROCm Fusion is enabled.\n",
      "2024-05-01 11:01:02.631235: I tensorflow/core/common_runtime/gpu_fusion_pass.cc:508] ROCm Fusion is enabled.\n",
      "2024-05-01 11:01:02.637045: I tensorflow/core/common_runtime/gpu_fusion_pass.cc:508] ROCm Fusion is enabled.\n"
     ]
    },
    {
     "name": "stdout",
     "output_type": "stream",
     "text": [
      "197/197 [==============================] - 6s 32ms/step - loss: 0.5907 - accuracy: 0.8079 - val_loss: 0.6789 - val_accuracy: 0.7748\n",
      "Epoch 40/60\n",
      "196/197 [============================>.] - ETA: 0s - loss: 0.5763 - accuracy: 0.8111"
     ]
    },
    {
     "name": "stderr",
     "output_type": "stream",
     "text": [
      "2024-05-01 11:01:08.755490: I tensorflow/core/common_runtime/gpu_fusion_pass.cc:508] ROCm Fusion is enabled.\n",
      "2024-05-01 11:01:08.759364: I tensorflow/core/common_runtime/gpu_fusion_pass.cc:508] ROCm Fusion is enabled.\n",
      "2024-05-01 11:01:08.762370: I tensorflow/core/common_runtime/gpu_fusion_pass.cc:508] ROCm Fusion is enabled.\n"
     ]
    },
    {
     "name": "stdout",
     "output_type": "stream",
     "text": [
      "197/197 [==============================] - 6s 31ms/step - loss: 0.5765 - accuracy: 0.8110 - val_loss: 0.6704 - val_accuracy: 0.7838\n",
      "Epoch 41/60\n",
      "197/197 [==============================] - ETA: 0s - loss: 0.5790 - accuracy: 0.8103"
     ]
    },
    {
     "name": "stderr",
     "output_type": "stream",
     "text": [
      "2024-05-01 11:01:15.095876: I tensorflow/core/common_runtime/gpu_fusion_pass.cc:508] ROCm Fusion is enabled.\n",
      "2024-05-01 11:01:15.103174: I tensorflow/core/common_runtime/gpu_fusion_pass.cc:508] ROCm Fusion is enabled.\n",
      "2024-05-01 11:01:15.108926: I tensorflow/core/common_runtime/gpu_fusion_pass.cc:508] ROCm Fusion is enabled.\n"
     ]
    },
    {
     "name": "stdout",
     "output_type": "stream",
     "text": [
      "197/197 [==============================] - 6s 32ms/step - loss: 0.5790 - accuracy: 0.8103 - val_loss: 0.5703 - val_accuracy: 0.8082\n",
      "Epoch 42/60\n",
      "195/197 [============================>.] - ETA: 0s - loss: 0.5331 - accuracy: 0.8255"
     ]
    },
    {
     "name": "stderr",
     "output_type": "stream",
     "text": [
      "2024-05-01 11:01:21.526347: I tensorflow/core/common_runtime/gpu_fusion_pass.cc:508] ROCm Fusion is enabled.\n",
      "2024-05-01 11:01:21.530372: I tensorflow/core/common_runtime/gpu_fusion_pass.cc:508] ROCm Fusion is enabled.\n",
      "2024-05-01 11:01:21.533347: I tensorflow/core/common_runtime/gpu_fusion_pass.cc:508] ROCm Fusion is enabled.\n"
     ]
    },
    {
     "name": "stdout",
     "output_type": "stream",
     "text": [
      "197/197 [==============================] - 6s 32ms/step - loss: 0.5334 - accuracy: 0.8253 - val_loss: 0.5490 - val_accuracy: 0.8168\n",
      "Epoch 43/60\n",
      "196/197 [============================>.] - ETA: 0s - loss: 0.5305 - accuracy: 0.8280"
     ]
    },
    {
     "name": "stderr",
     "output_type": "stream",
     "text": [
      "2024-05-01 11:01:27.690478: I tensorflow/core/common_runtime/gpu_fusion_pass.cc:508] ROCm Fusion is enabled.\n",
      "2024-05-01 11:01:27.697782: I tensorflow/core/common_runtime/gpu_fusion_pass.cc:508] ROCm Fusion is enabled.\n",
      "2024-05-01 11:01:27.703427: I tensorflow/core/common_runtime/gpu_fusion_pass.cc:508] ROCm Fusion is enabled.\n"
     ]
    },
    {
     "name": "stdout",
     "output_type": "stream",
     "text": [
      "197/197 [==============================] - 6s 32ms/step - loss: 0.5302 - accuracy: 0.8281 - val_loss: 0.5432 - val_accuracy: 0.8206\n",
      "Epoch 44/60\n",
      "196/197 [============================>.] - ETA: 0s - loss: 0.5230 - accuracy: 0.8290"
     ]
    },
    {
     "name": "stderr",
     "output_type": "stream",
     "text": [
      "2024-05-01 11:01:34.176044: I tensorflow/core/common_runtime/gpu_fusion_pass.cc:508] ROCm Fusion is enabled.\n",
      "2024-05-01 11:01:34.179844: I tensorflow/core/common_runtime/gpu_fusion_pass.cc:508] ROCm Fusion is enabled.\n",
      "2024-05-01 11:01:34.182803: I tensorflow/core/common_runtime/gpu_fusion_pass.cc:508] ROCm Fusion is enabled.\n"
     ]
    },
    {
     "name": "stdout",
     "output_type": "stream",
     "text": [
      "197/197 [==============================] - 6s 32ms/step - loss: 0.5228 - accuracy: 0.8289 - val_loss: 0.5782 - val_accuracy: 0.8127\n",
      "Epoch 45/60\n",
      "197/197 [==============================] - ETA: 0s - loss: 0.5158 - accuracy: 0.8324"
     ]
    },
    {
     "name": "stderr",
     "output_type": "stream",
     "text": [
      "2024-05-01 11:01:40.414437: I tensorflow/core/common_runtime/gpu_fusion_pass.cc:508] ROCm Fusion is enabled.\n",
      "2024-05-01 11:01:40.422514: I tensorflow/core/common_runtime/gpu_fusion_pass.cc:508] ROCm Fusion is enabled.\n",
      "2024-05-01 11:01:40.429618: I tensorflow/core/common_runtime/gpu_fusion_pass.cc:508] ROCm Fusion is enabled.\n"
     ]
    },
    {
     "name": "stdout",
     "output_type": "stream",
     "text": [
      "197/197 [==============================] - 6s 32ms/step - loss: 0.5158 - accuracy: 0.8324 - val_loss: 0.5180 - val_accuracy: 0.8318\n",
      "Epoch 46/60\n",
      "197/197 [==============================] - ETA: 0s - loss: 0.4966 - accuracy: 0.8414"
     ]
    },
    {
     "name": "stderr",
     "output_type": "stream",
     "text": [
      "2024-05-01 11:01:46.623088: I tensorflow/core/common_runtime/gpu_fusion_pass.cc:508] ROCm Fusion is enabled.\n",
      "2024-05-01 11:01:46.626866: I tensorflow/core/common_runtime/gpu_fusion_pass.cc:508] ROCm Fusion is enabled.\n",
      "2024-05-01 11:01:46.629794: I tensorflow/core/common_runtime/gpu_fusion_pass.cc:508] ROCm Fusion is enabled.\n"
     ]
    },
    {
     "name": "stdout",
     "output_type": "stream",
     "text": [
      "197/197 [==============================] - 6s 31ms/step - loss: 0.4966 - accuracy: 0.8414 - val_loss: 0.5524 - val_accuracy: 0.8184\n",
      "Epoch 47/60\n",
      "196/197 [============================>.] - ETA: 0s - loss: 0.4753 - accuracy: 0.8452"
     ]
    },
    {
     "name": "stderr",
     "output_type": "stream",
     "text": [
      "2024-05-01 11:01:52.810241: I tensorflow/core/common_runtime/gpu_fusion_pass.cc:508] ROCm Fusion is enabled.\n",
      "2024-05-01 11:01:52.814160: I tensorflow/core/common_runtime/gpu_fusion_pass.cc:508] ROCm Fusion is enabled.\n",
      "2024-05-01 11:01:52.817186: I tensorflow/core/common_runtime/gpu_fusion_pass.cc:508] ROCm Fusion is enabled.\n"
     ]
    },
    {
     "name": "stdout",
     "output_type": "stream",
     "text": [
      "197/197 [==============================] - 6s 31ms/step - loss: 0.4754 - accuracy: 0.8452 - val_loss: 0.5491 - val_accuracy: 0.8230\n",
      "Epoch 48/60\n",
      "197/197 [==============================] - ETA: 0s - loss: 0.4825 - accuracy: 0.8433"
     ]
    },
    {
     "name": "stderr",
     "output_type": "stream",
     "text": [
      "2024-05-01 11:01:58.656430: I tensorflow/core/common_runtime/gpu_fusion_pass.cc:508] ROCm Fusion is enabled.\n",
      "2024-05-01 11:01:58.660342: I tensorflow/core/common_runtime/gpu_fusion_pass.cc:508] ROCm Fusion is enabled.\n",
      "2024-05-01 11:01:58.663352: I tensorflow/core/common_runtime/gpu_fusion_pass.cc:508] ROCm Fusion is enabled.\n"
     ]
    },
    {
     "name": "stdout",
     "output_type": "stream",
     "text": [
      "197/197 [==============================] - 6s 30ms/step - loss: 0.4825 - accuracy: 0.8433 - val_loss: 0.6071 - val_accuracy: 0.8074\n",
      "Epoch 49/60\n",
      "197/197 [==============================] - ETA: 0s - loss: 0.4819 - accuracy: 0.8452"
     ]
    },
    {
     "name": "stderr",
     "output_type": "stream",
     "text": [
      "2024-05-01 11:02:04.796476: I tensorflow/core/common_runtime/gpu_fusion_pass.cc:508] ROCm Fusion is enabled.\n",
      "2024-05-01 11:02:04.804376: I tensorflow/core/common_runtime/gpu_fusion_pass.cc:508] ROCm Fusion is enabled.\n",
      "2024-05-01 11:02:04.811225: I tensorflow/core/common_runtime/gpu_fusion_pass.cc:508] ROCm Fusion is enabled.\n"
     ]
    },
    {
     "name": "stdout",
     "output_type": "stream",
     "text": [
      "197/197 [==============================] - 6s 31ms/step - loss: 0.4819 - accuracy: 0.8452 - val_loss: 0.4927 - val_accuracy: 0.8366\n",
      "Epoch 50/60\n",
      "196/197 [============================>.] - ETA: 0s - loss: 0.4583 - accuracy: 0.8517"
     ]
    },
    {
     "name": "stderr",
     "output_type": "stream",
     "text": [
      "2024-05-01 11:02:11.141936: I tensorflow/core/common_runtime/gpu_fusion_pass.cc:508] ROCm Fusion is enabled.\n",
      "2024-05-01 11:02:11.146141: I tensorflow/core/common_runtime/gpu_fusion_pass.cc:508] ROCm Fusion is enabled.\n",
      "2024-05-01 11:02:11.149508: I tensorflow/core/common_runtime/gpu_fusion_pass.cc:508] ROCm Fusion is enabled.\n"
     ]
    },
    {
     "name": "stdout",
     "output_type": "stream",
     "text": [
      "197/197 [==============================] - 6s 33ms/step - loss: 0.4586 - accuracy: 0.8515 - val_loss: 0.5166 - val_accuracy: 0.8268\n",
      "Epoch 51/60\n",
      "195/197 [============================>.] - ETA: 0s - loss: 0.4617 - accuracy: 0.8521"
     ]
    },
    {
     "name": "stderr",
     "output_type": "stream",
     "text": [
      "2024-05-01 11:02:17.292028: I tensorflow/core/common_runtime/gpu_fusion_pass.cc:508] ROCm Fusion is enabled.\n",
      "2024-05-01 11:02:17.296014: I tensorflow/core/common_runtime/gpu_fusion_pass.cc:508] ROCm Fusion is enabled.\n",
      "2024-05-01 11:02:17.299564: I tensorflow/core/common_runtime/gpu_fusion_pass.cc:508] ROCm Fusion is enabled.\n"
     ]
    },
    {
     "name": "stdout",
     "output_type": "stream",
     "text": [
      "197/197 [==============================] - 6s 31ms/step - loss: 0.4623 - accuracy: 0.8522 - val_loss: 0.5326 - val_accuracy: 0.8151\n",
      "Epoch 52/60\n",
      "196/197 [============================>.] - ETA: 0s - loss: 0.4354 - accuracy: 0.8589"
     ]
    },
    {
     "name": "stderr",
     "output_type": "stream",
     "text": [
      "2024-05-01 11:02:23.530801: I tensorflow/core/common_runtime/gpu_fusion_pass.cc:508] ROCm Fusion is enabled.\n",
      "2024-05-01 11:02:23.534659: I tensorflow/core/common_runtime/gpu_fusion_pass.cc:508] ROCm Fusion is enabled.\n",
      "2024-05-01 11:02:23.537683: I tensorflow/core/common_runtime/gpu_fusion_pass.cc:508] ROCm Fusion is enabled.\n"
     ]
    },
    {
     "name": "stdout",
     "output_type": "stream",
     "text": [
      "197/197 [==============================] - 6s 31ms/step - loss: 0.4351 - accuracy: 0.8588 - val_loss: 0.4461 - val_accuracy: 0.8511\n",
      "Epoch 53/60\n",
      "196/197 [============================>.] - ETA: 0s - loss: 0.4231 - accuracy: 0.8603"
     ]
    },
    {
     "name": "stderr",
     "output_type": "stream",
     "text": [
      "2024-05-01 11:02:29.521443: I tensorflow/core/common_runtime/gpu_fusion_pass.cc:508] ROCm Fusion is enabled.\n",
      "2024-05-01 11:02:29.525369: I tensorflow/core/common_runtime/gpu_fusion_pass.cc:508] ROCm Fusion is enabled.\n",
      "2024-05-01 11:02:29.528467: I tensorflow/core/common_runtime/gpu_fusion_pass.cc:508] ROCm Fusion is enabled.\n"
     ]
    },
    {
     "name": "stdout",
     "output_type": "stream",
     "text": [
      "197/197 [==============================] - 6s 31ms/step - loss: 0.4230 - accuracy: 0.8601 - val_loss: 0.4817 - val_accuracy: 0.8342\n",
      "Epoch 54/60\n",
      "196/197 [============================>.] - ETA: 0s - loss: 0.4136 - accuracy: 0.8656"
     ]
    },
    {
     "name": "stderr",
     "output_type": "stream",
     "text": [
      "2024-05-01 11:02:35.596416: I tensorflow/core/common_runtime/gpu_fusion_pass.cc:508] ROCm Fusion is enabled.\n",
      "2024-05-01 11:02:35.600412: I tensorflow/core/common_runtime/gpu_fusion_pass.cc:508] ROCm Fusion is enabled.\n",
      "2024-05-01 11:02:35.603336: I tensorflow/core/common_runtime/gpu_fusion_pass.cc:508] ROCm Fusion is enabled.\n"
     ]
    },
    {
     "name": "stdout",
     "output_type": "stream",
     "text": [
      "197/197 [==============================] - 6s 30ms/step - loss: 0.4136 - accuracy: 0.8655 - val_loss: 0.5302 - val_accuracy: 0.8330\n",
      "Epoch 55/60\n",
      "196/197 [============================>.] - ETA: 0s - loss: 0.4154 - accuracy: 0.8650"
     ]
    },
    {
     "name": "stderr",
     "output_type": "stream",
     "text": [
      "2024-05-01 11:02:41.584921: I tensorflow/core/common_runtime/gpu_fusion_pass.cc:508] ROCm Fusion is enabled.\n",
      "2024-05-01 11:02:41.592557: I tensorflow/core/common_runtime/gpu_fusion_pass.cc:508] ROCm Fusion is enabled.\n",
      "2024-05-01 11:02:41.598359: I tensorflow/core/common_runtime/gpu_fusion_pass.cc:508] ROCm Fusion is enabled.\n"
     ]
    },
    {
     "name": "stdout",
     "output_type": "stream",
     "text": [
      "197/197 [==============================] - 6s 31ms/step - loss: 0.4155 - accuracy: 0.8650 - val_loss: 0.5124 - val_accuracy: 0.8292\n",
      "Epoch 56/60\n",
      "197/197 [==============================] - ETA: 0s - loss: 0.4121 - accuracy: 0.8642"
     ]
    },
    {
     "name": "stderr",
     "output_type": "stream",
     "text": [
      "2024-05-01 11:02:47.962951: I tensorflow/core/common_runtime/gpu_fusion_pass.cc:508] ROCm Fusion is enabled.\n",
      "2024-05-01 11:02:47.971049: I tensorflow/core/common_runtime/gpu_fusion_pass.cc:508] ROCm Fusion is enabled.\n",
      "2024-05-01 11:02:47.978046: I tensorflow/core/common_runtime/gpu_fusion_pass.cc:508] ROCm Fusion is enabled.\n"
     ]
    },
    {
     "name": "stdout",
     "output_type": "stream",
     "text": [
      "197/197 [==============================] - 6s 32ms/step - loss: 0.4121 - accuracy: 0.8642 - val_loss: 0.4979 - val_accuracy: 0.8335\n",
      "Epoch 57/60\n",
      "197/197 [==============================] - ETA: 0s - loss: 0.3956 - accuracy: 0.8741"
     ]
    },
    {
     "name": "stderr",
     "output_type": "stream",
     "text": [
      "2024-05-01 11:02:53.954947: I tensorflow/core/common_runtime/gpu_fusion_pass.cc:508] ROCm Fusion is enabled.\n",
      "2024-05-01 11:02:53.963045: I tensorflow/core/common_runtime/gpu_fusion_pass.cc:508] ROCm Fusion is enabled.\n",
      "2024-05-01 11:02:53.969484: I tensorflow/core/common_runtime/gpu_fusion_pass.cc:508] ROCm Fusion is enabled.\n"
     ]
    },
    {
     "name": "stdout",
     "output_type": "stream",
     "text": [
      "197/197 [==============================] - 6s 30ms/step - loss: 0.3956 - accuracy: 0.8741 - val_loss: 0.4325 - val_accuracy: 0.8583\n",
      "Epoch 58/60\n",
      "197/197 [==============================] - ETA: 0s - loss: 0.3899 - accuracy: 0.8701"
     ]
    },
    {
     "name": "stderr",
     "output_type": "stream",
     "text": [
      "2024-05-01 11:03:00.090205: I tensorflow/core/common_runtime/gpu_fusion_pass.cc:508] ROCm Fusion is enabled.\n",
      "2024-05-01 11:03:00.094151: I tensorflow/core/common_runtime/gpu_fusion_pass.cc:508] ROCm Fusion is enabled.\n",
      "2024-05-01 11:03:00.097946: I tensorflow/core/common_runtime/gpu_fusion_pass.cc:508] ROCm Fusion is enabled.\n"
     ]
    },
    {
     "name": "stdout",
     "output_type": "stream",
     "text": [
      "197/197 [==============================] - 6s 31ms/step - loss: 0.3899 - accuracy: 0.8701 - val_loss: 0.4679 - val_accuracy: 0.8411\n",
      "Epoch 59/60\n",
      "197/197 [==============================] - ETA: 0s - loss: 0.3943 - accuracy: 0.8735"
     ]
    },
    {
     "name": "stderr",
     "output_type": "stream",
     "text": [
      "2024-05-01 11:03:06.457066: I tensorflow/core/common_runtime/gpu_fusion_pass.cc:508] ROCm Fusion is enabled.\n",
      "2024-05-01 11:03:06.464559: I tensorflow/core/common_runtime/gpu_fusion_pass.cc:508] ROCm Fusion is enabled.\n",
      "2024-05-01 11:03:06.470369: I tensorflow/core/common_runtime/gpu_fusion_pass.cc:508] ROCm Fusion is enabled.\n"
     ]
    },
    {
     "name": "stdout",
     "output_type": "stream",
     "text": [
      "197/197 [==============================] - 6s 32ms/step - loss: 0.3943 - accuracy: 0.8735 - val_loss: 0.4305 - val_accuracy: 0.8599\n",
      "Epoch 60/60\n",
      "197/197 [==============================] - ETA: 0s - loss: 0.3784 - accuracy: 0.8778"
     ]
    },
    {
     "name": "stderr",
     "output_type": "stream",
     "text": [
      "2024-05-01 11:03:12.924796: I tensorflow/core/common_runtime/gpu_fusion_pass.cc:508] ROCm Fusion is enabled.\n",
      "2024-05-01 11:03:12.932408: I tensorflow/core/common_runtime/gpu_fusion_pass.cc:508] ROCm Fusion is enabled.\n",
      "2024-05-01 11:03:12.938213: I tensorflow/core/common_runtime/gpu_fusion_pass.cc:508] ROCm Fusion is enabled.\n"
     ]
    },
    {
     "name": "stdout",
     "output_type": "stream",
     "text": [
      "197/197 [==============================] - 6s 33ms/step - loss: 0.3784 - accuracy: 0.8778 - val_loss: 0.4413 - val_accuracy: 0.8542\n"
     ]
    }
   ],
   "source": [
    "history = model.fit(\n",
    "    train_x, train_y, epochs=60, verbose=1, batch_size=64, validation_data=(valid_x, valid_y)\n",
    ")"
   ]
  },
  {
   "cell_type": "code",
   "execution_count": 14,
   "metadata": {},
   "outputs": [],
   "source": [
    "import matplotlib.pyplot as plt"
   ]
  },
  {
   "cell_type": "code",
   "execution_count": 15,
   "metadata": {},
   "outputs": [
    {
     "data": {
      "image/png": "[encoded data removed]",
      "text/plain": [
       "<Figure size 640x480 with 1 Axes>"
      ]
     },
     "metadata": {},
     "output_type": "display_data"
    }
   ],
   "source": [
    "plt.plot('val_accuracy', data=history.history)\n",
    "plt.plot('accuracy', data=history.history)\n",
    "plt.ylabel('accuracy')\n",
    "plt.xlabel('epoch')\n",
    "\n",
    "plt.legend()\n",
    "\n",
    "# plt.savefig('results/learning_curve')\n",
    "plt.show()"
   ]
  },
  {
   "cell_type": "markdown",
   "metadata": {},
   "source": [
    "## Example prediction"
   ]
  },
  {
   "cell_type": "code",
   "execution_count": 29,
   "metadata": {},
   "outputs": [
    {
     "data": {
      "text/plain": [
       "'cynthia'"
      ]
     },
     "execution_count": 29,
     "metadata": {},
     "output_type": "execute_result"
    }
   ],
   "source": [
    "example_df = pd.read_csv('dataset/demo/displacements/cynthia_cpu_20240501T093121.csv', index_col=None)\n",
    "predict = model(np.array([example_df.iloc[range(SEQ_LEN), :]], dtype=np.float32), training=False)\n",
    "\n",
    "int_to_player[np.argmax(predict)]"
   ]
  },
  {
   "cell_type": "code",
   "execution_count": 27,
   "metadata": {},
   "outputs": [
    {
     "data": {
      "text/plain": [
       "15"
      ]
     },
     "execution_count": 27,
     "metadata": {},
     "output_type": "execute_result"
    }
   ],
   "source": [
    "np.argmax(predict)"
   ]
  },
  {
   "cell_type": "code",
   "execution_count": 17,
   "metadata": {},
   "outputs": [
    {
     "name": "stderr",
     "output_type": "stream",
     "text": [
      "2024-05-01 11:03:14.123796: I tensorflow/core/common_runtime/gpu_fusion_pass.cc:508] ROCm Fusion is enabled.\n",
      "2024-05-01 11:03:14.124448: I tensorflow/core/common_runtime/gpu_fusion_pass.cc:508] ROCm Fusion is enabled.\n",
      "2024-05-01 11:03:14.124928: I tensorflow/core/common_runtime/gpu_fusion_pass.cc:508] ROCm Fusion is enabled.\n",
      "2024-05-01 11:03:14.125475: I tensorflow/core/common_runtime/gpu_fusion_pass.cc:508] ROCm Fusion is enabled.\n",
      "2024-05-01 11:03:14.126011: I tensorflow/core/common_runtime/gpu_fusion_pass.cc:508] ROCm Fusion is enabled.\n",
      "2024-05-01 11:03:14.126876: I tensorflow/core/common_runtime/gpu_fusion_pass.cc:508] ROCm Fusion is enabled.\n",
      "2024-05-01 11:03:14.127435: I tensorflow/core/common_runtime/gpu_fusion_pass.cc:508] ROCm Fusion is enabled.\n",
      "2024-05-01 11:03:14.127948: I tensorflow/core/common_runtime/gpu_fusion_pass.cc:508] ROCm Fusion is enabled.\n",
      "2024-05-01 11:03:14.128605: I tensorflow/core/common_runtime/gpu_fusion_pass.cc:508] ROCm Fusion is enabled.\n",
      "2024-05-01 11:03:14.129219: I tensorflow/core/common_runtime/gpu_fusion_pass.cc:508] ROCm Fusion is enabled.\n",
      "2024-05-01 11:03:14.129952: I tensorflow/core/common_runtime/gpu_fusion_pass.cc:508] ROCm Fusion is enabled.\n",
      "2024-05-01 11:03:14.131148: I tensorflow/core/common_runtime/gpu_fusion_pass.cc:508] ROCm Fusion is enabled.\n",
      "2024-05-01 11:03:14.131852: I tensorflow/core/common_runtime/gpu_fusion_pass.cc:508] ROCm Fusion is enabled.\n",
      "2024-05-01 11:03:14.133620: I tensorflow/core/common_runtime/gpu_fusion_pass.cc:508] ROCm Fusion is enabled.\n",
      "2024-05-01 11:03:14.134247: I tensorflow/core/common_runtime/gpu_fusion_pass.cc:508] ROCm Fusion is enabled.\n",
      "2024-05-01 11:03:14.134853: I tensorflow/core/common_runtime/gpu_fusion_pass.cc:508] ROCm Fusion is enabled.\n",
      "2024-05-01 11:03:14.135519: I tensorflow/core/common_runtime/gpu_fusion_pass.cc:508] ROCm Fusion is enabled.\n",
      "2024-05-01 11:03:14.136142: I tensorflow/core/common_runtime/gpu_fusion_pass.cc:508] ROCm Fusion is enabled.\n",
      "2024-05-01 11:03:14.136785: I tensorflow/core/common_runtime/gpu_fusion_pass.cc:508] ROCm Fusion is enabled.\n",
      "2024-05-01 11:03:14.137273: I tensorflow/core/common_runtime/gpu_fusion_pass.cc:508] ROCm Fusion is enabled.\n",
      "2024-05-01 11:03:14.137787: I tensorflow/core/common_runtime/gpu_fusion_pass.cc:508] ROCm Fusion is enabled.\n",
      "2024-05-01 11:03:14.138456: I tensorflow/core/common_runtime/gpu_fusion_pass.cc:508] ROCm Fusion is enabled.\n",
      "2024-05-01 11:03:14.139060: I tensorflow/core/common_runtime/gpu_fusion_pass.cc:508] ROCm Fusion is enabled.\n",
      "2024-05-01 11:03:14.139721: I tensorflow/core/common_runtime/gpu_fusion_pass.cc:508] ROCm Fusion is enabled.\n",
      "2024-05-01 11:03:14.140787: I tensorflow/core/common_runtime/gpu_fusion_pass.cc:508] ROCm Fusion is enabled.\n",
      "2024-05-01 11:03:14.141461: I tensorflow/core/common_runtime/gpu_fusion_pass.cc:508] ROCm Fusion is enabled.\n",
      "2024-05-01 11:03:14.156160: I tensorflow/core/common_runtime/gpu_fusion_pass.cc:508] ROCm Fusion is enabled.\n",
      "2024-05-01 11:03:14.158352: I tensorflow/core/common_runtime/gpu_fusion_pass.cc:508] ROCm Fusion is enabled.\n",
      "2024-05-01 11:03:14.158820: I tensorflow/core/common_runtime/gpu_fusion_pass.cc:508] ROCm Fusion is enabled.\n",
      "2024-05-01 11:03:14.159561: I tensorflow/core/common_runtime/gpu_fusion_pass.cc:508] ROCm Fusion is enabled.\n"
     ]
    }
   ],
   "source": [
    "model.save_weights('models/demo')"
   ]
  },
  {
   "cell_type": "markdown",
   "metadata": {},
   "source": [
    "## Test the model"
   ]
  },
  {
   "cell_type": "markdown",
   "metadata": {},
   "source": [
    "### Get test outputs"
   ]
  },
  {
   "cell_type": "code",
   "execution_count": 24,
   "metadata": {},
   "outputs": [
    {
     "name": "stdout",
     "output_type": "stream",
     "text": [
      "  3/131 [..............................] - ETA: 5s"
     ]
    },
    {
     "name": "stderr",
     "output_type": "stream",
     "text": [
      "2024-05-01 11:27:26.077087: I tensorflow/core/common_runtime/gpu_fusion_pass.cc:508] ROCm Fusion is enabled.\n",
      "2024-05-01 11:27:26.089547: I tensorflow/core/common_runtime/gpu_fusion_pass.cc:508] ROCm Fusion is enabled.\n",
      "2024-05-01 11:27:26.124430: I tensorflow/core/common_runtime/gpu_fusion_pass.cc:508] ROCm Fusion is enabled.\n",
      "2024-05-01 11:27:26.129596: I tensorflow/core/common_runtime/gpu_fusion_pass.cc:508] ROCm Fusion is enabled.\n",
      "2024-05-01 11:27:26.133413: I tensorflow/core/common_runtime/gpu_fusion_pass.cc:508] ROCm Fusion is enabled.\n",
      "2024-05-01 11:27:26.135840: I tensorflow/core/common_runtime/gpu_fusion_pass.cc:508] ROCm Fusion is enabled.\n"
     ]
    },
    {
     "name": "stdout",
     "output_type": "stream",
     "text": [
      "131/131 [==============================] - 4s 33ms/step\n"
     ]
    },
    {
     "data": {
      "text/plain": [
       "(4191, 18)"
      ]
     },
     "execution_count": 24,
     "metadata": {},
     "output_type": "execute_result"
    }
   ],
   "source": [
    "test_h = []\n",
    "test_h = model.predict(test_x)\n",
    "\n",
    "test_h.shape"
   ]
  },
  {
   "cell_type": "markdown",
   "metadata": {},
   "source": [
    "### Compare test outputs to labels"
   ]
  },
  {
   "cell_type": "code",
   "execution_count": 25,
   "metadata": {},
   "outputs": [
    {
     "name": "stdout",
     "output_type": "stream",
     "text": [
      "[0.861608208064901, 0.9458363159150561, 0.9766165592937246, 0.9871152469577666, 0.9933190169410642, 0.9966595084705321, 0.9980911476974469, 0.9995227869243617, 0.9995227869243617, 0.9997613934621808, 0.9997613934621808, 0.9997613934621808, 0.9997613934621808, 0.9997613934621808, 1.0, 1.0, 1.0, 1.0]\n"
     ]
    }
   ],
   "source": [
    "ranks = []\n",
    "\n",
    "for i in range(test_h.shape[0]):\n",
    "    rankings = np.argsort(test_h[i])\n",
    "    rank = (len(players_set)-1) - np.where((rankings == np.argmax(test_y[i])))[0][0]\n",
    "    ranks.append(rank)\n",
    "\n",
    "topn_occurences = []\n",
    "running = 0\n",
    "for i in range(len(players_set)):\n",
    "    topn_occurences.append(ranks.count(i) + running)\n",
    "    running += ranks.count(i)\n",
    "\n",
    "topn_acc = [t / topn_occurences[-1] for t in topn_occurences]\n",
    "\n",
    "print(topn_acc)"
   ]
  }
 ],
 "metadata": {
  "kernelspec": {
   "display_name": "Python 3",
   "language": "python",
   "name": "python3"
  },
  "language_info": {
   "codemirror_mode": {
    "name": "ipython",
    "version": 3
   },
   "file_extension": ".py",
   "mimetype": "text/x-python",
   "name": "python",
   "nbconvert_exporter": "python",
   "pygments_lexer": "ipython3",
   "version": "3.10.12"
  }
 },
 "nbformat": 4,
 "nbformat_minor": 2
}
