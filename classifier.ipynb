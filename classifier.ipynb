{
    "cells": [
        {
            "cell_type": "markdown",
            "id": "2b38d5b2",
            "metadata": {},
            "source": [
                "# Run the classifier\n",
                "\n",
                "This notebook uses functions from [classifier.py](classifier.py) in order to run the classifier."
            ]
        },
        {
            "cell_type": "code",
            "execution_count": 1,
            "id": "f4b76c56",
            "metadata": {
                "trusted": true
            },
            "outputs": [
                {
                    "name": "stderr",
                    "output_type": "stream",
                    "text": [
                        "2025-02-11 18:26:50.554988: I tensorflow/core/platform/cpu_feature_guard.cc:182] This TensorFlow binary is optimized to use available CPU instructions in performance-critical operations.\n",
                        "To enable the following instructions: SSE4.1 SSE4.2 AVX AVX2 FMA, in other operations, rebuild TensorFlow with the appropriate compiler flags.\n"
                    ]
                }
            ],
            "source": [
                "import pandas as pd\n",
                "import numpy as np\n",
                "\n",
                "import classifier"
            ]
        },
        {
            "cell_type": "code",
            "execution_count": 2,
            "id": "f666c24b",
            "metadata": {
                "trusted": true
            },
            "outputs": [],
            "source": [
                "SEQ_LEN=180\n",
                "SPLIT=(0.6, 0.2, 0.2)"
            ]
        },
        {
            "cell_type": "markdown",
            "id": "84c36243",
            "metadata": {},
            "source": [
                "## Load data\n",
                "\n",
                "Read data from the directory that contains our preprocessed data. We still have some preprocessing to do though, because the length of input sequences is a variable that we want to be able to fiddle with."
            ]
        },
        {
            "cell_type": "code",
            "execution_count": 3,
            "id": "d8d6d934",
            "metadata": {
                "trusted": true
            },
            "outputs": [
                {
                    "data": {
                        "text/plain": [
                            "(128676, 3)"
                        ]
                    },
                    "execution_count": 3,
                    "metadata": {},
                    "output_type": "execute_result"
                }
            ],
            "source": [
                "data_path = 'dataset/displacements/'\n",
                "\n",
                "inputs_by_player = classifier.players_inputs(data_path)\n",
                "\n",
                "inputs_by_player['aklo'].shape"
            ]
        },
        {
            "cell_type": "code",
            "execution_count": 4,
            "id": "eadc3fc9",
            "metadata": {
                "trusted": true
            },
            "outputs": [
                {
                    "data": {
                        "text/plain": [
                            "dict_keys(['2saint', 'aklo', 'amsa', 'axe', 'cody', 'hbox', 'kodorin', 'logan', 'mang0', 'moky', 'n0ne', 'plup', 'sfat', 'wizzrobe', 'yingling', 'zain'])"
                        ]
                    },
                    "execution_count": 4,
                    "metadata": {},
                    "output_type": "execute_result"
                }
            ],
            "source": [
                "inputs_by_player.keys()"
            ]
        },
        {
            "cell_type": "markdown",
            "id": "912e5123",
            "metadata": {},
            "source": [
                "## Organize data into sequences and split data into training, validation, and test sets"
            ]
        },
        {
            "cell_type": "code",
            "execution_count": 6,
            "id": "14fdc2ff",
            "metadata": {
                "trusted": true
            },
            "outputs": [],
            "source": [
                "(train_x, train_y), (valid_x, valid_y), (test_x, test_y) = classifier.prepare_data(inputs_by_player, SEQ_LEN, SPLIT)"
            ]
        },
        {
            "cell_type": "markdown",
            "id": "ee23e558",
            "metadata": {},
            "source": [
                "## Create the model\n",
                "\n",
                "Here is the constructor code for the best version of the model that I tested. Some of the variables that I tested are now hardcoded in the current version, and so the code that is actually in [classifier.py](classifier.py) is not guaranteed to be the same.\n",
                "\n",
                "```python\n",
                "def createClassifier(width=3, seq_len=180):\n",
                "    \"\"\"\n",
                "    Returns a classifier model with the given input shape. Default to width of 3, sequence length of 180.\n",
                "    \"\"\"\n",
                "    input_layer = Input(shape=(seq_len, width))\n",
                "    conv1 = Conv1D(filters=32, kernel_size=7, strides=2, activation=ELU())(input_layer)\n",
                "    conv2 = Conv1D(filters=32, kernel_size=3, strides=1, activation=ELU())(input_layer)\n",
                "\n",
                "    catted = Concatenate(axis=1)([conv1, conv2])\n",
                "    elu1 = ELU(32)(catted)\n",
                "    conv3 = Conv1D(filters=32, kernel_size=2, strides=1, activation=ELU())(elu1)\n",
                "    conv4 = Conv1D(filters=32, kernel_size=2, strides=1, activation=ELU())(conv3)\n",
                "    drop1 = Dropout(0.2)(conv4)\n",
                "\n",
                "    gru1 = LSTM(32, return_sequences=True)(drop1)\n",
                "    gru2 = LSTM(32)(gru1)\n",
                "    drop2 = Dropout(0.2)(gru2)\n",
                "\n",
                "    output = Dense(len(players_set), activation='softmax')(drop2)\n",
                "\n",
                "    model = Model(inputs=input_layer, outputs=output)\n",
                "    model.compile(loss='categorical_crossentropy', optimizer='adam', metrics=['accuracy'])\n",
                "    return model\n",
                "```"
            ]
        },
        {
            "cell_type": "code",
            "execution_count": 7,
            "id": "034a39dd",
            "metadata": {},
            "outputs": [
                {
                    "name": "stderr",
                    "output_type": "stream",
                    "text": [
                        "2025-02-11 18:35:35.294200: I tensorflow/core/common_runtime/process_util.cc:146] Creating new thread pool with default inter op setting: 2. Tune using inter_op_parallelism_threads for best performance.\n",
                        "2025-02-11 18:35:35.452971: I tensorflow/core/common_runtime/executor.cc:1197] [/device:CPU:0] (DEBUG INFO) Executor start aborting (this does not indicate an error and you can ignore this message): INVALID_ARGUMENT: You must feed a value for placeholder tensor 'gradients/split_2_grad/concat/split_2/split_dim' with dtype int32\n",
                        "\t [[{{node gradients/split_2_grad/concat/split_2/split_dim}}]]\n",
                        "2025-02-11 18:35:35.453675: I tensorflow/core/common_runtime/executor.cc:1197] [/device:CPU:0] (DEBUG INFO) Executor start aborting (this does not indicate an error and you can ignore this message): INVALID_ARGUMENT: You must feed a value for placeholder tensor 'gradients/split_grad/concat/split/split_dim' with dtype int32\n",
                        "\t [[{{node gradients/split_grad/concat/split/split_dim}}]]\n",
                        "2025-02-11 18:35:35.454300: I tensorflow/core/common_runtime/executor.cc:1197] [/device:CPU:0] (DEBUG INFO) Executor start aborting (this does not indicate an error and you can ignore this message): INVALID_ARGUMENT: You must feed a value for placeholder tensor 'gradients/split_1_grad/concat/split_1/split_dim' with dtype int32\n",
                        "\t [[{{node gradients/split_1_grad/concat/split_1/split_dim}}]]\n",
                        "2025-02-11 18:35:35.565943: I tensorflow/core/common_runtime/executor.cc:1197] [/device:CPU:0] (DEBUG INFO) Executor start aborting (this does not indicate an error and you can ignore this message): INVALID_ARGUMENT: You must feed a value for placeholder tensor 'gradients/split_2_grad/concat/split_2/split_dim' with dtype int32\n",
                        "\t [[{{node gradients/split_2_grad/concat/split_2/split_dim}}]]\n",
                        "2025-02-11 18:35:35.566821: I tensorflow/core/common_runtime/executor.cc:1197] [/device:CPU:0] (DEBUG INFO) Executor start aborting (this does not indicate an error and you can ignore this message): INVALID_ARGUMENT: You must feed a value for placeholder tensor 'gradients/split_grad/concat/split/split_dim' with dtype int32\n",
                        "\t [[{{node gradients/split_grad/concat/split/split_dim}}]]\n",
                        "2025-02-11 18:35:35.567443: I tensorflow/core/common_runtime/executor.cc:1197] [/device:CPU:0] (DEBUG INFO) Executor start aborting (this does not indicate an error and you can ignore this message): INVALID_ARGUMENT: You must feed a value for placeholder tensor 'gradients/split_1_grad/concat/split_1/split_dim' with dtype int32\n",
                        "\t [[{{node gradients/split_1_grad/concat/split_1/split_dim}}]]\n"
                    ]
                }
            ],
            "source": [
                "model = classifier.createClassifier(width=3, seq_len=SEQ_LEN)"
            ]
        },
        {
            "cell_type": "markdown",
            "id": "7b6e6e62",
            "metadata": {},
            "source": [
                "## Train the model\n",
                "\n",
                "We now fit the model to the data that we prepared earlier. It is also possible to load in weights instead of running this, so if you already have appropriate weights, this step is optionsl"
            ]
        },
        {
            "cell_type": "code",
            "execution_count": 8,
            "id": "0364db04",
            "metadata": {
                "trusted": true
            },
            "outputs": [
                {
                    "name": "stdout",
                    "output_type": "stream",
                    "text": [
                        "Epoch 1/60\n"
                    ]
                },
                {
                    "name": "stderr",
                    "output_type": "stream",
                    "text": [
                        "2025-02-11 18:35:35.805028: I tensorflow/core/common_runtime/executor.cc:1197] [/device:CPU:0] (DEBUG INFO) Executor start aborting (this does not indicate an error and you can ignore this message): INVALID_ARGUMENT: You must feed a value for placeholder tensor 'gradients/split_2_grad/concat/split_2/split_dim' with dtype int32\n",
                        "\t [[{{node gradients/split_2_grad/concat/split_2/split_dim}}]]\n",
                        "2025-02-11 18:35:35.806082: I tensorflow/core/common_runtime/executor.cc:1197] [/device:CPU:0] (DEBUG INFO) Executor start aborting (this does not indicate an error and you can ignore this message): INVALID_ARGUMENT: You must feed a value for placeholder tensor 'gradients/split_grad/concat/split/split_dim' with dtype int32\n",
                        "\t [[{{node gradients/split_grad/concat/split/split_dim}}]]\n",
                        "2025-02-11 18:35:35.806833: I tensorflow/core/common_runtime/executor.cc:1197] [/device:CPU:0] (DEBUG INFO) Executor start aborting (this does not indicate an error and you can ignore this message): INVALID_ARGUMENT: You must feed a value for placeholder tensor 'gradients/split_1_grad/concat/split_1/split_dim' with dtype int32\n",
                        "\t [[{{node gradients/split_1_grad/concat/split_1/split_dim}}]]\n",
                        "2025-02-11 18:35:35.940796: I tensorflow/core/common_runtime/executor.cc:1197] [/device:CPU:0] (DEBUG INFO) Executor start aborting (this does not indicate an error and you can ignore this message): INVALID_ARGUMENT: You must feed a value for placeholder tensor 'gradients/split_2_grad/concat/split_2/split_dim' with dtype int32\n",
                        "\t [[{{node gradients/split_2_grad/concat/split_2/split_dim}}]]\n",
                        "2025-02-11 18:35:35.941647: I tensorflow/core/common_runtime/executor.cc:1197] [/device:CPU:0] (DEBUG INFO) Executor start aborting (this does not indicate an error and you can ignore this message): INVALID_ARGUMENT: You must feed a value for placeholder tensor 'gradients/split_grad/concat/split/split_dim' with dtype int32\n",
                        "\t [[{{node gradients/split_grad/concat/split/split_dim}}]]\n",
                        "2025-02-11 18:35:35.942409: I tensorflow/core/common_runtime/executor.cc:1197] [/device:CPU:0] (DEBUG INFO) Executor start aborting (this does not indicate an error and you can ignore this message): INVALID_ARGUMENT: You must feed a value for placeholder tensor 'gradients/split_1_grad/concat/split_1/split_dim' with dtype int32\n",
                        "\t [[{{node gradients/split_1_grad/concat/split_1/split_dim}}]]\n",
                        "2025-02-11 18:35:36.691461: I tensorflow/core/common_runtime/executor.cc:1197] [/device:CPU:0] (DEBUG INFO) Executor start aborting (this does not indicate an error and you can ignore this message): INVALID_ARGUMENT: You must feed a value for placeholder tensor 'gradients/split_2_grad/concat/split_2/split_dim' with dtype int32\n",
                        "\t [[{{node gradients/split_2_grad/concat/split_2/split_dim}}]]\n",
                        "2025-02-11 18:35:36.692453: I tensorflow/core/common_runtime/executor.cc:1197] [/device:CPU:0] (DEBUG INFO) Executor start aborting (this does not indicate an error and you can ignore this message): INVALID_ARGUMENT: You must feed a value for placeholder tensor 'gradients/split_grad/concat/split/split_dim' with dtype int32\n",
                        "\t [[{{node gradients/split_grad/concat/split/split_dim}}]]\n",
                        "2025-02-11 18:35:36.693183: I tensorflow/core/common_runtime/executor.cc:1197] [/device:CPU:0] (DEBUG INFO) Executor start aborting (this does not indicate an error and you can ignore this message): INVALID_ARGUMENT: You must feed a value for placeholder tensor 'gradients/split_1_grad/concat/split_1/split_dim' with dtype int32\n",
                        "\t [[{{node gradients/split_1_grad/concat/split_1/split_dim}}]]\n",
                        "2025-02-11 18:35:36.825621: I tensorflow/core/common_runtime/executor.cc:1197] [/device:CPU:0] (DEBUG INFO) Executor start aborting (this does not indicate an error and you can ignore this message): INVALID_ARGUMENT: You must feed a value for placeholder tensor 'gradients/split_2_grad/concat/split_2/split_dim' with dtype int32\n",
                        "\t [[{{node gradients/split_2_grad/concat/split_2/split_dim}}]]\n",
                        "2025-02-11 18:35:36.826425: I tensorflow/core/common_runtime/executor.cc:1197] [/device:CPU:0] (DEBUG INFO) Executor start aborting (this does not indicate an error and you can ignore this message): INVALID_ARGUMENT: You must feed a value for placeholder tensor 'gradients/split_grad/concat/split/split_dim' with dtype int32\n",
                        "\t [[{{node gradients/split_grad/concat/split/split_dim}}]]\n",
                        "2025-02-11 18:35:36.827161: I tensorflow/core/common_runtime/executor.cc:1197] [/device:CPU:0] (DEBUG INFO) Executor start aborting (this does not indicate an error and you can ignore this message): INVALID_ARGUMENT: You must feed a value for placeholder tensor 'gradients/split_1_grad/concat/split_1/split_dim' with dtype int32\n",
                        "\t [[{{node gradients/split_1_grad/concat/split_1/split_dim}}]]\n"
                    ]
                },
                {
                    "name": "stdout",
                    "output_type": "stream",
                    "text": [
                        "190/190 [==============================] - ETA: 0s - loss: 2.6384 - accuracy: 0.1503"
                    ]
                },
                {
                    "name": "stderr",
                    "output_type": "stream",
                    "text": [
                        "2025-02-11 18:36:37.543340: I tensorflow/core/common_runtime/executor.cc:1197] [/device:CPU:0] (DEBUG INFO) Executor start aborting (this does not indicate an error and you can ignore this message): INVALID_ARGUMENT: You must feed a value for placeholder tensor 'gradients/split_2_grad/concat/split_2/split_dim' with dtype int32\n",
                        "\t [[{{node gradients/split_2_grad/concat/split_2/split_dim}}]]\n",
                        "2025-02-11 18:36:37.544337: I tensorflow/core/common_runtime/executor.cc:1197] [/device:CPU:0] (DEBUG INFO) Executor start aborting (this does not indicate an error and you can ignore this message): INVALID_ARGUMENT: You must feed a value for placeholder tensor 'gradients/split_grad/concat/split/split_dim' with dtype int32\n",
                        "\t [[{{node gradients/split_grad/concat/split/split_dim}}]]\n",
                        "2025-02-11 18:36:37.545127: I tensorflow/core/common_runtime/executor.cc:1197] [/device:CPU:0] (DEBUG INFO) Executor start aborting (this does not indicate an error and you can ignore this message): INVALID_ARGUMENT: You must feed a value for placeholder tensor 'gradients/split_1_grad/concat/split_1/split_dim' with dtype int32\n",
                        "\t [[{{node gradients/split_1_grad/concat/split_1/split_dim}}]]\n",
                        "2025-02-11 18:36:37.684363: I tensorflow/core/common_runtime/executor.cc:1197] [/device:CPU:0] (DEBUG INFO) Executor start aborting (this does not indicate an error and you can ignore this message): INVALID_ARGUMENT: You must feed a value for placeholder tensor 'gradients/split_2_grad/concat/split_2/split_dim' with dtype int32\n",
                        "\t [[{{node gradients/split_2_grad/concat/split_2/split_dim}}]]\n",
                        "2025-02-11 18:36:37.685243: I tensorflow/core/common_runtime/executor.cc:1197] [/device:CPU:0] (DEBUG INFO) Executor start aborting (this does not indicate an error and you can ignore this message): INVALID_ARGUMENT: You must feed a value for placeholder tensor 'gradients/split_grad/concat/split/split_dim' with dtype int32\n",
                        "\t [[{{node gradients/split_grad/concat/split/split_dim}}]]\n",
                        "2025-02-11 18:36:37.686005: I tensorflow/core/common_runtime/executor.cc:1197] [/device:CPU:0] (DEBUG INFO) Executor start aborting (this does not indicate an error and you can ignore this message): INVALID_ARGUMENT: You must feed a value for placeholder tensor 'gradients/split_1_grad/concat/split_1/split_dim' with dtype int32\n",
                        "\t [[{{node gradients/split_1_grad/concat/split_1/split_dim}}]]\n"
                    ]
                },
                {
                    "name": "stdout",
                    "output_type": "stream",
                    "text": [
                        "190/190 [==============================] - 67s 337ms/step - loss: 2.6384 - accuracy: 0.1503 - val_loss: 2.5547 - val_accuracy: 0.1828\n",
                        "Epoch 2/60\n",
                        "190/190 [==============================] - 60s 314ms/step - loss: 2.4544 - accuracy: 0.2134 - val_loss: 2.2900 - val_accuracy: 0.2787\n",
                        "Epoch 3/60\n",
                        "190/190 [==============================] - 64s 337ms/step - loss: 2.3186 - accuracy: 0.2541 - val_loss: 2.2756 - val_accuracy: 0.2631\n",
                        "Epoch 4/60\n",
                        "190/190 [==============================] - 64s 336ms/step - loss: 2.1483 - accuracy: 0.2935 - val_loss: 2.0471 - val_accuracy: 0.3193\n",
                        "Epoch 5/60\n",
                        "190/190 [==============================] - 62s 328ms/step - loss: 2.0636 - accuracy: 0.3105 - val_loss: 1.9124 - val_accuracy: 0.3545\n",
                        "Epoch 6/60\n",
                        "190/190 [==============================] - 67s 352ms/step - loss: 1.9755 - accuracy: 0.3333 - val_loss: 1.9833 - val_accuracy: 0.3423\n",
                        "Epoch 7/60\n",
                        "190/190 [==============================] - 66s 346ms/step - loss: 1.8162 - accuracy: 0.3822 - val_loss: 1.6786 - val_accuracy: 0.4293\n",
                        "Epoch 8/60\n",
                        "190/190 [==============================] - 69s 361ms/step - loss: 1.7634 - accuracy: 0.3982 - val_loss: 1.6195 - val_accuracy: 0.4454\n",
                        "Epoch 9/60\n",
                        "190/190 [==============================] - 66s 348ms/step - loss: 1.6909 - accuracy: 0.4218 - val_loss: 1.5885 - val_accuracy: 0.4558\n",
                        "Epoch 10/60\n",
                        "190/190 [==============================] - 59s 312ms/step - loss: 1.5929 - accuracy: 0.4490 - val_loss: 1.4988 - val_accuracy: 0.4694\n",
                        "Epoch 11/60\n",
                        "190/190 [==============================] - 82s 433ms/step - loss: 1.5235 - accuracy: 0.4641 - val_loss: 1.4556 - val_accuracy: 0.4890\n",
                        "Epoch 12/60\n",
                        "190/190 [==============================] - 63s 330ms/step - loss: 1.4779 - accuracy: 0.4841 - val_loss: 1.4141 - val_accuracy: 0.4994\n",
                        "Epoch 13/60\n",
                        "190/190 [==============================] - 64s 338ms/step - loss: 1.4137 - accuracy: 0.5171 - val_loss: 1.3493 - val_accuracy: 0.5338\n",
                        "Epoch 14/60\n",
                        "190/190 [==============================] - 60s 318ms/step - loss: 1.3431 - accuracy: 0.5339 - val_loss: 1.2406 - val_accuracy: 0.5710\n",
                        "Epoch 15/60\n",
                        "190/190 [==============================] - 68s 356ms/step - loss: 1.2725 - accuracy: 0.5665 - val_loss: 1.1851 - val_accuracy: 0.5876\n",
                        "Epoch 16/60\n",
                        "190/190 [==============================] - 64s 336ms/step - loss: 1.2238 - accuracy: 0.5798 - val_loss: 1.1433 - val_accuracy: 0.6094\n",
                        "Epoch 17/60\n",
                        "190/190 [==============================] - 62s 328ms/step - loss: 1.1621 - accuracy: 0.5972 - val_loss: 1.1215 - val_accuracy: 0.6203\n",
                        "Epoch 18/60\n",
                        "190/190 [==============================] - 64s 334ms/step - loss: 1.1148 - accuracy: 0.6158 - val_loss: 1.0219 - val_accuracy: 0.6455\n",
                        "Epoch 19/60\n",
                        "190/190 [==============================] - 62s 325ms/step - loss: 1.0524 - accuracy: 0.6443 - val_loss: 1.0518 - val_accuracy: 0.6490\n",
                        "Epoch 20/60\n",
                        "190/190 [==============================] - 58s 305ms/step - loss: 1.0105 - accuracy: 0.6561 - val_loss: 0.9341 - val_accuracy: 0.6864\n",
                        "Epoch 21/60\n",
                        "190/190 [==============================] - 57s 302ms/step - loss: 0.9694 - accuracy: 0.6762 - val_loss: 0.9150 - val_accuracy: 0.6919\n",
                        "Epoch 22/60\n",
                        "190/190 [==============================] - 59s 310ms/step - loss: 0.9167 - accuracy: 0.6963 - val_loss: 0.8482 - val_accuracy: 0.7166\n",
                        "Epoch 23/60\n",
                        "190/190 [==============================] - 56s 295ms/step - loss: 0.8960 - accuracy: 0.7018 - val_loss: 0.8577 - val_accuracy: 0.7151\n",
                        "Epoch 24/60\n",
                        "190/190 [==============================] - 66s 348ms/step - loss: 0.8359 - accuracy: 0.7255 - val_loss: 0.8496 - val_accuracy: 0.7221\n",
                        "Epoch 25/60\n",
                        "190/190 [==============================] - 62s 324ms/step - loss: 0.8024 - accuracy: 0.7332 - val_loss: 0.7217 - val_accuracy: 0.7699\n",
                        "Epoch 26/60\n",
                        "190/190 [==============================] - 52s 274ms/step - loss: 0.7711 - accuracy: 0.7457 - val_loss: 0.7808 - val_accuracy: 0.7426\n",
                        "Epoch 27/60\n",
                        "190/190 [==============================] - 63s 334ms/step - loss: 0.7491 - accuracy: 0.7496 - val_loss: 0.7357 - val_accuracy: 0.7615\n",
                        "Epoch 28/60\n",
                        "190/190 [==============================] - 71s 372ms/step - loss: 0.6986 - accuracy: 0.7719 - val_loss: 0.7742 - val_accuracy: 0.7468\n",
                        "Epoch 29/60\n",
                        "190/190 [==============================] - 72s 380ms/step - loss: 0.6990 - accuracy: 0.7703 - val_loss: 0.7732 - val_accuracy: 0.7459\n",
                        "Epoch 30/60\n",
                        "190/190 [==============================] - 62s 325ms/step - loss: 0.6628 - accuracy: 0.7833 - val_loss: 0.5950 - val_accuracy: 0.8075\n",
                        "Epoch 31/60\n",
                        "190/190 [==============================] - 55s 290ms/step - loss: 0.6516 - accuracy: 0.7864 - val_loss: 0.6708 - val_accuracy: 0.7805\n",
                        "Epoch 32/60\n",
                        "190/190 [==============================] - 70s 368ms/step - loss: 0.6260 - accuracy: 0.7970 - val_loss: 0.6329 - val_accuracy: 0.7924\n",
                        "Epoch 33/60\n",
                        "190/190 [==============================] - 61s 319ms/step - loss: 0.6222 - accuracy: 0.7973 - val_loss: 0.5994 - val_accuracy: 0.8016\n",
                        "Epoch 34/60\n",
                        "190/190 [==============================] - 64s 336ms/step - loss: 0.5769 - accuracy: 0.8120 - val_loss: 0.5863 - val_accuracy: 0.8115\n",
                        "Epoch 35/60\n",
                        "190/190 [==============================] - 73s 382ms/step - loss: 0.5792 - accuracy: 0.8107 - val_loss: 0.5799 - val_accuracy: 0.8098\n",
                        "Epoch 36/60\n",
                        "190/190 [==============================] - 60s 317ms/step - loss: 0.5539 - accuracy: 0.8168 - val_loss: 0.5829 - val_accuracy: 0.8095\n",
                        "Epoch 37/60\n",
                        "190/190 [==============================] - 56s 296ms/step - loss: 0.5613 - accuracy: 0.8142 - val_loss: 0.5913 - val_accuracy: 0.8105\n",
                        "Epoch 38/60\n",
                        "190/190 [==============================] - 63s 329ms/step - loss: 0.5350 - accuracy: 0.8251 - val_loss: 0.6094 - val_accuracy: 0.7991\n",
                        "Epoch 39/60\n",
                        "190/190 [==============================] - 65s 343ms/step - loss: 0.5222 - accuracy: 0.8283 - val_loss: 0.5783 - val_accuracy: 0.8164\n",
                        "Epoch 40/60\n",
                        "190/190 [==============================] - 54s 282ms/step - loss: 0.4977 - accuracy: 0.8361 - val_loss: 0.6063 - val_accuracy: 0.8108\n",
                        "Epoch 41/60\n",
                        "190/190 [==============================] - 58s 305ms/step - loss: 0.5012 - accuracy: 0.8363 - val_loss: 0.4998 - val_accuracy: 0.8457\n",
                        "Epoch 42/60\n",
                        "190/190 [==============================] - 57s 299ms/step - loss: 0.4814 - accuracy: 0.8413 - val_loss: 0.6087 - val_accuracy: 0.7984\n",
                        "Epoch 43/60\n",
                        "190/190 [==============================] - 61s 322ms/step - loss: 0.4789 - accuracy: 0.8430 - val_loss: 0.5585 - val_accuracy: 0.8303\n",
                        "Epoch 44/60\n",
                        "190/190 [==============================] - 62s 326ms/step - loss: 0.4754 - accuracy: 0.8469 - val_loss: 0.5724 - val_accuracy: 0.8224\n",
                        "Epoch 45/60\n",
                        "190/190 [==============================] - 62s 328ms/step - loss: 0.4655 - accuracy: 0.8478 - val_loss: 0.4843 - val_accuracy: 0.8482\n",
                        "Epoch 46/60\n",
                        "190/190 [==============================] - 64s 336ms/step - loss: 0.4381 - accuracy: 0.8542 - val_loss: 0.4642 - val_accuracy: 0.8558\n",
                        "Epoch 47/60\n",
                        "190/190 [==============================] - 57s 299ms/step - loss: 0.4407 - accuracy: 0.8584 - val_loss: 0.4888 - val_accuracy: 0.8474\n",
                        "Epoch 48/60\n",
                        "190/190 [==============================] - 62s 329ms/step - loss: 0.4157 - accuracy: 0.8624 - val_loss: 0.5660 - val_accuracy: 0.8271\n",
                        "Epoch 49/60\n",
                        "190/190 [==============================] - 60s 318ms/step - loss: 0.4218 - accuracy: 0.8603 - val_loss: 0.4913 - val_accuracy: 0.8516\n",
                        "Epoch 50/60\n",
                        "190/190 [==============================] - 62s 327ms/step - loss: 0.4110 - accuracy: 0.8658 - val_loss: 0.4981 - val_accuracy: 0.8425\n",
                        "Epoch 51/60\n",
                        "190/190 [==============================] - 63s 333ms/step - loss: 0.3891 - accuracy: 0.8723 - val_loss: 0.4623 - val_accuracy: 0.8529\n",
                        "Epoch 52/60\n",
                        "190/190 [==============================] - 56s 295ms/step - loss: 0.3903 - accuracy: 0.8715 - val_loss: 0.4809 - val_accuracy: 0.8422\n",
                        "Epoch 53/60\n",
                        "190/190 [==============================] - 62s 325ms/step - loss: 0.3864 - accuracy: 0.8726 - val_loss: 0.4979 - val_accuracy: 0.8494\n",
                        "Epoch 54/60\n",
                        "190/190 [==============================] - 62s 327ms/step - loss: 0.3737 - accuracy: 0.8761 - val_loss: 0.4788 - val_accuracy: 0.8586\n",
                        "Epoch 55/60\n",
                        "190/190 [==============================] - 62s 328ms/step - loss: 0.3789 - accuracy: 0.8764 - val_loss: 0.4422 - val_accuracy: 0.8660\n",
                        "Epoch 56/60\n",
                        "190/190 [==============================] - 65s 340ms/step - loss: 0.3644 - accuracy: 0.8788 - val_loss: 0.4231 - val_accuracy: 0.8697\n",
                        "Epoch 57/60\n",
                        "190/190 [==============================] - 60s 315ms/step - loss: 0.3736 - accuracy: 0.8771 - val_loss: 0.4578 - val_accuracy: 0.8600\n",
                        "Epoch 58/60\n",
                        "190/190 [==============================] - 60s 316ms/step - loss: 0.3624 - accuracy: 0.8848 - val_loss: 0.4293 - val_accuracy: 0.8630\n",
                        "Epoch 59/60\n",
                        "190/190 [==============================] - 56s 293ms/step - loss: 0.3673 - accuracy: 0.8805 - val_loss: 0.5310 - val_accuracy: 0.8412\n",
                        "Epoch 60/60\n",
                        "190/190 [==============================] - 61s 319ms/step - loss: 0.3456 - accuracy: 0.8839 - val_loss: 0.4282 - val_accuracy: 0.8717\n"
                    ]
                }
            ],
            "source": [
                "# You do not need to run this if you already have model weights saved somewhere\n",
                "history = model.fit(\n",
                "    train_x, train_y, epochs=60, verbose=1, batch_size=64, validation_data=(valid_x, valid_y)\n",
                ")"
            ]
        },
        {
            "cell_type": "code",
            "execution_count": 9,
            "id": "518da708",
            "metadata": {},
            "outputs": [],
            "source": [
                "# OPTIONAL: run something like this instead of training if you have saved weights previously\n",
                "# model.load_weights('models/default')"
            ]
        },
        {
            "cell_type": "markdown",
            "id": "4b7f1970",
            "metadata": {},
            "source": [
                "## Plot learning curve"
            ]
        },
        {
            "cell_type": "code",
            "execution_count": 10,
            "id": "233d1b5a",
            "metadata": {
                "trusted": true
            },
            "outputs": [],
            "source": [
                "import matplotlib.pyplot as plt"
            ]
        },
        {
            "cell_type": "code",
            "execution_count": 11,
            "id": "2b3e2ffb",
            "metadata": {
                "trusted": true
            },
            "outputs": [
                {
                    "data": {
                        "image/png": "[encoded data removed]",
                        "text/plain": [
                            "<Figure size 640x480 with 1 Axes>"
                        ]
                    },
                    "metadata": {},
                    "output_type": "display_data"
                }
            ],
            "source": [
                "plt.plot('val_accuracy', data=history.history)\n",
                "plt.plot('accuracy', data=history.history)\n",
                "plt.ylabel('accuracy')\n",
                "plt.xlabel('epoch')\n",
                "\n",
                "plt.legend()\n",
                "\n",
                "# plt.savefig('results/learning_curve')\n",
                "plt.show()"
            ]
        },
        {
            "cell_type": "markdown",
            "id": "37e37da3",
            "metadata": {},
            "source": [
                "## Example prediction\n",
                "\n"
            ]
        },
        {
            "cell_type": "code",
            "execution_count": 12,
            "id": "f626effe",
            "metadata": {
                "trusted": true
            },
            "outputs": [
                {
                    "data": {
                        "text/plain": [
                            "'2saint'"
                        ]
                    },
                    "execution_count": 12,
                    "metadata": {},
                    "output_type": "execute_result"
                }
            ],
            "source": [
                "example_df = pd.read_csv('dataset/displacements/2saint_aklo_18-07-21_13:21.csv', index_col=None)\n",
                "predict = model(np.array([example_df.iloc[range(SEQ_LEN), :]], dtype=np.float32), training=False)\n",
                "\n",
                "classifier.i_to_p[np.argmax(predict)]"
            ]
        },
        {
            "cell_type": "code",
            "execution_count": 13,
            "id": "fa4f7852",
            "metadata": {
                "trusted": true
            },
            "outputs": [
                {
                    "data": {
                        "text/plain": [
                            "0"
                        ]
                    },
                    "execution_count": 13,
                    "metadata": {},
                    "output_type": "execute_result"
                }
            ],
            "source": [
                "np.argmax(predict)"
            ]
        },
        {
            "cell_type": "code",
            "execution_count": 14,
            "id": "3900cb8e",
            "metadata": {
                "trusted": true
            },
            "outputs": [],
            "source": [
                "# FIXME\n",
                "# It would be best to use model store/load rather than checkpoints\n",
                "# https://www.tensorflow.org/guide/keras/serialization_and_saving\n",
                "# model.save_weights('models/test')"
            ]
        },
        {
            "cell_type": "markdown",
            "id": "86a6be83",
            "metadata": {},
            "source": [
                "## Test the model\n",
                "\n",
                "Run the model on the test data and record performance metrics, namely, top N accuracy. More detailed testing can be found in [test_model.ipynb](test_model.ipynb)"
            ]
        },
        {
            "cell_type": "markdown",
            "id": "15627aca",
            "metadata": {},
            "source": [
                "### Get test outputs"
            ]
        },
        {
            "cell_type": "code",
            "execution_count": 15,
            "id": "0af62f8d",
            "metadata": {
                "trusted": true
            },
            "outputs": [
                {
                    "name": "stderr",
                    "output_type": "stream",
                    "text": [
                        "2025-02-11 19:38:00.882378: I tensorflow/core/common_runtime/executor.cc:1197] [/device:CPU:0] (DEBUG INFO) Executor start aborting (this does not indicate an error and you can ignore this message): INVALID_ARGUMENT: You must feed a value for placeholder tensor 'gradients/split_2_grad/concat/split_2/split_dim' with dtype int32\n",
                        "\t [[{{node gradients/split_2_grad/concat/split_2/split_dim}}]]\n",
                        "2025-02-11 19:38:00.883391: I tensorflow/core/common_runtime/executor.cc:1197] [/device:CPU:0] (DEBUG INFO) Executor start aborting (this does not indicate an error and you can ignore this message): INVALID_ARGUMENT: You must feed a value for placeholder tensor 'gradients/split_grad/concat/split/split_dim' with dtype int32\n",
                        "\t [[{{node gradients/split_grad/concat/split/split_dim}}]]\n",
                        "2025-02-11 19:38:00.884163: I tensorflow/core/common_runtime/executor.cc:1197] [/device:CPU:0] (DEBUG INFO) Executor start aborting (this does not indicate an error and you can ignore this message): INVALID_ARGUMENT: You must feed a value for placeholder tensor 'gradients/split_1_grad/concat/split_1/split_dim' with dtype int32\n",
                        "\t [[{{node gradients/split_1_grad/concat/split_1/split_dim}}]]\n",
                        "2025-02-11 19:38:01.009414: I tensorflow/core/common_runtime/executor.cc:1197] [/device:CPU:0] (DEBUG INFO) Executor start aborting (this does not indicate an error and you can ignore this message): INVALID_ARGUMENT: You must feed a value for placeholder tensor 'gradients/split_2_grad/concat/split_2/split_dim' with dtype int32\n",
                        "\t [[{{node gradients/split_2_grad/concat/split_2/split_dim}}]]\n",
                        "2025-02-11 19:38:01.010215: I tensorflow/core/common_runtime/executor.cc:1197] [/device:CPU:0] (DEBUG INFO) Executor start aborting (this does not indicate an error and you can ignore this message): INVALID_ARGUMENT: You must feed a value for placeholder tensor 'gradients/split_grad/concat/split/split_dim' with dtype int32\n",
                        "\t [[{{node gradients/split_grad/concat/split/split_dim}}]]\n",
                        "2025-02-11 19:38:01.010912: I tensorflow/core/common_runtime/executor.cc:1197] [/device:CPU:0] (DEBUG INFO) Executor start aborting (this does not indicate an error and you can ignore this message): INVALID_ARGUMENT: You must feed a value for placeholder tensor 'gradients/split_1_grad/concat/split_1/split_dim' with dtype int32\n",
                        "\t [[{{node gradients/split_1_grad/concat/split_1/split_dim}}]]\n"
                    ]
                },
                {
                    "name": "stdout",
                    "output_type": "stream",
                    "text": [
                        "127/127 [==============================] - 7s 51ms/step\n"
                    ]
                },
                {
                    "data": {
                        "text/plain": [
                            "(4037, 16)"
                        ]
                    },
                    "execution_count": 15,
                    "metadata": {},
                    "output_type": "execute_result"
                }
            ],
            "source": [
                "test_h = []\n",
                "test_h = model.predict(test_x)\n",
                "\n",
                "test_h.shape"
            ]
        },
        {
            "cell_type": "markdown",
            "id": "ddb02b90",
            "metadata": {},
            "source": [
                "### Compare test outputs to labels"
            ]
        },
        {
            "cell_type": "code",
            "execution_count": 17,
            "id": "066cde80",
            "metadata": {
                "trusted": true
            },
            "outputs": [
                {
                    "name": "stdout",
                    "output_type": "stream",
                    "text": [
                        "[0.8674758484022789, 0.9534307654198663, 0.977953926182809, 0.989100817438692, 0.9935595739410453, 0.9965320782759475, 0.9975229130542482, 0.9990091652216992, 0.9992568739162745, 0.9995045826108496, 1.0, 1.0, 1.0, 1.0, 1.0, 1.0]\n"
                    ]
                }
            ],
            "source": [
                "ranks = []\n",
                "\n",
                "for i in range(test_h.shape[0]):\n",
                "    rankings = np.argsort(test_h[i])\n",
                "    rank = (len(classifier.players_set)-1) - np.where((rankings == np.argmax(test_y[i])))[0][0]\n",
                "    ranks.append(rank)\n",
                "\n",
                "topn_occurences = []\n",
                "running = 0\n",
                "for i in range(len(classifier.players_set)):\n",
                "    topn_occurences.append(ranks.count(i) + running)\n",
                "    running += ranks.count(i)\n",
                "\n",
                "topn_acc = [t / topn_occurences[-1] for t in topn_occurences]\n",
                "\n",
                "print(topn_acc)"
            ]
        }
    ],
    "metadata": {
        "kernelspec": {
            "display_name": "tensorflow",
            "language": "python",
            "name": "python3"
        },
        "language_info": {
            "codemirror_mode": {
                "name": "ipython",
                "version": 3
            },
            "file_extension": ".py",
            "mimetype": "text/x-python",
            "name": "python",
            "nbconvert_exporter": "python",
            "pygments_lexer": "ipython3",
            "version": "3.11.5"
        }
    },
    "nbformat": 4,
    "nbformat_minor": 5
}
