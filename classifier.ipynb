{
 "cells": [
  {
   "cell_type": "code",
   "execution_count": 8,
   "metadata": {},
   "outputs": [],
   "source": [
    "import os\n",
    "import random\n",
    "\n",
    "import pandas as pd\n",
    "import numpy as np"
   ]
  },
  {
   "cell_type": "code",
   "execution_count": 9,
   "metadata": {},
   "outputs": [],
   "source": [
    "SEQ_LEN=120\n",
    "SPLIT=(0.6, 0.2, 0.2)"
   ]
  },
  {
   "cell_type": "markdown",
   "metadata": {},
   "source": [
    "### Load data"
   ]
  },
  {
   "cell_type": "code",
   "execution_count": 10,
   "metadata": {},
   "outputs": [
    {
     "data": {
      "text/html": [
       "<div>\n",
       "<style scoped>\n",
       "    .dataframe tbody tr th:only-of-type {\n",
       "        vertical-align: middle;\n",
       "    }\n",
       "\n",
       "    .dataframe tbody tr th {\n",
       "        vertical-align: top;\n",
       "    }\n",
       "\n",
       "    .dataframe thead th {\n",
       "        text-align: right;\n",
       "    }\n",
       "</style>\n",
       "<table border=\"1\" class=\"dataframe\">\n",
       "  <thead>\n",
       "    <tr style=\"text-align: right;\">\n",
       "      <th></th>\n",
       "      <th>d_x</th>\n",
       "      <th>d_y</th>\n",
       "      <th>frames_elapsed</th>\n",
       "    </tr>\n",
       "  </thead>\n",
       "  <tbody>\n",
       "    <tr>\n",
       "      <th>0</th>\n",
       "      <td>0.9875</td>\n",
       "      <td>0.0000</td>\n",
       "      <td>0.383333</td>\n",
       "    </tr>\n",
       "    <tr>\n",
       "      <th>1</th>\n",
       "      <td>0.0125</td>\n",
       "      <td>0.0000</td>\n",
       "      <td>0.050000</td>\n",
       "    </tr>\n",
       "    <tr>\n",
       "      <th>2</th>\n",
       "      <td>-0.0125</td>\n",
       "      <td>0.0000</td>\n",
       "      <td>0.166667</td>\n",
       "    </tr>\n",
       "    <tr>\n",
       "      <th>3</th>\n",
       "      <td>0.0125</td>\n",
       "      <td>0.0000</td>\n",
       "      <td>0.016667</td>\n",
       "    </tr>\n",
       "    <tr>\n",
       "      <th>4</th>\n",
       "      <td>-0.0125</td>\n",
       "      <td>0.0000</td>\n",
       "      <td>0.016667</td>\n",
       "    </tr>\n",
       "    <tr>\n",
       "      <th>5</th>\n",
       "      <td>-0.0125</td>\n",
       "      <td>0.0000</td>\n",
       "      <td>0.133333</td>\n",
       "    </tr>\n",
       "    <tr>\n",
       "      <th>6</th>\n",
       "      <td>-0.0125</td>\n",
       "      <td>0.0000</td>\n",
       "      <td>0.016667</td>\n",
       "    </tr>\n",
       "    <tr>\n",
       "      <th>7</th>\n",
       "      <td>-0.0375</td>\n",
       "      <td>0.3375</td>\n",
       "      <td>0.016667</td>\n",
       "    </tr>\n",
       "    <tr>\n",
       "      <th>8</th>\n",
       "      <td>-0.0250</td>\n",
       "      <td>0.0750</td>\n",
       "      <td>0.016667</td>\n",
       "    </tr>\n",
       "    <tr>\n",
       "      <th>9</th>\n",
       "      <td>-0.0250</td>\n",
       "      <td>0.0500</td>\n",
       "      <td>0.016667</td>\n",
       "    </tr>\n",
       "  </tbody>\n",
       "</table>\n",
       "</div>"
      ],
      "text/plain": [
       "      d_x     d_y  frames_elapsed\n",
       "0  0.9875  0.0000        0.383333\n",
       "1  0.0125  0.0000        0.050000\n",
       "2 -0.0125  0.0000        0.166667\n",
       "3  0.0125  0.0000        0.016667\n",
       "4 -0.0125  0.0000        0.016667\n",
       "5 -0.0125  0.0000        0.133333\n",
       "6 -0.0125  0.0000        0.016667\n",
       "7 -0.0375  0.3375        0.016667\n",
       "8 -0.0250  0.0750        0.016667\n",
       "9 -0.0250  0.0500        0.016667"
      ]
     },
     "execution_count": 10,
     "metadata": {},
     "output_type": "execute_result"
    }
   ],
   "source": [
    "data_path = 'dataset/demo/displacements/'\n",
    "\n",
    "all_files = os.listdir(data_path)\n",
    "games_inputs = {}\n",
    "for filename in all_files:\n",
    "    filepath = data_path + filename\n",
    "    inputs = pd.read_csv(filepath)\n",
    "    games_inputs[filename.split('.')[0]] = inputs\n",
    "\n",
    "games_inputs[all_files[0].split('.')[0]].head(10)"
   ]
  },
  {
   "cell_type": "markdown",
   "metadata": {},
   "source": [
    "### Organize by user (necessary for labelling)"
   ]
  },
  {
   "cell_type": "code",
   "execution_count": 11,
   "metadata": {},
   "outputs": [
    {
     "data": {
      "text/plain": [
       "(128676, 3)"
      ]
     },
     "execution_count": 11,
     "metadata": {},
     "output_type": "execute_result"
    }
   ],
   "source": [
    "def sort_games_by_user():\n",
    "    users_sessions = {}\n",
    "    for filename in all_files:\n",
    "        user = filename.split('_')[0]\n",
    "\n",
    "        if user not in users_sessions.keys():\n",
    "            users_sessions[user] = []\n",
    "        \n",
    "        users_sessions[user].append(filename.split('.')[0])\n",
    "    \n",
    "    return users_sessions\n",
    "\n",
    "games_by_player = sort_games_by_user()\n",
    "\n",
    "inputs_by_player = {}\n",
    "\n",
    "for player in games_by_player.keys():\n",
    "    # get the inputs from all the games played by a certain player\n",
    "    player_games_inputs = [games_inputs[game] for game in games_by_player[player]]\n",
    "    player_inputs = pd.concat(player_games_inputs, ignore_index=True)\n",
    "    \n",
    "    inputs_by_player[player] = player_inputs\n",
    "\n",
    "inputs_by_player['aklo'].shape"
   ]
  },
  {
   "cell_type": "code",
   "execution_count": 12,
   "metadata": {},
   "outputs": [
    {
     "data": {
      "text/plain": [
       "dict_keys(['axe', 'plup', 'kodorin', 'aklo', '2saint', 'mang0', 'n0ne', 'zain', 'hbox', 'moky', 'wizzrobe', 'sfat', 'amsa', 'cody', 'logan', 'cynthia', 'cpu', 'yingling'])"
      ]
     },
     "execution_count": 12,
     "metadata": {},
     "output_type": "execute_result"
    }
   ],
   "source": [
    "inputs_by_player.keys()"
   ]
  },
  {
   "cell_type": "markdown",
   "metadata": {},
   "source": [
    "### Organize data into labelled sequences"
   ]
  },
  {
   "cell_type": "code",
   "execution_count": 13,
   "metadata": {},
   "outputs": [
    {
     "data": {
      "text/plain": [
       "30607"
      ]
     },
     "execution_count": 13,
     "metadata": {},
     "output_type": "execute_result"
    }
   ],
   "source": [
    "players_set = list(inputs_by_player.keys())\n",
    "players_set.sort() # ensure the mappings are the same every time\n",
    "\n",
    "player_to_int = {key: i for i, key in enumerate(players_set)}\n",
    "int_to_player = {i: key for key, i in player_to_int.items()}\n",
    "\n",
    "def seqs_from_df(df, player_id, seq_len=100):\n",
    "    seqs = []\n",
    "\n",
    "    label = np.zeros(len(players_set))\n",
    "    label[player_id] = 1.0\n",
    "\n",
    "    for i in range(0, df.shape[0] - seq_len, int(seq_len*0.5)):\n",
    "        seq_x = df.loc[i:i+seq_len-1]\n",
    "        seqs.append((seq_x, label))\n",
    "        \n",
    "    return seqs\n",
    "\n",
    "labelled_ml_data = [seqs_from_df(inputs_by_player[p], player_to_int[p], SEQ_LEN) for p in players_set]\n",
    "labelled_ml_data = [seq for p in labelled_ml_data for seq in p] # flatten\n",
    "random.shuffle(labelled_ml_data)\n",
    "len(labelled_ml_data)"
   ]
  },
  {
   "cell_type": "code",
   "execution_count": 14,
   "metadata": {},
   "outputs": [
    {
     "data": {
      "text/plain": [
       "{0: '2saint',\n",
       " 1: 'aklo',\n",
       " 2: 'amsa',\n",
       " 3: 'axe',\n",
       " 4: 'cody',\n",
       " 5: 'cpu',\n",
       " 6: 'cynthia',\n",
       " 7: 'hbox',\n",
       " 8: 'kodorin',\n",
       " 9: 'logan',\n",
       " 10: 'mang0',\n",
       " 11: 'moky',\n",
       " 12: 'n0ne',\n",
       " 13: 'plup',\n",
       " 14: 'sfat',\n",
       " 15: 'wizzrobe',\n",
       " 16: 'yingling',\n",
       " 17: 'zain'}"
      ]
     },
     "execution_count": 14,
     "metadata": {},
     "output_type": "execute_result"
    }
   ],
   "source": [
    "int_to_player"
   ]
  },
  {
   "cell_type": "markdown",
   "metadata": {},
   "source": [
    "### Split into training, validation, and test sets"
   ]
  },
  {
   "cell_type": "code",
   "execution_count": 15,
   "metadata": {},
   "outputs": [
    {
     "name": "stdout",
     "output_type": "stream",
     "text": [
      "[18364, 24485, 30606]\n",
      "len(train)=18364, len(valid)=6121, len(test)=6121, len(labelled_ml_data)=30607\n"
     ]
    }
   ],
   "source": [
    "def split_set(examples_list, split=SPLIT):\n",
    "    split_indices = [0, 0, 0]\n",
    "    for i in range(3):\n",
    "        split_indices[i] = int(split[i] * len(examples_list))\n",
    "        if i >= 1:\n",
    "            split_indices[i] += split_indices[i-1]\n",
    "\n",
    "    print(split_indices)\n",
    "    \n",
    "    return (examples_list[0:split_indices[0]], examples_list[split_indices[0]:split_indices[1]], examples_list[split_indices[1]:split_indices[2]])\n",
    "\n",
    "train, valid, test = split_set(labelled_ml_data, (0.6, 0.2, 0.2))\n",
    "\n",
    "print(f'{len(train)=}, {len(valid)=}, {len(test)=}, {len(labelled_ml_data)=}')"
   ]
  },
  {
   "cell_type": "code",
   "execution_count": 16,
   "metadata": {},
   "outputs": [
    {
     "name": "stdout",
     "output_type": "stream",
     "text": [
      "train_x[0]=array([[ 0.125     ,  0.17500001,  0.01666667],\n",
      "       [ 0.01249999,  0.03749999,  0.01666667],\n",
      "       [ 0.01250005,  0.01249999,  0.01666667],\n",
      "       [-0.01250005,  0.        ,  0.05      ],\n",
      "       [-0.04999995, -0.11249998,  0.01666667],\n",
      "       [-0.33750004, -0.08750004,  0.03333334],\n",
      "       [-0.5125    ,  0.6       ,  0.01666667],\n",
      "       [ 0.9875    ,  0.        ,  0.05      ],\n",
      "       [-0.01249999,  0.        ,  0.1       ],\n",
      "       [-0.01250005,  0.        ,  0.03333334],\n",
      "       [-1.95      ,  0.        ,  0.01666667],\n",
      "       [-0.01249999,  0.        ,  0.11666667],\n",
      "       [ 0.01249999,  0.        ,  0.01666667],\n",
      "       [-0.01249999,  0.        ,  0.18333334],\n",
      "       [ 0.01249999,  0.        ,  0.03333334],\n",
      "       [ 0.625     ,  0.        ,  0.03333334],\n",
      "       [ 1.3       , -0.3125    ,  0.01666667],\n",
      "       [ 0.01249999,  0.01249999,  0.03333334],\n",
      "       [-0.01249999, -0.01249999,  0.05      ],\n",
      "       [ 0.        , -0.01249999,  0.05      ],\n",
      "       [-0.02499998, -0.0625    ,  0.01666667],\n",
      "       [-0.02500004, -0.0625    ,  0.01666667],\n",
      "       [-0.03749996, -0.07499999,  0.01666667],\n",
      "       [-0.11250001, -0.13750005,  0.01666667],\n",
      "       [-0.05000001, -0.04999995,  0.01666667],\n",
      "       [-0.03750002, -0.03750002,  0.13333334],\n",
      "       [ 0.02500004,  0.02499998,  0.01666667],\n",
      "       [-0.675     ,  0.725     ,  0.01666667],\n",
      "       [-0.725     ,  0.        ,  0.06666667],\n",
      "       [-0.2625    ,  0.        ,  0.01666667],\n",
      "       [-0.01249999,  0.        ,  0.35      ],\n",
      "       [ 0.01249999,  0.        ,  0.03333334],\n",
      "       [-0.01249999,  0.        ,  0.25      ],\n",
      "       [ 0.01249999,  0.        ,  0.03333334],\n",
      "       [ 0.27500004, -0.6875    ,  0.01666667],\n",
      "       [ 0.09999996, -0.08749998,  0.01666667],\n",
      "       [ 1.2125001 , -0.01250005,  0.01666667],\n",
      "       [ 0.09999996,  0.08750004,  0.01666667],\n",
      "       [ 0.21250004,  0.3125    ,  0.01666667],\n",
      "       [ 0.03749996,  0.08749998,  0.01666667],\n",
      "       [-0.01249999, -0.01249999,  0.05      ],\n",
      "       [ 0.01249999,  0.01249999,  0.01666667],\n",
      "       [-0.01249999, -0.01249999,  0.13333334],\n",
      "       [ 0.01249999,  0.01249999,  0.03333334],\n",
      "       [ 0.03750002,  0.3       ,  0.01666667],\n",
      "       [-0.3       , -0.7125    ,  0.25      ],\n",
      "       [-0.01249999, -0.01250005,  0.01666667],\n",
      "       [ 0.01249999,  0.01250005,  0.03333334],\n",
      "       [ 0.0625    ,  0.0625    ,  0.01666667],\n",
      "       [ 0.125     ,  0.18749997,  0.01666667],\n",
      "       [ 0.08749998,  0.4625    ,  0.01666667],\n",
      "       [ 0.02500004,  0.        ,  0.01666667],\n",
      "       [-0.08750004,  0.        ,  0.01666667],\n",
      "       [-0.21249998,  0.        ,  0.01666667],\n",
      "       [-0.6875    ,  0.        ,  0.01666667],\n",
      "       [-0.9875    ,  0.        ,  0.01666667],\n",
      "       [-0.01249999,  0.        ,  0.2       ],\n",
      "       [ 0.01249999,  0.        ,  0.03333334],\n",
      "       [ 0.01249999,  0.        ,  0.03333334],\n",
      "       [-0.01249999,  0.        ,  0.01666667],\n",
      "       [ 0.2625    , -0.675     ,  0.03333334],\n",
      "       [ 0.01250005, -0.01249999,  0.01666667],\n",
      "       [-0.01250005,  0.01249999,  0.01666667],\n",
      "       [ 0.01250005, -0.01249999,  0.01666667],\n",
      "       [-0.15000004,  0.19999999,  0.06666667],\n",
      "       [-0.07499999,  0.15      ,  0.01666667],\n",
      "       [ 0.        ,  0.01250002,  0.01666667],\n",
      "       [-0.05000001,  0.325     ,  0.01666667],\n",
      "       [-0.01249999,  0.        ,  0.01666667],\n",
      "       [ 0.01249999,  0.        ,  0.01666667],\n",
      "       [-0.01249999,  0.        ,  0.1       ],\n",
      "       [ 0.01249999,  0.        ,  0.05      ],\n",
      "       [-0.01249999,  0.        ,  0.01666667],\n",
      "       [ 0.01249999,  0.        ,  0.03333334],\n",
      "       [-0.01249999,  0.        ,  0.15      ],\n",
      "       [ 0.01249999,  0.        ,  0.03333334],\n",
      "       [-0.01249999,  0.        ,  0.01666667],\n",
      "       [ 1.        ,  0.        ,  0.01666667],\n",
      "       [-0.4625    ,  0.        ,  0.06666667],\n",
      "       [-0.5375    ,  0.        ,  0.01666667],\n",
      "       [ 0.05000001, -0.3       ,  0.08333334],\n",
      "       [ 0.01249999, -0.02499998,  0.01666667],\n",
      "       [ 0.01249999, -0.02500001,  0.01666667],\n",
      "       [ 0.05000001, -0.11250001,  0.01666667],\n",
      "       [ 0.14999998, -0.225     ,  0.01666667],\n",
      "       [ 0.        ,  0.01249999,  0.06666667],\n",
      "       [-0.03749996,  0.03750002,  0.01666667],\n",
      "       [-0.01249999,  0.02499998,  0.01666667],\n",
      "       [-0.07500005,  0.11250001,  0.01666667],\n",
      "       [-0.125     ,  0.5       ,  0.01666667],\n",
      "       [ 0.68750006,  0.        ,  0.01666667],\n",
      "       [ 0.2875    ,  0.        ,  0.01666667],\n",
      "       [ 0.9875    ,  0.        ,  0.01666667],\n",
      "       [ 0.01249999,  0.        ,  0.08333334],\n",
      "       [-0.01249999,  0.        ,  0.01666667],\n",
      "       [-1.7750001 ,  0.        ,  0.01666667],\n",
      "       [-0.21249998,  0.        ,  0.01666667],\n",
      "       [ 0.01249999,  0.        ,  0.01666667],\n",
      "       [-0.01249999,  0.        ,  0.35      ],\n",
      "       [ 0.01249999,  0.        ,  0.01666667],\n",
      "       [ 0.25      ,  0.6625    ,  0.06666667],\n",
      "       [ 0.16250002,  0.14999998,  0.01666667],\n",
      "       [ 0.14999998,  0.0625    ,  0.01666667],\n",
      "       [ 0.425     , -0.03750002,  0.01666667],\n",
      "       [ 0.425     , -0.1875    ,  0.01666667],\n",
      "       [ 0.41249996, -0.11249995,  0.01666667],\n",
      "       [ 0.05000001, -0.08750004,  0.01666667],\n",
      "       [ 0.03750002, -0.07499999,  0.01666667],\n",
      "       [-0.2625    , -1.1125    ,  0.01666667],\n",
      "       [-0.125     , -0.09999996,  0.01666667],\n",
      "       [-0.5375    , -0.13750005,  0.01666667],\n",
      "       [ 0.        , -0.01249999,  0.01666667],\n",
      "       [ 0.5125    ,  0.13749999,  0.01666667],\n",
      "       [ 0.23750001,  0.20000005,  0.01666667],\n",
      "       [ 0.23750001,  0.65      ,  0.01666667],\n",
      "       [-0.01249999,  0.        ,  0.1       ],\n",
      "       [-0.28750002, -0.7125    ,  0.01666667],\n",
      "       [-0.01249999, -0.01250005,  0.01666667],\n",
      "       [ 0.02499998,  0.02500004,  0.03333334],\n",
      "       [ 0.0625    ,  0.0625    ,  0.01666667]], dtype=float32)\n",
      "train_x[0].shape= (120, 3), (train_x.shape)=(18364, 120, 3)\n",
      "\n",
      "\n",
      "train_y[0]=array([1., 0., 0., 0., 0., 0., 0., 0., 0., 0., 0., 0., 0., 0., 0., 0., 0.,\n",
      "       0.]), len(train_y)=18364\n"
     ]
    }
   ],
   "source": [
    "train_x, train_y = (np.array([x.to_numpy(dtype=np.float32) for (x, _) in train], dtype=np.float32), np.array([y for (_, y) in train]))\n",
    "valid_x, valid_y =(np.array([x.to_numpy(dtype=np.float32) for (x, _) in valid], dtype=np.float32), np.array([y for (_, y) in valid]))\n",
    "test_x, test_y = (np.array([x.to_numpy(dtype=np.float32) for (x, _) in test], dtype=np.float32), np.array([y for (_, y) in test]))\n",
    "\n",
    "print(f'{train_x[0]=}\\n{train_x[0].shape= }, {(train_x.shape)=}\\n')\n",
    "print(f'\\n{train_y[0]=}, {len(train_y)=}')"
   ]
  },
  {
   "cell_type": "markdown",
   "metadata": {},
   "source": [
    "### Define the model"
   ]
  },
  {
   "cell_type": "code",
   "execution_count": 17,
   "metadata": {},
   "outputs": [
    {
     "name": "stderr",
     "output_type": "stream",
     "text": [
      "2024-04-29 23:08:30.733993: I tensorflow/core/platform/cpu_feature_guard.cc:182] This TensorFlow binary is optimized to use available CPU instructions in performance-critical operations.\n",
      "To enable the following instructions: AVX2 FMA, in other operations, rebuild TensorFlow with the appropriate compiler flags.\n"
     ]
    }
   ],
   "source": [
    "import tensorflow as tf\n",
    "import tensorflow.keras as keras\n",
    "from tensorflow.keras.models import Model\n",
    "from tensorflow.keras.layers import Input, Conv1D, ELU, Dropout, Dense, Concatenate, Flatten, GRU, LSTM"
   ]
  },
  {
   "cell_type": "code",
   "execution_count": 18,
   "metadata": {},
   "outputs": [
    {
     "name": "stdout",
     "output_type": "stream",
     "text": [
      "1 Physical GPUs, 1 Logical GPUs\n"
     ]
    },
    {
     "name": "stderr",
     "output_type": "stream",
     "text": [
      "2024-04-29 23:08:32.121098: I tensorflow/compiler/xla/stream_executor/rocm/rocm_gpu_executor.cc:838] successful NUMA node read from SysFS had negative value (-1), but there must be at least one NUMA node, so returning NUMA node zero\n",
      "2024-04-29 23:08:32.137383: I tensorflow/compiler/xla/stream_executor/rocm/rocm_gpu_executor.cc:838] successful NUMA node read from SysFS had negative value (-1), but there must be at least one NUMA node, so returning NUMA node zero\n",
      "2024-04-29 23:08:32.137430: I tensorflow/compiler/xla/stream_executor/rocm/rocm_gpu_executor.cc:838] successful NUMA node read from SysFS had negative value (-1), but there must be at least one NUMA node, so returning NUMA node zero\n",
      "2024-04-29 23:08:32.138442: I tensorflow/compiler/xla/stream_executor/rocm/rocm_gpu_executor.cc:838] successful NUMA node read from SysFS had negative value (-1), but there must be at least one NUMA node, so returning NUMA node zero\n",
      "2024-04-29 23:08:32.138514: I tensorflow/compiler/xla/stream_executor/rocm/rocm_gpu_executor.cc:838] successful NUMA node read from SysFS had negative value (-1), but there must be at least one NUMA node, so returning NUMA node zero\n",
      "2024-04-29 23:08:32.138546: I tensorflow/compiler/xla/stream_executor/rocm/rocm_gpu_executor.cc:838] successful NUMA node read from SysFS had negative value (-1), but there must be at least one NUMA node, so returning NUMA node zero\n",
      "2024-04-29 23:08:32.138632: I tensorflow/compiler/xla/stream_executor/rocm/rocm_gpu_executor.cc:838] successful NUMA node read from SysFS had negative value (-1), but there must be at least one NUMA node, so returning NUMA node zero\n",
      "2024-04-29 23:08:32.138669: I tensorflow/compiler/xla/stream_executor/rocm/rocm_gpu_executor.cc:838] successful NUMA node read from SysFS had negative value (-1), but there must be at least one NUMA node, so returning NUMA node zero\n",
      "2024-04-29 23:08:32.138704: I tensorflow/compiler/xla/stream_executor/rocm/rocm_gpu_executor.cc:838] successful NUMA node read from SysFS had negative value (-1), but there must be at least one NUMA node, so returning NUMA node zero\n",
      "2024-04-29 23:08:32.138723: I tensorflow/core/common_runtime/gpu/gpu_device.cc:1639] Created device /job:localhost/replica:0/task:0/device:GPU:0 with 11188 MB memory:  -> device: 0, name: AMD Radeon RX 6700 XT, pci bus id: 0000:2d:00.0\n"
     ]
    }
   ],
   "source": [
    "gpus = tf.config.list_physical_devices('GPU')\n",
    "if gpus:\n",
    "  try:\n",
    "    # Currently, memory growth needs to be the same across GPUs\n",
    "    for gpu in gpus:\n",
    "      tf.config.experimental.set_memory_growth(gpu, True)\n",
    "    logical_gpus = tf.config.list_logical_devices('GPU')\n",
    "    print(len(gpus), \"Physical GPUs,\", len(logical_gpus), \"Logical GPUs\")\n",
    "  except RuntimeError as e:\n",
    "    # Memory growth must be set before GPUs have been initialized\n",
    "    print(e)"
   ]
  },
  {
   "cell_type": "code",
   "execution_count": 20,
   "metadata": {},
   "outputs": [
    {
     "name": "stdout",
     "output_type": "stream",
     "text": [
      "Model: \"model_1\"\n",
      "__________________________________________________________________________________________________\n",
      " Layer (type)                Output Shape                 Param #   Connected to                  \n",
      "==================================================================================================\n",
      " input_2 (InputLayer)        [(None, 120, 3)]             0         []                            \n",
      "                                                                                                  \n",
      " conv1d_4 (Conv1D)           (None, 57, 32)               704       ['input_2[0][0]']             \n",
      "                                                                                                  \n",
      " conv1d_5 (Conv1D)           (None, 118, 32)              320       ['input_2[0][0]']             \n",
      "                                                                                                  \n",
      " concatenate_1 (Concatenate  (None, 175, 32)              0         ['conv1d_4[0][0]',            \n",
      " )                                                                   'conv1d_5[0][0]']            \n",
      "                                                                                                  \n",
      " elu_6 (ELU)                 (None, 175, 32)              0         ['concatenate_1[0][0]']       \n",
      "                                                                                                  \n",
      " conv1d_6 (Conv1D)           (None, 174, 32)              2080      ['elu_6[0][0]']               \n",
      "                                                                                                  \n",
      " conv1d_7 (Conv1D)           (None, 173, 32)              2080      ['conv1d_6[0][0]']            \n",
      "                                                                                                  \n",
      " dropout_2 (Dropout)         (None, 173, 32)              0         ['conv1d_7[0][0]']            \n",
      "                                                                                                  \n",
      " lstm_2 (LSTM)               (None, 173, 32)              8320      ['dropout_2[0][0]']           \n",
      "                                                                                                  \n",
      " lstm_3 (LSTM)               (None, 32)                   8320      ['lstm_2[0][0]']              \n",
      "                                                                                                  \n",
      " dropout_3 (Dropout)         (None, 32)                   0         ['lstm_3[0][0]']              \n",
      "                                                                                                  \n",
      " dense_1 (Dense)             (None, 18)                   594       ['dropout_3[0][0]']           \n",
      "                                                                                                  \n",
      "==================================================================================================\n",
      "Total params: 22418 (87.57 KB)\n",
      "Trainable params: 22418 (87.57 KB)\n",
      "Non-trainable params: 0 (0.00 Byte)\n",
      "__________________________________________________________________________________________________\n"
     ]
    }
   ],
   "source": [
    "def createClassifier(width=3, seq_len=SEQ_LEN):\n",
    "    input_layer = Input(shape=(seq_len, width))\n",
    "    conv1 = Conv1D(filters=32, kernel_size=7, strides=2, activation=ELU())(input_layer)\n",
    "    conv2 = Conv1D(filters=32, kernel_size=3, strides=1, activation=ELU())(input_layer)\n",
    "    \n",
    "    catted = Concatenate(axis=1)([conv1, conv2])\n",
    "    elu1 = ELU(32)(catted)\n",
    "    conv3 = Conv1D(filters=32, kernel_size=2, strides=1, activation=ELU())(elu1)\n",
    "    conv4 = Conv1D(filters=32, kernel_size=2, strides=1, activation=ELU())(conv3)\n",
    "    drop1 = Dropout(0.2)(conv4)\n",
    "\n",
    "    lstm1 = LSTM(32, return_sequences=True)(drop1)\n",
    "    lstm2 = LSTM(32)(lstm1)\n",
    "    drop2 = Dropout(0.2)(lstm2)\n",
    "\n",
    "    output = Dense(len(players_set), activation='softmax')(drop2)\n",
    "\n",
    "    model = Model(inputs=input_layer, outputs=output)\n",
    "    model.compile(loss='categorical_crossentropy', optimizer='adam', metrics=['accuracy'])\n",
    "    return model\n",
    "\n",
    "model = createClassifier(3)\n",
    "model.summary()"
   ]
  },
  {
   "cell_type": "code",
   "execution_count": 21,
   "metadata": {},
   "outputs": [
    {
     "name": "stderr",
     "output_type": "stream",
     "text": [
      "2024-04-29 23:09:09.699227: I tensorflow/core/common_runtime/gpu_fusion_pass.cc:508] ROCm Fusion is enabled.\n",
      "2024-04-29 23:09:09.700938: I tensorflow/core/common_runtime/gpu_fusion_pass.cc:508] ROCm Fusion is enabled.\n",
      "2024-04-29 23:09:09.709739: I tensorflow/core/common_runtime/gpu_fusion_pass.cc:508] ROCm Fusion is enabled.\n",
      "2024-04-29 23:09:09.711172: I tensorflow/core/common_runtime/gpu_fusion_pass.cc:508] ROCm Fusion is enabled.\n",
      "2024-04-29 23:09:09.724350: I tensorflow/core/common_runtime/gpu_fusion_pass.cc:508] ROCm Fusion is enabled.\n",
      "2024-04-29 23:09:09.726334: I tensorflow/core/common_runtime/gpu_fusion_pass.cc:508] ROCm Fusion is enabled.\n",
      "2024-04-29 23:09:09.736521: I tensorflow/core/common_runtime/gpu_fusion_pass.cc:508] ROCm Fusion is enabled.\n",
      "2024-04-29 23:09:09.738469: I tensorflow/core/common_runtime/gpu_fusion_pass.cc:508] ROCm Fusion is enabled.\n",
      "2024-04-29 23:09:09.744240: I tensorflow/core/common_runtime/gpu_fusion_pass.cc:508] ROCm Fusion is enabled.\n",
      "2024-04-29 23:09:09.745023: I tensorflow/core/common_runtime/gpu_fusion_pass.cc:508] ROCm Fusion is enabled.\n",
      "2024-04-29 23:09:09.745664: I tensorflow/core/common_runtime/gpu_fusion_pass.cc:508] ROCm Fusion is enabled.\n",
      "2024-04-29 23:09:09.746359: I tensorflow/core/common_runtime/gpu_fusion_pass.cc:508] ROCm Fusion is enabled.\n",
      "2024-04-29 23:09:09.746948: I tensorflow/core/common_runtime/gpu_fusion_pass.cc:508] ROCm Fusion is enabled.\n",
      "2024-04-29 23:09:09.747413: I tensorflow/core/common_runtime/gpu_fusion_pass.cc:508] ROCm Fusion is enabled.\n",
      "2024-04-29 23:09:09.749985: I tensorflow/core/common_runtime/gpu_fusion_pass.cc:508] ROCm Fusion is enabled.\n",
      "2024-04-29 23:09:09.750855: I tensorflow/core/common_runtime/gpu_fusion_pass.cc:508] ROCm Fusion is enabled.\n",
      "2024-04-29 23:09:09.751269: I tensorflow/core/common_runtime/gpu_fusion_pass.cc:508] ROCm Fusion is enabled.\n",
      "2024-04-29 23:09:09.775098: I tensorflow/core/common_runtime/gpu_fusion_pass.cc:508] ROCm Fusion is enabled.\n",
      "2024-04-29 23:09:09.778902: I tensorflow/core/common_runtime/gpu_fusion_pass.cc:508] ROCm Fusion is enabled.\n",
      "2024-04-29 23:09:09.781920: I tensorflow/core/common_runtime/gpu_fusion_pass.cc:508] ROCm Fusion is enabled.\n",
      "2024-04-29 23:09:11.476984: I tensorflow/core/common_runtime/gpu_fusion_pass.cc:508] ROCm Fusion is enabled.\n",
      "2024-04-29 23:09:11.660411: I tensorflow/core/common_runtime/gpu_fusion_pass.cc:508] ROCm Fusion is enabled.\n",
      "2024-04-29 23:09:11.932894: I tensorflow/core/common_runtime/gpu_fusion_pass.cc:508] ROCm Fusion is enabled.\n",
      "2024-04-29 23:09:12.202181: I tensorflow/compiler/xla/service/service.cc:168] XLA service 0x561c51a243b0 initialized for platform ROCM (this does not guarantee that XLA will be used). Devices:\n",
      "2024-04-29 23:09:12.202205: I tensorflow/compiler/xla/service/service.cc:176]   StreamExecutor device (0): AMD Radeon RX 6700 XT, AMDGPU ISA version: gfx1030\n",
      "2024-04-29 23:09:12.205177: I tensorflow/compiler/mlir/tensorflow/utils/dump_mlir_util.cc:255] disabling MLIR crash reproducer, set env var `MLIR_CRASH_REPRODUCER_DIRECTORY` to enable.\n",
      "2024-04-29 23:09:12.393897: I ./tensorflow/compiler/jit/device_compiler.h:186] Compiled cluster using XLA!  This line is logged at most once for the lifetime of the process.\n",
      "2024-04-29 23:09:12.834735: I tensorflow/core/common_runtime/gpu_fusion_pass.cc:508] ROCm Fusion is enabled.\n",
      "2024-04-29 23:09:12.890335: I tensorflow/core/common_runtime/gpu_fusion_pass.cc:508] ROCm Fusion is enabled.\n",
      "2024-04-29 23:09:20.180391: I tensorflow/core/common_runtime/gpu_fusion_pass.cc:508] ROCm Fusion is enabled.\n",
      "2024-04-29 23:09:20.181193: I tensorflow/core/common_runtime/gpu_fusion_pass.cc:508] ROCm Fusion is enabled.\n",
      "2024-04-29 23:09:20.181709: I tensorflow/core/common_runtime/gpu_fusion_pass.cc:508] ROCm Fusion is enabled.\n",
      "2024-04-29 23:09:20.190444: I tensorflow/core/common_runtime/gpu_fusion_pass.cc:508] ROCm Fusion is enabled.\n",
      "2024-04-29 23:09:20.191201: I tensorflow/core/common_runtime/gpu_fusion_pass.cc:508] ROCm Fusion is enabled.\n",
      "2024-04-29 23:09:20.197466: I tensorflow/core/common_runtime/gpu_fusion_pass.cc:508] ROCm Fusion is enabled.\n",
      "2024-04-29 23:09:20.198405: I tensorflow/core/common_runtime/gpu_fusion_pass.cc:508] ROCm Fusion is enabled.\n",
      "2024-04-29 23:09:20.199521: I tensorflow/core/common_runtime/gpu_fusion_pass.cc:508] ROCm Fusion is enabled.\n",
      "2024-04-29 23:09:20.200103: I tensorflow/core/common_runtime/gpu_fusion_pass.cc:508] ROCm Fusion is enabled.\n",
      "2024-04-29 23:09:20.204947: I tensorflow/core/common_runtime/gpu_fusion_pass.cc:508] ROCm Fusion is enabled.\n",
      "2024-04-29 23:09:20.205824: I tensorflow/core/common_runtime/gpu_fusion_pass.cc:508] ROCm Fusion is enabled.\n",
      "2024-04-29 23:09:20.211715: I tensorflow/core/common_runtime/gpu_fusion_pass.cc:508] ROCm Fusion is enabled.\n",
      "2024-04-29 23:09:20.215434: I tensorflow/core/common_runtime/gpu_fusion_pass.cc:508] ROCm Fusion is enabled.\n",
      "2024-04-29 23:09:20.218598: I tensorflow/core/common_runtime/gpu_fusion_pass.cc:508] ROCm Fusion is enabled.\n",
      "2024-04-29 23:09:20.219663: I tensorflow/core/common_runtime/gpu_fusion_pass.cc:508] ROCm Fusion is enabled.\n",
      "2024-04-29 23:09:20.600186: I tensorflow/core/common_runtime/gpu_fusion_pass.cc:508] ROCm Fusion is enabled.\n",
      "2024-04-29 23:09:20.618632: I tensorflow/core/common_runtime/gpu_fusion_pass.cc:508] ROCm Fusion is enabled.\n",
      "2024-04-29 23:09:20.635344: I tensorflow/core/common_runtime/gpu_fusion_pass.cc:508] ROCm Fusion is enabled.\n",
      "2024-04-29 23:09:27.631383: I tensorflow/core/common_runtime/gpu_fusion_pass.cc:508] ROCm Fusion is enabled.\n",
      "2024-04-29 23:09:27.635216: I tensorflow/core/common_runtime/gpu_fusion_pass.cc:508] ROCm Fusion is enabled.\n",
      "2024-04-29 23:09:27.638081: I tensorflow/core/common_runtime/gpu_fusion_pass.cc:508] ROCm Fusion is enabled.\n",
      "2024-04-29 23:09:34.490343: I tensorflow/core/common_runtime/gpu_fusion_pass.cc:508] ROCm Fusion is enabled.\n",
      "2024-04-29 23:09:34.494336: I tensorflow/core/common_runtime/gpu_fusion_pass.cc:508] ROCm Fusion is enabled.\n",
      "2024-04-29 23:09:34.497507: I tensorflow/core/common_runtime/gpu_fusion_pass.cc:508] ROCm Fusion is enabled.\n"
     ]
    },
    {
     "ename": "KeyboardInterrupt",
     "evalue": "",
     "output_type": "error",
     "traceback": [
      "\u001b[0;31m---------------------------------------------------------------------------\u001b[0m",
      "\u001b[0;31mKeyboardInterrupt\u001b[0m                         Traceback (most recent call last)",
      "Cell \u001b[0;32mIn[21], line 1\u001b[0m\n\u001b[0;32m----> 1\u001b[0m history \u001b[38;5;241m=\u001b[39m \u001b[43mmodel\u001b[49m\u001b[38;5;241;43m.\u001b[39;49m\u001b[43mfit\u001b[49m\u001b[43m(\u001b[49m\n\u001b[1;32m      2\u001b[0m \u001b[43m    \u001b[49m\u001b[43mtrain_x\u001b[49m\u001b[43m,\u001b[49m\u001b[43m \u001b[49m\u001b[43mtrain_y\u001b[49m\u001b[43m,\u001b[49m\u001b[43m \u001b[49m\u001b[43mepochs\u001b[49m\u001b[38;5;241;43m=\u001b[39;49m\u001b[38;5;241;43m60\u001b[39;49m\u001b[43m,\u001b[49m\u001b[43m \u001b[49m\u001b[43mverbose\u001b[49m\u001b[38;5;241;43m=\u001b[39;49m\u001b[38;5;241;43m0\u001b[39;49m\u001b[43m,\u001b[49m\u001b[43m \u001b[49m\u001b[43mbatch_size\u001b[49m\u001b[38;5;241;43m=\u001b[39;49m\u001b[38;5;241;43m64\u001b[39;49m\u001b[43m,\u001b[49m\u001b[43m \u001b[49m\u001b[43mvalidation_data\u001b[49m\u001b[38;5;241;43m=\u001b[39;49m\u001b[43m(\u001b[49m\u001b[43mvalid_x\u001b[49m\u001b[43m,\u001b[49m\u001b[43m \u001b[49m\u001b[43mvalid_y\u001b[49m\u001b[43m)\u001b[49m\n\u001b[1;32m      3\u001b[0m \u001b[43m)\u001b[49m\n",
      "File \u001b[0;32m~/.local/lib/python3.10/site-packages/keras/src/utils/traceback_utils.py:65\u001b[0m, in \u001b[0;36mfilter_traceback.<locals>.error_handler\u001b[0;34m(*args, **kwargs)\u001b[0m\n\u001b[1;32m     63\u001b[0m filtered_tb \u001b[38;5;241m=\u001b[39m \u001b[38;5;28;01mNone\u001b[39;00m\n\u001b[1;32m     64\u001b[0m \u001b[38;5;28;01mtry\u001b[39;00m:\n\u001b[0;32m---> 65\u001b[0m     \u001b[38;5;28;01mreturn\u001b[39;00m \u001b[43mfn\u001b[49m\u001b[43m(\u001b[49m\u001b[38;5;241;43m*\u001b[39;49m\u001b[43margs\u001b[49m\u001b[43m,\u001b[49m\u001b[43m \u001b[49m\u001b[38;5;241;43m*\u001b[39;49m\u001b[38;5;241;43m*\u001b[39;49m\u001b[43mkwargs\u001b[49m\u001b[43m)\u001b[49m\n\u001b[1;32m     66\u001b[0m \u001b[38;5;28;01mexcept\u001b[39;00m \u001b[38;5;167;01mException\u001b[39;00m \u001b[38;5;28;01mas\u001b[39;00m e:\n\u001b[1;32m     67\u001b[0m     filtered_tb \u001b[38;5;241m=\u001b[39m _process_traceback_frames(e\u001b[38;5;241m.\u001b[39m__traceback__)\n",
      "File \u001b[0;32m~/.local/lib/python3.10/site-packages/keras/src/engine/training.py:1742\u001b[0m, in \u001b[0;36mModel.fit\u001b[0;34m(self, x, y, batch_size, epochs, verbose, callbacks, validation_split, validation_data, shuffle, class_weight, sample_weight, initial_epoch, steps_per_epoch, validation_steps, validation_batch_size, validation_freq, max_queue_size, workers, use_multiprocessing)\u001b[0m\n\u001b[1;32m   1734\u001b[0m \u001b[38;5;28;01mwith\u001b[39;00m tf\u001b[38;5;241m.\u001b[39mprofiler\u001b[38;5;241m.\u001b[39mexperimental\u001b[38;5;241m.\u001b[39mTrace(\n\u001b[1;32m   1735\u001b[0m     \u001b[38;5;124m\"\u001b[39m\u001b[38;5;124mtrain\u001b[39m\u001b[38;5;124m\"\u001b[39m,\n\u001b[1;32m   1736\u001b[0m     epoch_num\u001b[38;5;241m=\u001b[39mepoch,\n\u001b[0;32m   (...)\u001b[0m\n\u001b[1;32m   1739\u001b[0m     _r\u001b[38;5;241m=\u001b[39m\u001b[38;5;241m1\u001b[39m,\n\u001b[1;32m   1740\u001b[0m ):\n\u001b[1;32m   1741\u001b[0m     callbacks\u001b[38;5;241m.\u001b[39mon_train_batch_begin(step)\n\u001b[0;32m-> 1742\u001b[0m     tmp_logs \u001b[38;5;241m=\u001b[39m \u001b[38;5;28;43mself\u001b[39;49m\u001b[38;5;241;43m.\u001b[39;49m\u001b[43mtrain_function\u001b[49m\u001b[43m(\u001b[49m\u001b[43miterator\u001b[49m\u001b[43m)\u001b[49m\n\u001b[1;32m   1743\u001b[0m     \u001b[38;5;28;01mif\u001b[39;00m data_handler\u001b[38;5;241m.\u001b[39mshould_sync:\n\u001b[1;32m   1744\u001b[0m         context\u001b[38;5;241m.\u001b[39masync_wait()\n",
      "File \u001b[0;32m~/.local/lib/python3.10/site-packages/tensorflow/python/util/traceback_utils.py:150\u001b[0m, in \u001b[0;36mfilter_traceback.<locals>.error_handler\u001b[0;34m(*args, **kwargs)\u001b[0m\n\u001b[1;32m    148\u001b[0m filtered_tb \u001b[38;5;241m=\u001b[39m \u001b[38;5;28;01mNone\u001b[39;00m\n\u001b[1;32m    149\u001b[0m \u001b[38;5;28;01mtry\u001b[39;00m:\n\u001b[0;32m--> 150\u001b[0m   \u001b[38;5;28;01mreturn\u001b[39;00m \u001b[43mfn\u001b[49m\u001b[43m(\u001b[49m\u001b[38;5;241;43m*\u001b[39;49m\u001b[43margs\u001b[49m\u001b[43m,\u001b[49m\u001b[43m \u001b[49m\u001b[38;5;241;43m*\u001b[39;49m\u001b[38;5;241;43m*\u001b[39;49m\u001b[43mkwargs\u001b[49m\u001b[43m)\u001b[49m\n\u001b[1;32m    151\u001b[0m \u001b[38;5;28;01mexcept\u001b[39;00m \u001b[38;5;167;01mException\u001b[39;00m \u001b[38;5;28;01mas\u001b[39;00m e:\n\u001b[1;32m    152\u001b[0m   filtered_tb \u001b[38;5;241m=\u001b[39m _process_traceback_frames(e\u001b[38;5;241m.\u001b[39m__traceback__)\n",
      "File \u001b[0;32m~/.local/lib/python3.10/site-packages/tensorflow/python/eager/polymorphic_function/polymorphic_function.py:825\u001b[0m, in \u001b[0;36mFunction.__call__\u001b[0;34m(self, *args, **kwds)\u001b[0m\n\u001b[1;32m    822\u001b[0m compiler \u001b[38;5;241m=\u001b[39m \u001b[38;5;124m\"\u001b[39m\u001b[38;5;124mxla\u001b[39m\u001b[38;5;124m\"\u001b[39m \u001b[38;5;28;01mif\u001b[39;00m \u001b[38;5;28mself\u001b[39m\u001b[38;5;241m.\u001b[39m_jit_compile \u001b[38;5;28;01melse\u001b[39;00m \u001b[38;5;124m\"\u001b[39m\u001b[38;5;124mnonXla\u001b[39m\u001b[38;5;124m\"\u001b[39m\n\u001b[1;32m    824\u001b[0m \u001b[38;5;28;01mwith\u001b[39;00m OptionalXlaContext(\u001b[38;5;28mself\u001b[39m\u001b[38;5;241m.\u001b[39m_jit_compile):\n\u001b[0;32m--> 825\u001b[0m   result \u001b[38;5;241m=\u001b[39m \u001b[38;5;28;43mself\u001b[39;49m\u001b[38;5;241;43m.\u001b[39;49m\u001b[43m_call\u001b[49m\u001b[43m(\u001b[49m\u001b[38;5;241;43m*\u001b[39;49m\u001b[43margs\u001b[49m\u001b[43m,\u001b[49m\u001b[43m \u001b[49m\u001b[38;5;241;43m*\u001b[39;49m\u001b[38;5;241;43m*\u001b[39;49m\u001b[43mkwds\u001b[49m\u001b[43m)\u001b[49m\n\u001b[1;32m    827\u001b[0m new_tracing_count \u001b[38;5;241m=\u001b[39m \u001b[38;5;28mself\u001b[39m\u001b[38;5;241m.\u001b[39mexperimental_get_tracing_count()\n\u001b[1;32m    828\u001b[0m without_tracing \u001b[38;5;241m=\u001b[39m (tracing_count \u001b[38;5;241m==\u001b[39m new_tracing_count)\n",
      "File \u001b[0;32m~/.local/lib/python3.10/site-packages/tensorflow/python/eager/polymorphic_function/polymorphic_function.py:857\u001b[0m, in \u001b[0;36mFunction._call\u001b[0;34m(self, *args, **kwds)\u001b[0m\n\u001b[1;32m    854\u001b[0m   \u001b[38;5;28mself\u001b[39m\u001b[38;5;241m.\u001b[39m_lock\u001b[38;5;241m.\u001b[39mrelease()\n\u001b[1;32m    855\u001b[0m   \u001b[38;5;66;03m# In this case we have created variables on the first call, so we run the\u001b[39;00m\n\u001b[1;32m    856\u001b[0m   \u001b[38;5;66;03m# defunned version which is guaranteed to never create variables.\u001b[39;00m\n\u001b[0;32m--> 857\u001b[0m   \u001b[38;5;28;01mreturn\u001b[39;00m \u001b[38;5;28;43mself\u001b[39;49m\u001b[38;5;241;43m.\u001b[39;49m\u001b[43m_no_variable_creation_fn\u001b[49m\u001b[43m(\u001b[49m\u001b[38;5;241;43m*\u001b[39;49m\u001b[43margs\u001b[49m\u001b[43m,\u001b[49m\u001b[43m \u001b[49m\u001b[38;5;241;43m*\u001b[39;49m\u001b[38;5;241;43m*\u001b[39;49m\u001b[43mkwds\u001b[49m\u001b[43m)\u001b[49m  \u001b[38;5;66;03m# pylint: disable=not-callable\u001b[39;00m\n\u001b[1;32m    858\u001b[0m \u001b[38;5;28;01melif\u001b[39;00m \u001b[38;5;28mself\u001b[39m\u001b[38;5;241m.\u001b[39m_variable_creation_fn \u001b[38;5;129;01mis\u001b[39;00m \u001b[38;5;129;01mnot\u001b[39;00m \u001b[38;5;28;01mNone\u001b[39;00m:\n\u001b[1;32m    859\u001b[0m   \u001b[38;5;66;03m# Release the lock early so that multiple threads can perform the call\u001b[39;00m\n\u001b[1;32m    860\u001b[0m   \u001b[38;5;66;03m# in parallel.\u001b[39;00m\n\u001b[1;32m    861\u001b[0m   \u001b[38;5;28mself\u001b[39m\u001b[38;5;241m.\u001b[39m_lock\u001b[38;5;241m.\u001b[39mrelease()\n",
      "File \u001b[0;32m~/.local/lib/python3.10/site-packages/tensorflow/python/eager/polymorphic_function/tracing_compiler.py:148\u001b[0m, in \u001b[0;36mTracingCompiler.__call__\u001b[0;34m(self, *args, **kwargs)\u001b[0m\n\u001b[1;32m    145\u001b[0m \u001b[38;5;28;01mwith\u001b[39;00m \u001b[38;5;28mself\u001b[39m\u001b[38;5;241m.\u001b[39m_lock:\n\u001b[1;32m    146\u001b[0m   (concrete_function,\n\u001b[1;32m    147\u001b[0m    filtered_flat_args) \u001b[38;5;241m=\u001b[39m \u001b[38;5;28mself\u001b[39m\u001b[38;5;241m.\u001b[39m_maybe_define_function(args, kwargs)\n\u001b[0;32m--> 148\u001b[0m \u001b[38;5;28;01mreturn\u001b[39;00m \u001b[43mconcrete_function\u001b[49m\u001b[38;5;241;43m.\u001b[39;49m\u001b[43m_call_flat\u001b[49m\u001b[43m(\u001b[49m\n\u001b[1;32m    149\u001b[0m \u001b[43m    \u001b[49m\u001b[43mfiltered_flat_args\u001b[49m\u001b[43m,\u001b[49m\u001b[43m \u001b[49m\u001b[43mcaptured_inputs\u001b[49m\u001b[38;5;241;43m=\u001b[39;49m\u001b[43mconcrete_function\u001b[49m\u001b[38;5;241;43m.\u001b[39;49m\u001b[43mcaptured_inputs\u001b[49m\u001b[43m)\u001b[49m\n",
      "File \u001b[0;32m~/.local/lib/python3.10/site-packages/tensorflow/python/eager/polymorphic_function/monomorphic_function.py:1349\u001b[0m, in \u001b[0;36mConcreteFunction._call_flat\u001b[0;34m(self, args, captured_inputs)\u001b[0m\n\u001b[1;32m   1345\u001b[0m possible_gradient_type \u001b[38;5;241m=\u001b[39m gradients_util\u001b[38;5;241m.\u001b[39mPossibleTapeGradientTypes(args)\n\u001b[1;32m   1346\u001b[0m \u001b[38;5;28;01mif\u001b[39;00m (possible_gradient_type \u001b[38;5;241m==\u001b[39m gradients_util\u001b[38;5;241m.\u001b[39mPOSSIBLE_GRADIENT_TYPES_NONE\n\u001b[1;32m   1347\u001b[0m     \u001b[38;5;129;01mand\u001b[39;00m executing_eagerly):\n\u001b[1;32m   1348\u001b[0m   \u001b[38;5;66;03m# No tape is watching; skip to running the function.\u001b[39;00m\n\u001b[0;32m-> 1349\u001b[0m   \u001b[38;5;28;01mreturn\u001b[39;00m \u001b[38;5;28mself\u001b[39m\u001b[38;5;241m.\u001b[39m_build_call_outputs(\u001b[38;5;28;43mself\u001b[39;49m\u001b[38;5;241;43m.\u001b[39;49m\u001b[43m_inference_function\u001b[49m\u001b[43m(\u001b[49m\u001b[38;5;241;43m*\u001b[39;49m\u001b[43margs\u001b[49m\u001b[43m)\u001b[49m)\n\u001b[1;32m   1350\u001b[0m forward_backward \u001b[38;5;241m=\u001b[39m \u001b[38;5;28mself\u001b[39m\u001b[38;5;241m.\u001b[39m_select_forward_and_backward_functions(\n\u001b[1;32m   1351\u001b[0m     args,\n\u001b[1;32m   1352\u001b[0m     possible_gradient_type,\n\u001b[1;32m   1353\u001b[0m     executing_eagerly)\n\u001b[1;32m   1354\u001b[0m forward_function, args_with_tangents \u001b[38;5;241m=\u001b[39m forward_backward\u001b[38;5;241m.\u001b[39mforward()\n",
      "File \u001b[0;32m~/.local/lib/python3.10/site-packages/tensorflow/python/eager/polymorphic_function/atomic_function.py:196\u001b[0m, in \u001b[0;36mAtomicFunction.__call__\u001b[0;34m(self, *args)\u001b[0m\n\u001b[1;32m    194\u001b[0m \u001b[38;5;28;01mwith\u001b[39;00m record\u001b[38;5;241m.\u001b[39mstop_recording():\n\u001b[1;32m    195\u001b[0m   \u001b[38;5;28;01mif\u001b[39;00m \u001b[38;5;28mself\u001b[39m\u001b[38;5;241m.\u001b[39m_bound_context\u001b[38;5;241m.\u001b[39mexecuting_eagerly():\n\u001b[0;32m--> 196\u001b[0m     outputs \u001b[38;5;241m=\u001b[39m \u001b[38;5;28;43mself\u001b[39;49m\u001b[38;5;241;43m.\u001b[39;49m\u001b[43m_bound_context\u001b[49m\u001b[38;5;241;43m.\u001b[39;49m\u001b[43mcall_function\u001b[49m\u001b[43m(\u001b[49m\n\u001b[1;32m    197\u001b[0m \u001b[43m        \u001b[49m\u001b[38;5;28;43mself\u001b[39;49m\u001b[38;5;241;43m.\u001b[39;49m\u001b[43mname\u001b[49m\u001b[43m,\u001b[49m\n\u001b[1;32m    198\u001b[0m \u001b[43m        \u001b[49m\u001b[38;5;28;43mlist\u001b[39;49m\u001b[43m(\u001b[49m\u001b[43margs\u001b[49m\u001b[43m)\u001b[49m\u001b[43m,\u001b[49m\n\u001b[1;32m    199\u001b[0m \u001b[43m        \u001b[49m\u001b[38;5;28;43mlen\u001b[39;49m\u001b[43m(\u001b[49m\u001b[38;5;28;43mself\u001b[39;49m\u001b[38;5;241;43m.\u001b[39;49m\u001b[43mfunction_type\u001b[49m\u001b[38;5;241;43m.\u001b[39;49m\u001b[43mflat_outputs\u001b[49m\u001b[43m)\u001b[49m\u001b[43m,\u001b[49m\n\u001b[1;32m    200\u001b[0m \u001b[43m    \u001b[49m\u001b[43m)\u001b[49m\n\u001b[1;32m    201\u001b[0m   \u001b[38;5;28;01melse\u001b[39;00m:\n\u001b[1;32m    202\u001b[0m     outputs \u001b[38;5;241m=\u001b[39m make_call_op_in_graph(\u001b[38;5;28mself\u001b[39m, \u001b[38;5;28mlist\u001b[39m(args))\n",
      "File \u001b[0;32m~/.local/lib/python3.10/site-packages/tensorflow/python/eager/context.py:1457\u001b[0m, in \u001b[0;36mContext.call_function\u001b[0;34m(self, name, tensor_inputs, num_outputs)\u001b[0m\n\u001b[1;32m   1455\u001b[0m cancellation_context \u001b[38;5;241m=\u001b[39m cancellation\u001b[38;5;241m.\u001b[39mcontext()\n\u001b[1;32m   1456\u001b[0m \u001b[38;5;28;01mif\u001b[39;00m cancellation_context \u001b[38;5;129;01mis\u001b[39;00m \u001b[38;5;28;01mNone\u001b[39;00m:\n\u001b[0;32m-> 1457\u001b[0m   outputs \u001b[38;5;241m=\u001b[39m \u001b[43mexecute\u001b[49m\u001b[38;5;241;43m.\u001b[39;49m\u001b[43mexecute\u001b[49m\u001b[43m(\u001b[49m\n\u001b[1;32m   1458\u001b[0m \u001b[43m      \u001b[49m\u001b[43mname\u001b[49m\u001b[38;5;241;43m.\u001b[39;49m\u001b[43mdecode\u001b[49m\u001b[43m(\u001b[49m\u001b[38;5;124;43m\"\u001b[39;49m\u001b[38;5;124;43mutf-8\u001b[39;49m\u001b[38;5;124;43m\"\u001b[39;49m\u001b[43m)\u001b[49m\u001b[43m,\u001b[49m\n\u001b[1;32m   1459\u001b[0m \u001b[43m      \u001b[49m\u001b[43mnum_outputs\u001b[49m\u001b[38;5;241;43m=\u001b[39;49m\u001b[43mnum_outputs\u001b[49m\u001b[43m,\u001b[49m\n\u001b[1;32m   1460\u001b[0m \u001b[43m      \u001b[49m\u001b[43minputs\u001b[49m\u001b[38;5;241;43m=\u001b[39;49m\u001b[43mtensor_inputs\u001b[49m\u001b[43m,\u001b[49m\n\u001b[1;32m   1461\u001b[0m \u001b[43m      \u001b[49m\u001b[43mattrs\u001b[49m\u001b[38;5;241;43m=\u001b[39;49m\u001b[43mattrs\u001b[49m\u001b[43m,\u001b[49m\n\u001b[1;32m   1462\u001b[0m \u001b[43m      \u001b[49m\u001b[43mctx\u001b[49m\u001b[38;5;241;43m=\u001b[39;49m\u001b[38;5;28;43mself\u001b[39;49m\u001b[43m,\u001b[49m\n\u001b[1;32m   1463\u001b[0m \u001b[43m  \u001b[49m\u001b[43m)\u001b[49m\n\u001b[1;32m   1464\u001b[0m \u001b[38;5;28;01melse\u001b[39;00m:\n\u001b[1;32m   1465\u001b[0m   outputs \u001b[38;5;241m=\u001b[39m execute\u001b[38;5;241m.\u001b[39mexecute_with_cancellation(\n\u001b[1;32m   1466\u001b[0m       name\u001b[38;5;241m.\u001b[39mdecode(\u001b[38;5;124m\"\u001b[39m\u001b[38;5;124mutf-8\u001b[39m\u001b[38;5;124m\"\u001b[39m),\n\u001b[1;32m   1467\u001b[0m       num_outputs\u001b[38;5;241m=\u001b[39mnum_outputs,\n\u001b[0;32m   (...)\u001b[0m\n\u001b[1;32m   1471\u001b[0m       cancellation_manager\u001b[38;5;241m=\u001b[39mcancellation_context,\n\u001b[1;32m   1472\u001b[0m   )\n",
      "File \u001b[0;32m~/.local/lib/python3.10/site-packages/tensorflow/python/eager/execute.py:53\u001b[0m, in \u001b[0;36mquick_execute\u001b[0;34m(op_name, num_outputs, inputs, attrs, ctx, name)\u001b[0m\n\u001b[1;32m     51\u001b[0m \u001b[38;5;28;01mtry\u001b[39;00m:\n\u001b[1;32m     52\u001b[0m   ctx\u001b[38;5;241m.\u001b[39mensure_initialized()\n\u001b[0;32m---> 53\u001b[0m   tensors \u001b[38;5;241m=\u001b[39m \u001b[43mpywrap_tfe\u001b[49m\u001b[38;5;241;43m.\u001b[39;49m\u001b[43mTFE_Py_Execute\u001b[49m\u001b[43m(\u001b[49m\u001b[43mctx\u001b[49m\u001b[38;5;241;43m.\u001b[39;49m\u001b[43m_handle\u001b[49m\u001b[43m,\u001b[49m\u001b[43m \u001b[49m\u001b[43mdevice_name\u001b[49m\u001b[43m,\u001b[49m\u001b[43m \u001b[49m\u001b[43mop_name\u001b[49m\u001b[43m,\u001b[49m\n\u001b[1;32m     54\u001b[0m \u001b[43m                                      \u001b[49m\u001b[43minputs\u001b[49m\u001b[43m,\u001b[49m\u001b[43m \u001b[49m\u001b[43mattrs\u001b[49m\u001b[43m,\u001b[49m\u001b[43m \u001b[49m\u001b[43mnum_outputs\u001b[49m\u001b[43m)\u001b[49m\n\u001b[1;32m     55\u001b[0m \u001b[38;5;28;01mexcept\u001b[39;00m core\u001b[38;5;241m.\u001b[39m_NotOkStatusException \u001b[38;5;28;01mas\u001b[39;00m e:\n\u001b[1;32m     56\u001b[0m   \u001b[38;5;28;01mif\u001b[39;00m name \u001b[38;5;129;01mis\u001b[39;00m \u001b[38;5;129;01mnot\u001b[39;00m \u001b[38;5;28;01mNone\u001b[39;00m:\n",
      "\u001b[0;31mKeyboardInterrupt\u001b[0m: "
     ]
    }
   ],
   "source": [
    "history = model.fit(\n",
    "    train_x, train_y, epochs=60, verbose=0, batch_size=64, validation_data=(valid_x, valid_y)\n",
    ")"
   ]
  },
  {
   "cell_type": "code",
   "execution_count": 17,
   "metadata": {},
   "outputs": [],
   "source": [
    "import matplotlib.pyplot as plt"
   ]
  },
  {
   "cell_type": "code",
   "execution_count": 18,
   "metadata": {},
   "outputs": [
    {
     "data": {
      "image/png": "[encoded data removed]",
      "text/plain": [
       "<Figure size 640x480 with 1 Axes>"
      ]
     },
     "metadata": {},
     "output_type": "display_data"
    }
   ],
   "source": [
    "plt.plot('val_accuracy', data=history.history)\n",
    "plt.plot('accuracy', data=history.history)\n",
    "plt.ylabel('accuracy')\n",
    "plt.xlabel('epoch')\n",
    "\n",
    "plt.legend()\n",
    "\n",
    "# plt.savefig('results/learning_curve')\n",
    "plt.show()"
   ]
  },
  {
   "cell_type": "markdown",
   "metadata": {},
   "source": [
    "## Example prediction"
   ]
  },
  {
   "cell_type": "code",
   "execution_count": 14,
   "metadata": {},
   "outputs": [
    {
     "data": {
      "text/plain": [
       "'wizzrobe'"
      ]
     },
     "execution_count": 14,
     "metadata": {},
     "output_type": "execute_result"
    }
   ],
   "source": [
    "example_df = pd.read_csv('dataset/velocities/wizzrobe_sfat_18-07-21_16:09.csv', index_col=None)\n",
    "predict = model(np.array([example_df.iloc[range(SEQ_LEN), :]], dtype=np.float32), training=False)\n",
    "\n",
    "int_to_player[np.argmax(predict)]"
   ]
  },
  {
   "cell_type": "markdown",
   "metadata": {},
   "source": [
    "## Test the model"
   ]
  },
  {
   "cell_type": "markdown",
   "metadata": {},
   "source": [
    "### Get test outputs"
   ]
  },
  {
   "cell_type": "code",
   "execution_count": 19,
   "metadata": {},
   "outputs": [
    {
     "name": "stdout",
     "output_type": "stream",
     "text": [
      "\u001b[1m190/190\u001b[0m \u001b[32m━━━━━━━━━━━━━━━━━━━━\u001b[0m\u001b[37m\u001b[0m \u001b[1m4s\u001b[0m 20ms/step\n"
     ]
    },
    {
     "data": {
      "text/plain": [
       "(6058, 16)"
      ]
     },
     "execution_count": 19,
     "metadata": {},
     "output_type": "execute_result"
    }
   ],
   "source": [
    "test_h = []\n",
    "test_h = model.predict(test_x)\n",
    "\n",
    "test_h.shape"
   ]
  },
  {
   "cell_type": "markdown",
   "metadata": {},
   "source": [
    "### Compare test outputs to labels"
   ]
  },
  {
   "cell_type": "code",
   "execution_count": 20,
   "metadata": {},
   "outputs": [
    {
     "name": "stdout",
     "output_type": "stream",
     "text": [
      "[0.7743479696269396, 0.8935292175635523, 0.9405744470122153, 0.9610432485968967, 0.9768900627269727, 0.9859689666556619, 0.9899306701881809, 0.9935622317596566, 0.9958732254869594, 0.997358864311654, 0.9983492901947838, 0.9990095741168703, 0.9993397160779135, 1.0, 1.0, 1.0]\n"
     ]
    }
   ],
   "source": [
    "ranks = []\n",
    "\n",
    "for i in range(test_h.shape[0]):\n",
    "    rankings = np.argsort(test_h[i])\n",
    "    rank = (len(players_set)-1) - np.where((rankings == np.argmax(test_y[i])))[0][0]\n",
    "    ranks.append(rank)\n",
    "\n",
    "topn_occurences = []\n",
    "running = 0\n",
    "for i in range(len(players_set)):\n",
    "    topn_occurences.append(ranks.count(i) + running)\n",
    "    running += ranks.count(i)\n",
    "\n",
    "topn_acc = [t / topn_occurences[-1] for t in topn_occurences]\n",
    "\n",
    "print(topn_acc)"
   ]
  }
 ],
 "metadata": {
  "kernelspec": {
   "display_name": "Python 3",
   "language": "python",
   "name": "python3"
  },
  "language_info": {
   "codemirror_mode": {
    "name": "ipython",
    "version": 3
   },
   "file_extension": ".py",
   "mimetype": "text/x-python",
   "name": "python",
   "nbconvert_exporter": "python",
   "pygments_lexer": "ipython3",
   "version": "3.10.12"
  }
 },
 "nbformat": 4,
 "nbformat_minor": 2
}
