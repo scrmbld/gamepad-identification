{
 "cells": [
  {
   "cell_type": "code",
   "execution_count": 13,
   "metadata": {},
   "outputs": [],
   "source": [
    "import os\n",
    "import pandas as pd\n",
    "\n",
    "import classifier\n",
    "import inputs\n",
    "\n",
    "# py-slippi\n",
    "from slippi import Game"
   ]
  },
  {
   "cell_type": "code",
   "execution_count": 2,
   "metadata": {},
   "outputs": [],
   "source": [
    "PATH='dataset/demo/inference'"
   ]
  },
  {
   "cell_type": "code",
   "execution_count": 16,
   "metadata": {},
   "outputs": [
    {
     "data": {
      "text/plain": [
       "Game(\n",
       "    end=End(\n",
       "        lras_initiator=None,\n",
       "        method=1:TIME),\n",
       "    frames=[...](18124),\n",
       "    metadata=Metadata(\n",
       "        console_name=None,\n",
       "        date=2024-04-29 23:46:26+00:00,\n",
       "        duration=18124,\n",
       "        platform='dolphin':DOLPHIN,\n",
       "        players=(\n",
       "            Player(\n",
       "                characters={9:PEACH: 18124},\n",
       "                netplay=None),\n",
       "            None,\n",
       "            None,\n",
       "            Player(\n",
       "                characters={1:FOX: 18124},\n",
       "                netplay=None))),\n",
       "    start=Start(\n",
       "        is_frozen_ps=False,\n",
       "        is_pal=False,\n",
       "        is_teams=False,\n",
       "        players=(\n",
       "            Player(\n",
       "                character=12:PEACH,\n",
       "                costume=0,\n",
       "                stocks=4,\n",
       "                tag=,\n",
       "                team=None,\n",
       "                type=0:HUMAN,\n",
       "                ucf=UCF(\n",
       "                    dash_back=1:UCF,\n",
       "                    shield_drop=1:UCF)),\n",
       "            None,\n",
       "            None,\n",
       "            Player(\n",
       "                character=2:FOX,\n",
       "                costume=0,\n",
       "                stocks=4,\n",
       "                tag=,\n",
       "                team=None,\n",
       "                type=1:CPU,\n",
       "                ucf=UCF(\n",
       "                    dash_back=1:UCF,\n",
       "                    shield_drop=1:UCF))),\n",
       "        random_seed=2522388445,\n",
       "        slippi=Slippi(\n",
       "            version=3.16.0),\n",
       "        stage=3:POKEMON_STADIUM))"
      ]
     },
     "execution_count": 16,
     "metadata": {},
     "output_type": "execute_result"
    }
   ],
   "source": [
    "file = os.path.join(PATH, os.listdir(PATH)[0])\n",
    "game = Game(file)\n",
    "game"
   ]
  },
  {
   "cell_type": "code",
   "execution_count": null,
   "metadata": {},
   "outputs": [],
   "source": []
  }
 ],
 "metadata": {
  "kernelspec": {
   "display_name": "Python 3",
   "language": "python",
   "name": "python3"
  },
  "language_info": {
   "codemirror_mode": {
    "name": "ipython",
    "version": 3
   },
   "file_extension": ".py",
   "mimetype": "text/x-python",
   "name": "python",
   "nbconvert_exporter": "python",
   "pygments_lexer": "ipython3",
   "version": "3.10.12"
  }
 },
 "nbformat": 4,
 "nbformat_minor": 2
}
