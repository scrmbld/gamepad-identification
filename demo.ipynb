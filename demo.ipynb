{
    "cells": [
        {
            "cell_type": "markdown",
            "id": "3a762e3a",
            "metadata": {},
            "source": [
                "# Demo\n",
                "\n",
                "This notebook was made for a live demo. The demo dataset is a copy of the original one, but with a few games I played against a CPU added. I would play for a bit (~30 seconds to ensure at least a few sequences long enough to predict on) and then run the pretrained model on my inputs. This is not a great representation of the model's actual performance in my original testing for a variety of reasons, but it is fun!"
            ]
        },
        {
            "cell_type": "code",
            "execution_count": null,
            "id": "9ec6c9d8",
            "metadata": {
                "trusted": true
            },
            "outputs": [],
            "source": [
                "import os\n",
                "import pandas as pd\n",
                "import numpy as np\n",
                "\n",
                "# py-slippi\n",
                "from slippi import Game"
            ]
        },
        {
            "cell_type": "code",
            "execution_count": null,
            "id": "829340e7",
            "metadata": {
                "trusted": true
            },
            "outputs": [],
            "source": [
                "PATH='dataset/demo/inference'\n",
                "SEQ_LEN=180"
            ]
        },
        {
            "cell_type": "code",
            "execution_count": null,
            "id": "29d181ab",
            "metadata": {
                "trusted": true
            },
            "outputs": [],
            "source": [
                "id_to_player = {\n",
                "    0: '2saint',\n",
                "    1: 'aklo',\n",
                "    2: 'amsa',\n",
                "    3: 'axe',\n",
                "    4: 'cody',\n",
                "    5: 'cpu', # The computer that I played against\n",
                "    6: 'cynthia', # That's me!\n",
                "    7: 'hbox',\n",
                "    8: 'kodorin',\n",
                "    9: 'logan',\n",
                "    10: 'mang0',\n",
                "    11: 'moky',\n",
                "    12: 'n0ne',\n",
                "    13: 'plup',\n",
                "    14: 'sfat',\n",
                "    15: 'wizzrobe',\n",
                "    16: 'yingling',\n",
                "    17: 'zain'\n",
                "}"
            ]
        },
        {
            "cell_type": "markdown",
            "id": "0fe182c6",
            "metadata": {},
            "source": [
                "## Load the game"
            ]
        },
        {
            "cell_type": "code",
            "execution_count": null,
            "id": "092605f4",
            "metadata": {
                "trusted": true
            },
            "outputs": [],
            "source": [
                "file = os.path.join(PATH, os.listdir(PATH)[0])\n",
                "game = Game(file)\n",
                "game"
            ]
        },
        {
            "cell_type": "markdown",
            "id": "b16a0ab2",
            "metadata": {},
            "source": [
                "## Get the inputs from the game\n",
                "\n",
                "These functions can be found in [inputs.py](inputs.py), but I wanted to talk about them a bit in my demo, so they are also here."
            ]
        },
        {
            "cell_type": "code",
            "execution_count": null,
            "id": "4f522195",
            "metadata": {
                "trusted": true
            },
            "outputs": [],
            "source": [
                "# get the port indices used by the players\n",
                "def getPorts(game):\n",
                "    ports = []\n",
                "    for i in range(0, len(game.start.players)):\n",
                "        if game.start.players[i] is not None:\n",
                "            ports.append(i)\n",
                "\n",
                "    return ports\n",
                "\n",
                "# get the characters for each player, just for fun\n",
                "def getCharacters(game):\n",
                "    characters = []\n",
                "    for player in game.start.players:\n",
                "        if player is not None:\n",
                "            characters.append(player.character)\n",
                "    \n",
                "    return characters"
            ]
        },
        {
            "cell_type": "code",
            "execution_count": null,
            "id": "8d949ca3",
            "metadata": {
                "trusted": true
            },
            "outputs": [],
            "source": [
                "getCharacters(game)"
            ]
        },
        {
            "cell_type": "code",
            "execution_count": null,
            "id": "38c94c18",
            "metadata": {
                "trusted": true
            },
            "outputs": [],
            "source": [
                "START_FRAME = 64 # game starts on frame 64\n",
                "COLS = ['joy_x', 'joy_y', 'cstick_x', 'cstick_y', 'z', 'r_dig', 'l_dig', 'a', 'b', 'x', 'y']\n",
                "BUTTONS = ['Z', 'R', 'L', 'A', 'B', 'X', 'Y'] # names of the buttons in py-slippi\n",
                "\n",
                "def getFrameInputs(player):\n",
                "    # analog stick / c stick\n",
                "    analog = [player.joystick.x, player.joystick.y, player.cstick.x, player.cstick.y]\n",
                "\n",
                "    # buttons\n",
                "    pressed_buttons = []\n",
                "    # get the names of the buttons currently being pressed\n",
                "    logical_pressed_names = map(lambda x: x.name, player.buttons.physical.pressed())\n",
                "\n",
                "    for b in BUTTONS:\n",
                "\n",
                "        if b in logical_pressed_names:\n",
                "            pressed_buttons.append(1)\n",
                "        else:\n",
                "            pressed_buttons.append(0)\n",
                "\n",
                "    return analog + pressed_buttons \n",
                "\n",
                "def getGameInputs(game):\n",
                "    p1_inputs = pd.DataFrame(columns=COLS)\n",
                "    p2_inputs = pd.DataFrame(columns=COLS)\n",
                "\n",
                "    # get the controller port #s of the players\n",
                "    p1_port, p2_port = getPorts(game)\n",
                "\n",
                "    for i in range(START_FRAME, len(game.frames)):\n",
                "        p1 = game.frames[i].ports[p1_port].leader.pre \n",
                "        p1_inputs.loc[len(p1_inputs.index)] = getFrameInputs(p1)\n",
                "\n",
                "        p2 = game.frames[i].ports[p2_port].leader.pre\n",
                "        p2_inputs.loc[len(p2_inputs.index)] = getFrameInputs(p2)\n",
                "\n",
                "    return p1_inputs, p2_inputs"
            ]
        },
        {
            "cell_type": "code",
            "execution_count": null,
            "id": "30f32ac7",
            "metadata": {
                "trusted": true
            },
            "outputs": [],
            "source": [
                "p1_inputs, _ = getGameInputs(game)\n",
                "p1_inputs.head(10)"
            ]
        },
        {
            "cell_type": "code",
            "execution_count": null,
            "id": "60e5d3e6",
            "metadata": {
                "trusted": true
            },
            "outputs": [],
            "source": [
                "p1_inputs.shape"
            ]
        },
        {
            "cell_type": "markdown",
            "id": "c308e3ec",
            "metadata": {},
            "source": [
                "## Compute the displacement vectors"
            ]
        },
        {
            "cell_type": "code",
            "execution_count": null,
            "id": "ad9cda0a",
            "metadata": {
                "trusted": true
            },
            "outputs": [],
            "source": [
                "def nextDisplacement(df, index):\n",
                "    velocities = [] # stores both x and y displacement\n",
                "    for col in df.columns:\n",
                "        velocities.append(df.at[index+1, col] - df.at[index, col])\n",
                "\n",
                "    return velocities\n",
                "\n",
                "def gameDisplacements(game):\n",
                "    ds = []\n",
                "    prev_frame = 0\n",
                "    for i in range(game.shape[0] - 1):\n",
                "        # get next displacement\n",
                "        d = nextDisplacement(game, i)\n",
                "\n",
                "        if not d == [0, 0]: # only include frames that have some velocity\n",
                "            # get elapsed\n",
                "            elapsed = i - prev_frame\n",
                "            prev_frame = i\n",
                "\n",
                "            if elapsed > 60: # arbitrarily set all values > 60 to 0\n",
                "                elapsed = 0\n",
                "\n",
                "            ds.append((d[0], d[1], elapsed))\n",
                "\n",
                "    return pd.DataFrame(ds, columns=['joy_x', 'joy_y', 'elapsed'])"
            ]
        },
        {
            "cell_type": "code",
            "execution_count": null,
            "id": "4bf2b817",
            "metadata": {
                "trusted": true
            },
            "outputs": [],
            "source": [
                "displacements = gameDisplacements(p1_inputs[['joy_x', 'joy_y']])"
            ]
        },
        {
            "cell_type": "code",
            "execution_count": null,
            "id": "6c991507",
            "metadata": {
                "trusted": true
            },
            "outputs": [],
            "source": [
                "displacements.head(10)"
            ]
        },
        {
            "cell_type": "code",
            "execution_count": null,
            "id": "94376273",
            "metadata": {
                "trusted": true
            },
            "outputs": [],
            "source": [
                "displacements.shape"
            ]
        },
        {
            "cell_type": "markdown",
            "id": "9b88c921",
            "metadata": {},
            "source": [
                "## Scale elapsed values"
            ]
        },
        {
            "cell_type": "code",
            "execution_count": null,
            "id": "4632da3a",
            "metadata": {
                "trusted": true
            },
            "outputs": [],
            "source": [
                "max = 60 # 60 is the maximum value allowed in the training data, so we scale based on that\n",
                "\n",
                "normed = displacements.copy()\n",
                "normed['elapsed'] = normed['elapsed'].map(lambda x : x / max)"
            ]
        },
        {
            "cell_type": "code",
            "execution_count": null,
            "id": "1b238a3e",
            "metadata": {
                "trusted": true
            },
            "outputs": [],
            "source": [
                "displacements.head(10)"
            ]
        },
        {
            "cell_type": "markdown",
            "id": "8e500c82",
            "metadata": {},
            "source": [
                "## Process into sequences"
            ]
        },
        {
            "cell_type": "code",
            "execution_count": null,
            "id": "11a5acac",
            "metadata": {
                "trusted": true
            },
            "outputs": [],
            "source": [
                "def seqs_from_df(df, seq_len=SEQ_LEN):\n",
                "    \"\"\"\n",
                "    Arrange a dataframe of inputs into sequences of inputs of length seq_len.\n",
                "    \"\"\"\n",
                "    seqs = []\n",
                "\n",
                "    # set the slide factor to 0.5 instead of the \n",
                "    for i in range(0, df.shape[0] - seq_len, int(seq_len*0.5)):\n",
                "        seq_x = df.loc[i:i+seq_len-1]\n",
                "        seqs.append(np.array(seq_x, dtype=np.float32))\n",
                "        \n",
                "    return seqs"
            ]
        },
        {
            "cell_type": "code",
            "execution_count": null,
            "id": "38f72acf",
            "metadata": {
                "trusted": true
            },
            "outputs": [],
            "source": [
                "sequences = seqs_from_df(normed)\n",
                "\n",
                "print(f'{len(sequences)=}')\n",
                "sequences[0][0:10]"
            ]
        },
        {
            "cell_type": "markdown",
            "id": "edae8ef8",
            "metadata": {},
            "source": [
                "## Load the pre-trained model"
            ]
        },
        {
            "cell_type": "code",
            "execution_count": null,
            "id": "35a2fcac",
            "metadata": {
                "trusted": true
            },
            "outputs": [],
            "source": [
                "import tensorflow as tf\n",
                "import tensorflow.keras as keras\n",
                "from tensorflow.keras.models import Model\n",
                "from tensorflow.keras.layers import Input, Conv1D, ELU, Dropout, Dense, Concatenate, LSTM\n",
                "\n",
                "gpus = tf.config.list_physical_devices('GPU')\n",
                "if gpus:\n",
                "  try:\n",
                "    # Currently, memory growth needs to be the same across GPUs\n",
                "    for gpu in gpus:\n",
                "      # allocated memory as needed, rather than 100% of it all the time\n",
                "      tf.config.experimental.set_memory_growth(gpu, True)\n",
                "    logical_gpus = tf.config.list_logical_devices('GPU')\n",
                "    print(len(gpus), \"Physical GPUs,\", len(logical_gpus), \"Logical GPUs\")\n",
                "  except RuntimeError as e:\n",
                "    # Memory growth must be set before GPUs have been initialized\n",
                "    print(e)"
            ]
        },
        {
            "cell_type": "code",
            "execution_count": null,
            "id": "41c87f87",
            "metadata": {
                "trusted": true
            },
            "outputs": [],
            "source": [
                "def createClassifier(width=3, seq_len=180):\n",
                "    input_layer = Input(shape=(seq_len, width))\n",
                "    conv1 = Conv1D(filters=32, kernel_size=7, strides=2, activation=ELU())(input_layer)\n",
                "    conv2 = Conv1D(filters=32, kernel_size=3, strides=1, activation=ELU())(input_layer)\n",
                "\n",
                "    catted = Concatenate(axis=1)([conv1, conv2])\n",
                "    elu1 = ELU(32)(catted)\n",
                "    conv3 = Conv1D(filters=32, kernel_size=2, strides=1, activation=ELU())(elu1)\n",
                "    conv4 = Conv1D(filters=32, kernel_size=2, strides=1, activation=ELU())(conv3)\n",
                "    drop1 = Dropout(0.2)(conv4)\n",
                "\n",
                "    gru1 = LSTM(32, return_sequences=True)(drop1)\n",
                "    gru2 = LSTM(32)(gru1)\n",
                "    drop2 = Dropout(0.2)(gru2)\n",
                "\n",
                "    output = Dense(18, activation='softmax')(drop2)\n",
                "\n",
                "    model = Model(inputs=input_layer, outputs=output)\n",
                "    model.compile(loss='categorical_crossentropy', optimizer='adam', metrics=['accuracy'])\n",
                "    return model"
            ]
        },
        {
            "cell_type": "code",
            "execution_count": null,
            "id": "afc7a155",
            "metadata": {
                "trusted": true
            },
            "outputs": [],
            "source": [
                "model = createClassifier(3, 180)\n",
                "\n",
                "model.load_weights('models/demo')\n",
                "model.summary()"
            ]
        },
        {
            "cell_type": "markdown",
            "id": "a1db46fc",
            "metadata": {},
            "source": [
                "## Predict on the new data"
            ]
        },
        {
            "cell_type": "code",
            "execution_count": null,
            "id": "63dd648f",
            "metadata": {
                "trusted": true
            },
            "outputs": [],
            "source": [
                "predicts = model.predict(np.array(sequences, dtype=np.float32))\n",
                "\n",
                "hard_predicts = [np.argmax(predicts[i]) for i in range(predicts.shape[0])]\n",
                "\n",
                "[id_to_player[hp] for hp in hard_predicts]"
            ]
        },
        {
            "cell_type": "markdown",
            "id": "402bc491",
            "metadata": {},
            "source": [
                "Thank God that worked. Or sorry that it didn't idk"
            ]
        }
    ],
    "metadata": {
        "kernelspec": {
            "display_name": "Python 3 (ipykernel)",
            "language": "python",
            "name": "python3"
        },
        "language_info": {
            "codemirror_mode": {
                "name": "ipython",
                "version": 3
            },
            "file_extension": ".py",
            "mimetype": "text/x-python",
            "name": "python",
            "nbconvert_exporter": "python",
            "pygments_lexer": "ipython3",
            "version": "3.13.1"
        }
    },
    "nbformat": 4,
    "nbformat_minor": 5
}
