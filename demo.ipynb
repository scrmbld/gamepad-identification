{
 "cells": [
  {
   "cell_type": "code",
   "execution_count": 1,
   "metadata": {},
   "outputs": [],
   "source": [
    "import os\n",
    "import pandas as pd\n",
    "import numpy as np\n",
    "\n",
    "# py-slippi\n",
    "from slippi import Game"
   ]
  },
  {
   "cell_type": "code",
   "execution_count": 2,
   "metadata": {},
   "outputs": [],
   "source": [
    "PATH='dataset/demo/inference'\n",
    "SEQ_LEN=180"
   ]
  },
  {
   "cell_type": "code",
   "execution_count": 3,
   "metadata": {},
   "outputs": [],
   "source": [
    "id_to_player = {0: '2saint',\n",
    " 1: 'aklo',\n",
    " 2: 'amsa',\n",
    " 3: 'axe',\n",
    " 4: 'cody',\n",
    " 5: 'cpu',\n",
    " 6: 'cynthia',\n",
    " 7: 'hbox',\n",
    " 8: 'kodorin',\n",
    " 9: 'logan',\n",
    " 10: 'mang0',\n",
    " 11: 'moky',\n",
    " 12: 'n0ne',\n",
    " 13: 'plup',\n",
    " 14: 'sfat',\n",
    " 15: 'wizzrobe',\n",
    " 16: 'yingling',\n",
    " 17: 'zain'}"
   ]
  },
  {
   "cell_type": "markdown",
   "metadata": {},
   "source": [
    "## Load the game"
   ]
  },
  {
   "cell_type": "code",
   "execution_count": 4,
   "metadata": {},
   "outputs": [
    {
     "data": {
      "text/plain": [
       "Game(\n",
       "    end=End(\n",
       "        lras_initiator=0,\n",
       "        method=7:NO_CONTEST),\n",
       "    frames=[...](2034),\n",
       "    metadata=Metadata(\n",
       "        console_name=None,\n",
       "        date=2024-05-01 19:24:02+00:00,\n",
       "        duration=2034,\n",
       "        platform='dolphin':DOLPHIN,\n",
       "        players=(\n",
       "            Player(\n",
       "                characters={9:PEACH: 2034},\n",
       "                netplay=None),\n",
       "            None,\n",
       "            None,\n",
       "            Player(\n",
       "                characters={1:FOX: 2034},\n",
       "                netplay=None))),\n",
       "    start=Start(\n",
       "        is_frozen_ps=False,\n",
       "        is_pal=False,\n",
       "        is_teams=False,\n",
       "        players=(\n",
       "            Player(\n",
       "                character=12:PEACH,\n",
       "                costume=0,\n",
       "                stocks=4,\n",
       "                tag=,\n",
       "                team=None,\n",
       "                type=0:HUMAN,\n",
       "                ucf=UCF(\n",
       "                    dash_back=1:UCF,\n",
       "                    shield_drop=1:UCF)),\n",
       "            None,\n",
       "            None,\n",
       "            Player(\n",
       "                character=2:FOX,\n",
       "                costume=0,\n",
       "                stocks=4,\n",
       "                tag=,\n",
       "                team=None,\n",
       "                type=1:CPU,\n",
       "                ucf=UCF(\n",
       "                    dash_back=1:UCF,\n",
       "                    shield_drop=1:UCF))),\n",
       "        random_seed=3963276967,\n",
       "        slippi=Slippi(\n",
       "            version=3.16.0),\n",
       "        stage=32:FINAL_DESTINATION))"
      ]
     },
     "execution_count": 4,
     "metadata": {},
     "output_type": "execute_result"
    }
   ],
   "source": [
    "file = os.path.join(PATH, os.listdir(PATH)[0])\n",
    "game = Game(file)\n",
    "game"
   ]
  },
  {
   "cell_type": "markdown",
   "metadata": {},
   "source": [
    "## Get the inputs from the game"
   ]
  },
  {
   "cell_type": "code",
   "execution_count": 5,
   "metadata": {},
   "outputs": [],
   "source": [
    "# get the port indices used by the players\n",
    "def getPorts(game):\n",
    "    ports = []\n",
    "    for i in range(0, len(game.start.players)):\n",
    "        if game.start.players[i] is not None:\n",
    "            ports.append(i)\n",
    "\n",
    "    return ports\n",
    "\n",
    "# get the characters for each player, just for fun\n",
    "def getCharacters(game):\n",
    "    characters = []\n",
    "    for player in game.start.players:\n",
    "        if player is not None:\n",
    "            characters.append(player.character)\n",
    "    \n",
    "    return characters"
   ]
  },
  {
   "cell_type": "code",
   "execution_count": 6,
   "metadata": {},
   "outputs": [
    {
     "data": {
      "text/plain": [
       "[12:PEACH, 2:FOX]"
      ]
     },
     "execution_count": 6,
     "metadata": {},
     "output_type": "execute_result"
    }
   ],
   "source": [
    "getCharacters(game)"
   ]
  },
  {
   "cell_type": "code",
   "execution_count": 7,
   "metadata": {},
   "outputs": [],
   "source": [
    "START_FRAME = 64 # game starts on frame 64\n",
    "COLS = ['joy_x', 'joy_y', 'cstick_x', 'cstick_y', 'z', 'r_dig', 'l_dig', 'a', 'b', 'x', 'y']\n",
    "BUTTONS = ['Z', 'R', 'L', 'A', 'B', 'X', 'Y'] # names of the buttons in py-slippi\n",
    "\n",
    "def getFrameInputs(player):\n",
    "    # analog stick / c stick\n",
    "    analog = [player.joystick.x, player.joystick.y, player.cstick.x, player.cstick.y]\n",
    "\n",
    "    # buttons\n",
    "    pressed_buttons = []\n",
    "    # get the names of the buttons currently being pressed\n",
    "    logical_pressed_names = map(lambda x: x.name, player.buttons.physical.pressed())\n",
    "\n",
    "    for b in BUTTONS:\n",
    "\n",
    "        if b in logical_pressed_names:\n",
    "            pressed_buttons.append(1)\n",
    "        else:\n",
    "            pressed_buttons.append(0)\n",
    "\n",
    "    return analog + pressed_buttons \n",
    "\n",
    "def getGameInputs(game):\n",
    "    p1_inputs = pd.DataFrame(columns=COLS)\n",
    "    p2_inputs = pd.DataFrame(columns=COLS)\n",
    "\n",
    "    # get the controller port #s of the players\n",
    "    p1_port, p2_port = getPorts(game)\n",
    "\n",
    "    for i in range(START_FRAME, len(game.frames)):\n",
    "        p1 = game.frames[i].ports[p1_port].leader.pre \n",
    "        p1_inputs.loc[len(p1_inputs.index)] = getFrameInputs(p1)\n",
    "\n",
    "        p2 = game.frames[i].ports[p2_port].leader.pre\n",
    "        p2_inputs.loc[len(p2_inputs.index)] = getFrameInputs(p2)\n",
    "\n",
    "    return p1_inputs, p2_inputs"
   ]
  },
  {
   "cell_type": "code",
   "execution_count": 8,
   "metadata": {},
   "outputs": [
    {
     "data": {
      "text/html": [
       "<div>\n",
       "<style scoped>\n",
       "    .dataframe tbody tr th:only-of-type {\n",
       "        vertical-align: middle;\n",
       "    }\n",
       "\n",
       "    .dataframe tbody tr th {\n",
       "        vertical-align: top;\n",
       "    }\n",
       "\n",
       "    .dataframe thead th {\n",
       "        text-align: right;\n",
       "    }\n",
       "</style>\n",
       "<table border=\"1\" class=\"dataframe\">\n",
       "  <thead>\n",
       "    <tr style=\"text-align: right;\">\n",
       "      <th></th>\n",
       "      <th>joy_x</th>\n",
       "      <th>joy_y</th>\n",
       "      <th>cstick_x</th>\n",
       "      <th>cstick_y</th>\n",
       "      <th>z</th>\n",
       "      <th>r_dig</th>\n",
       "      <th>l_dig</th>\n",
       "      <th>a</th>\n",
       "      <th>b</th>\n",
       "      <th>x</th>\n",
       "      <th>y</th>\n",
       "    </tr>\n",
       "  </thead>\n",
       "  <tbody>\n",
       "    <tr>\n",
       "      <th>0</th>\n",
       "      <td>0.0</td>\n",
       "      <td>0.0</td>\n",
       "      <td>0.0</td>\n",
       "      <td>0.0</td>\n",
       "      <td>0.0</td>\n",
       "      <td>0.0</td>\n",
       "      <td>0.0</td>\n",
       "      <td>0.0</td>\n",
       "      <td>0.0</td>\n",
       "      <td>0.0</td>\n",
       "      <td>0.0</td>\n",
       "    </tr>\n",
       "    <tr>\n",
       "      <th>1</th>\n",
       "      <td>0.0</td>\n",
       "      <td>0.0</td>\n",
       "      <td>0.0</td>\n",
       "      <td>0.0</td>\n",
       "      <td>0.0</td>\n",
       "      <td>0.0</td>\n",
       "      <td>0.0</td>\n",
       "      <td>0.0</td>\n",
       "      <td>0.0</td>\n",
       "      <td>0.0</td>\n",
       "      <td>0.0</td>\n",
       "    </tr>\n",
       "    <tr>\n",
       "      <th>2</th>\n",
       "      <td>0.0</td>\n",
       "      <td>0.0</td>\n",
       "      <td>0.0</td>\n",
       "      <td>0.0</td>\n",
       "      <td>0.0</td>\n",
       "      <td>0.0</td>\n",
       "      <td>0.0</td>\n",
       "      <td>0.0</td>\n",
       "      <td>0.0</td>\n",
       "      <td>0.0</td>\n",
       "      <td>0.0</td>\n",
       "    </tr>\n",
       "    <tr>\n",
       "      <th>3</th>\n",
       "      <td>0.0</td>\n",
       "      <td>0.0</td>\n",
       "      <td>0.0</td>\n",
       "      <td>0.0</td>\n",
       "      <td>0.0</td>\n",
       "      <td>0.0</td>\n",
       "      <td>0.0</td>\n",
       "      <td>0.0</td>\n",
       "      <td>0.0</td>\n",
       "      <td>0.0</td>\n",
       "      <td>0.0</td>\n",
       "    </tr>\n",
       "    <tr>\n",
       "      <th>4</th>\n",
       "      <td>0.0</td>\n",
       "      <td>0.0</td>\n",
       "      <td>0.0</td>\n",
       "      <td>0.0</td>\n",
       "      <td>0.0</td>\n",
       "      <td>0.0</td>\n",
       "      <td>0.0</td>\n",
       "      <td>0.0</td>\n",
       "      <td>0.0</td>\n",
       "      <td>0.0</td>\n",
       "      <td>0.0</td>\n",
       "    </tr>\n",
       "    <tr>\n",
       "      <th>5</th>\n",
       "      <td>0.0</td>\n",
       "      <td>0.0</td>\n",
       "      <td>0.0</td>\n",
       "      <td>0.0</td>\n",
       "      <td>0.0</td>\n",
       "      <td>0.0</td>\n",
       "      <td>0.0</td>\n",
       "      <td>0.0</td>\n",
       "      <td>0.0</td>\n",
       "      <td>0.0</td>\n",
       "      <td>0.0</td>\n",
       "    </tr>\n",
       "    <tr>\n",
       "      <th>6</th>\n",
       "      <td>0.0</td>\n",
       "      <td>0.0</td>\n",
       "      <td>0.0</td>\n",
       "      <td>0.0</td>\n",
       "      <td>0.0</td>\n",
       "      <td>0.0</td>\n",
       "      <td>0.0</td>\n",
       "      <td>0.0</td>\n",
       "      <td>0.0</td>\n",
       "      <td>0.0</td>\n",
       "      <td>0.0</td>\n",
       "    </tr>\n",
       "    <tr>\n",
       "      <th>7</th>\n",
       "      <td>0.0</td>\n",
       "      <td>0.0</td>\n",
       "      <td>0.0</td>\n",
       "      <td>0.0</td>\n",
       "      <td>0.0</td>\n",
       "      <td>0.0</td>\n",
       "      <td>0.0</td>\n",
       "      <td>0.0</td>\n",
       "      <td>0.0</td>\n",
       "      <td>0.0</td>\n",
       "      <td>0.0</td>\n",
       "    </tr>\n",
       "    <tr>\n",
       "      <th>8</th>\n",
       "      <td>0.0</td>\n",
       "      <td>0.0</td>\n",
       "      <td>0.0</td>\n",
       "      <td>0.0</td>\n",
       "      <td>0.0</td>\n",
       "      <td>0.0</td>\n",
       "      <td>0.0</td>\n",
       "      <td>0.0</td>\n",
       "      <td>0.0</td>\n",
       "      <td>0.0</td>\n",
       "      <td>0.0</td>\n",
       "    </tr>\n",
       "    <tr>\n",
       "      <th>9</th>\n",
       "      <td>0.0</td>\n",
       "      <td>0.0</td>\n",
       "      <td>0.0</td>\n",
       "      <td>0.0</td>\n",
       "      <td>0.0</td>\n",
       "      <td>0.0</td>\n",
       "      <td>0.0</td>\n",
       "      <td>0.0</td>\n",
       "      <td>0.0</td>\n",
       "      <td>0.0</td>\n",
       "      <td>0.0</td>\n",
       "    </tr>\n",
       "  </tbody>\n",
       "</table>\n",
       "</div>"
      ],
      "text/plain": [
       "   joy_x  joy_y  cstick_x  cstick_y    z  r_dig  l_dig    a    b    x    y\n",
       "0    0.0    0.0       0.0       0.0  0.0    0.0    0.0  0.0  0.0  0.0  0.0\n",
       "1    0.0    0.0       0.0       0.0  0.0    0.0    0.0  0.0  0.0  0.0  0.0\n",
       "2    0.0    0.0       0.0       0.0  0.0    0.0    0.0  0.0  0.0  0.0  0.0\n",
       "3    0.0    0.0       0.0       0.0  0.0    0.0    0.0  0.0  0.0  0.0  0.0\n",
       "4    0.0    0.0       0.0       0.0  0.0    0.0    0.0  0.0  0.0  0.0  0.0\n",
       "5    0.0    0.0       0.0       0.0  0.0    0.0    0.0  0.0  0.0  0.0  0.0\n",
       "6    0.0    0.0       0.0       0.0  0.0    0.0    0.0  0.0  0.0  0.0  0.0\n",
       "7    0.0    0.0       0.0       0.0  0.0    0.0    0.0  0.0  0.0  0.0  0.0\n",
       "8    0.0    0.0       0.0       0.0  0.0    0.0    0.0  0.0  0.0  0.0  0.0\n",
       "9    0.0    0.0       0.0       0.0  0.0    0.0    0.0  0.0  0.0  0.0  0.0"
      ]
     },
     "execution_count": 8,
     "metadata": {},
     "output_type": "execute_result"
    }
   ],
   "source": [
    "p1_inputs, _ = getGameInputs(game)\n",
    "p1_inputs.head(10)\n"
   ]
  },
  {
   "cell_type": "code",
   "execution_count": 9,
   "metadata": {},
   "outputs": [
    {
     "data": {
      "text/plain": [
       "(1970, 11)"
      ]
     },
     "execution_count": 9,
     "metadata": {},
     "output_type": "execute_result"
    }
   ],
   "source": [
    "p1_inputs.shape"
   ]
  },
  {
   "cell_type": "markdown",
   "metadata": {},
   "source": [
    "## Compute the displacement vectors"
   ]
  },
  {
   "cell_type": "code",
   "execution_count": 10,
   "metadata": {},
   "outputs": [],
   "source": [
    "def nextDisplacement(df, index):\n",
    "    velocities = [] # stores both x and y displacement\n",
    "    for col in df.columns:\n",
    "        velocities.append(df.at[index+1, col] - df.at[index, col])\n",
    "\n",
    "    return velocities\n",
    "\n",
    "def gameDisplacements(game):\n",
    "    \n",
    "    ds = []\n",
    "    prev_frame = 0\n",
    "    for i in range(game.shape[0] - 1):\n",
    "        # get next displacement\n",
    "        d = nextDisplacement(game, i)\n",
    "\n",
    "        if not d == [0, 0]: # only include frames that have some velocity\n",
    "            # get elapsed\n",
    "            elapsed = i - prev_frame\n",
    "            prev_frame = i\n",
    "\n",
    "            if elapsed > 60: # arbitrarily set all values > 60 to 0\n",
    "                elapsed = 0\n",
    "\n",
    "            ds.append((d[0], d[1], elapsed))\n",
    "    \n",
    "    return pd.DataFrame(ds, columns=['joy_x', 'joy_y', 'elapsed'])"
   ]
  },
  {
   "cell_type": "code",
   "execution_count": 11,
   "metadata": {},
   "outputs": [],
   "source": [
    "displacements = gameDisplacements(p1_inputs[['joy_x', 'joy_y']])"
   ]
  },
  {
   "cell_type": "code",
   "execution_count": 12,
   "metadata": {},
   "outputs": [
    {
     "data": {
      "text/html": [
       "<div>\n",
       "<style scoped>\n",
       "    .dataframe tbody tr th:only-of-type {\n",
       "        vertical-align: middle;\n",
       "    }\n",
       "\n",
       "    .dataframe tbody tr th {\n",
       "        vertical-align: top;\n",
       "    }\n",
       "\n",
       "    .dataframe thead th {\n",
       "        text-align: right;\n",
       "    }\n",
       "</style>\n",
       "<table border=\"1\" class=\"dataframe\">\n",
       "  <thead>\n",
       "    <tr style=\"text-align: right;\">\n",
       "      <th></th>\n",
       "      <th>joy_x</th>\n",
       "      <th>joy_y</th>\n",
       "      <th>elapsed</th>\n",
       "    </tr>\n",
       "  </thead>\n",
       "  <tbody>\n",
       "    <tr>\n",
       "      <th>0</th>\n",
       "      <td>0.9875</td>\n",
       "      <td>0.0000</td>\n",
       "      <td>25</td>\n",
       "    </tr>\n",
       "    <tr>\n",
       "      <th>1</th>\n",
       "      <td>0.0125</td>\n",
       "      <td>0.0000</td>\n",
       "      <td>1</td>\n",
       "    </tr>\n",
       "    <tr>\n",
       "      <th>2</th>\n",
       "      <td>-0.0125</td>\n",
       "      <td>0.0000</td>\n",
       "      <td>39</td>\n",
       "    </tr>\n",
       "    <tr>\n",
       "      <th>3</th>\n",
       "      <td>-0.1000</td>\n",
       "      <td>-0.4500</td>\n",
       "      <td>1</td>\n",
       "    </tr>\n",
       "    <tr>\n",
       "      <th>4</th>\n",
       "      <td>-0.2375</td>\n",
       "      <td>-0.3000</td>\n",
       "      <td>1</td>\n",
       "    </tr>\n",
       "    <tr>\n",
       "      <th>5</th>\n",
       "      <td>-0.0750</td>\n",
       "      <td>-0.0625</td>\n",
       "      <td>1</td>\n",
       "    </tr>\n",
       "    <tr>\n",
       "      <th>6</th>\n",
       "      <td>-0.2375</td>\n",
       "      <td>-0.1125</td>\n",
       "      <td>1</td>\n",
       "    </tr>\n",
       "    <tr>\n",
       "      <th>7</th>\n",
       "      <td>-0.3375</td>\n",
       "      <td>-0.0750</td>\n",
       "      <td>1</td>\n",
       "    </tr>\n",
       "    <tr>\n",
       "      <th>8</th>\n",
       "      <td>0.0000</td>\n",
       "      <td>1.0000</td>\n",
       "      <td>2</td>\n",
       "    </tr>\n",
       "    <tr>\n",
       "      <th>9</th>\n",
       "      <td>0.0000</td>\n",
       "      <td>-0.4125</td>\n",
       "      <td>13</td>\n",
       "    </tr>\n",
       "  </tbody>\n",
       "</table>\n",
       "</div>"
      ],
      "text/plain": [
       "    joy_x   joy_y  elapsed\n",
       "0  0.9875  0.0000       25\n",
       "1  0.0125  0.0000        1\n",
       "2 -0.0125  0.0000       39\n",
       "3 -0.1000 -0.4500        1\n",
       "4 -0.2375 -0.3000        1\n",
       "5 -0.0750 -0.0625        1\n",
       "6 -0.2375 -0.1125        1\n",
       "7 -0.3375 -0.0750        1\n",
       "8  0.0000  1.0000        2\n",
       "9  0.0000 -0.4125       13"
      ]
     },
     "execution_count": 12,
     "metadata": {},
     "output_type": "execute_result"
    }
   ],
   "source": [
    "displacements.head(10)"
   ]
  },
  {
   "cell_type": "code",
   "execution_count": 13,
   "metadata": {},
   "outputs": [
    {
     "data": {
      "text/plain": [
       "(489, 3)"
      ]
     },
     "execution_count": 13,
     "metadata": {},
     "output_type": "execute_result"
    }
   ],
   "source": [
    "displacements.shape"
   ]
  },
  {
   "cell_type": "markdown",
   "metadata": {},
   "source": [
    "## Normalize elapsed values"
   ]
  },
  {
   "cell_type": "code",
   "execution_count": 14,
   "metadata": {},
   "outputs": [],
   "source": [
    "max = 60\n",
    "\n",
    "normed = displacements.copy()\n",
    "normed['elapsed'] = normed['elapsed'].map(lambda x : x / max)"
   ]
  },
  {
   "cell_type": "code",
   "execution_count": 15,
   "metadata": {},
   "outputs": [
    {
     "data": {
      "text/html": [
       "<div>\n",
       "<style scoped>\n",
       "    .dataframe tbody tr th:only-of-type {\n",
       "        vertical-align: middle;\n",
       "    }\n",
       "\n",
       "    .dataframe tbody tr th {\n",
       "        vertical-align: top;\n",
       "    }\n",
       "\n",
       "    .dataframe thead th {\n",
       "        text-align: right;\n",
       "    }\n",
       "</style>\n",
       "<table border=\"1\" class=\"dataframe\">\n",
       "  <thead>\n",
       "    <tr style=\"text-align: right;\">\n",
       "      <th></th>\n",
       "      <th>joy_x</th>\n",
       "      <th>joy_y</th>\n",
       "      <th>elapsed</th>\n",
       "    </tr>\n",
       "  </thead>\n",
       "  <tbody>\n",
       "    <tr>\n",
       "      <th>0</th>\n",
       "      <td>0.9875</td>\n",
       "      <td>0.0000</td>\n",
       "      <td>25</td>\n",
       "    </tr>\n",
       "    <tr>\n",
       "      <th>1</th>\n",
       "      <td>0.0125</td>\n",
       "      <td>0.0000</td>\n",
       "      <td>1</td>\n",
       "    </tr>\n",
       "    <tr>\n",
       "      <th>2</th>\n",
       "      <td>-0.0125</td>\n",
       "      <td>0.0000</td>\n",
       "      <td>39</td>\n",
       "    </tr>\n",
       "    <tr>\n",
       "      <th>3</th>\n",
       "      <td>-0.1000</td>\n",
       "      <td>-0.4500</td>\n",
       "      <td>1</td>\n",
       "    </tr>\n",
       "    <tr>\n",
       "      <th>4</th>\n",
       "      <td>-0.2375</td>\n",
       "      <td>-0.3000</td>\n",
       "      <td>1</td>\n",
       "    </tr>\n",
       "    <tr>\n",
       "      <th>5</th>\n",
       "      <td>-0.0750</td>\n",
       "      <td>-0.0625</td>\n",
       "      <td>1</td>\n",
       "    </tr>\n",
       "    <tr>\n",
       "      <th>6</th>\n",
       "      <td>-0.2375</td>\n",
       "      <td>-0.1125</td>\n",
       "      <td>1</td>\n",
       "    </tr>\n",
       "    <tr>\n",
       "      <th>7</th>\n",
       "      <td>-0.3375</td>\n",
       "      <td>-0.0750</td>\n",
       "      <td>1</td>\n",
       "    </tr>\n",
       "    <tr>\n",
       "      <th>8</th>\n",
       "      <td>0.0000</td>\n",
       "      <td>1.0000</td>\n",
       "      <td>2</td>\n",
       "    </tr>\n",
       "    <tr>\n",
       "      <th>9</th>\n",
       "      <td>0.0000</td>\n",
       "      <td>-0.4125</td>\n",
       "      <td>13</td>\n",
       "    </tr>\n",
       "  </tbody>\n",
       "</table>\n",
       "</div>"
      ],
      "text/plain": [
       "    joy_x   joy_y  elapsed\n",
       "0  0.9875  0.0000       25\n",
       "1  0.0125  0.0000        1\n",
       "2 -0.0125  0.0000       39\n",
       "3 -0.1000 -0.4500        1\n",
       "4 -0.2375 -0.3000        1\n",
       "5 -0.0750 -0.0625        1\n",
       "6 -0.2375 -0.1125        1\n",
       "7 -0.3375 -0.0750        1\n",
       "8  0.0000  1.0000        2\n",
       "9  0.0000 -0.4125       13"
      ]
     },
     "execution_count": 15,
     "metadata": {},
     "output_type": "execute_result"
    }
   ],
   "source": [
    "displacements.head(10)"
   ]
  },
  {
   "cell_type": "markdown",
   "metadata": {},
   "source": [
    "## Process into sequences"
   ]
  },
  {
   "cell_type": "code",
   "execution_count": 16,
   "metadata": {},
   "outputs": [],
   "source": [
    "def seqs_from_df(df, seq_len=SEQ_LEN):\n",
    "    \"\"\"\n",
    "    Arrange a dataframe of inputs into sequences of inputs of length seq_len.\n",
    "    \"\"\"\n",
    "    seqs = []\n",
    "\n",
    "    for i in range(0, df.shape[0] - seq_len, int(seq_len*0.5)):\n",
    "        seq_x = df.loc[i:i+seq_len-1]\n",
    "        seqs.append(np.array(seq_x, dtype=np.float32))\n",
    "        \n",
    "    return seqs"
   ]
  },
  {
   "cell_type": "code",
   "execution_count": 17,
   "metadata": {},
   "outputs": [
    {
     "name": "stdout",
     "output_type": "stream",
     "text": [
      "len(sequences)=4\n"
     ]
    },
    {
     "data": {
      "text/plain": [
       "array([[ 0.9875    ,  0.        ,  0.41666666],\n",
       "       [ 0.01249999,  0.        ,  0.01666667],\n",
       "       [-0.01249999,  0.        ,  0.65      ],\n",
       "       [-0.10000002, -0.45      ,  0.01666667],\n",
       "       [-0.23750001, -0.3       ,  0.01666667],\n",
       "       [-0.07499999, -0.0625    ,  0.01666667],\n",
       "       [-0.23749998, -0.11250001,  0.01666667],\n",
       "       [-0.3375    , -0.07499999,  0.01666667],\n",
       "       [ 0.        ,  1.        ,  0.03333334],\n",
       "       [ 0.        , -0.4125    ,  0.21666667]], dtype=float32)"
      ]
     },
     "execution_count": 17,
     "metadata": {},
     "output_type": "execute_result"
    }
   ],
   "source": [
    "sequences = seqs_from_df(normed)\n",
    "\n",
    "print(f'{len(sequences)=}')\n",
    "sequences[0][0:10]"
   ]
  },
  {
   "cell_type": "markdown",
   "metadata": {},
   "source": [
    "## Load the pre-trained model"
   ]
  },
  {
   "cell_type": "code",
   "execution_count": 18,
   "metadata": {},
   "outputs": [
    {
     "name": "stderr",
     "output_type": "stream",
     "text": [
      "2024-05-01 12:25:17.078014: I tensorflow/core/platform/cpu_feature_guard.cc:182] This TensorFlow binary is optimized to use available CPU instructions in performance-critical operations.\n",
      "To enable the following instructions: AVX2 FMA, in other operations, rebuild TensorFlow with the appropriate compiler flags.\n"
     ]
    },
    {
     "name": "stdout",
     "output_type": "stream",
     "text": [
      "1 Physical GPUs, 1 Logical GPUs\n"
     ]
    },
    {
     "name": "stderr",
     "output_type": "stream",
     "text": [
      "2024-05-01 12:25:18.316240: I tensorflow/compiler/xla/stream_executor/rocm/rocm_gpu_executor.cc:838] successful NUMA node read from SysFS had negative value (-1), but there must be at least one NUMA node, so returning NUMA node zero\n",
      "2024-05-01 12:25:18.333411: I tensorflow/compiler/xla/stream_executor/rocm/rocm_gpu_executor.cc:838] successful NUMA node read from SysFS had negative value (-1), but there must be at least one NUMA node, so returning NUMA node zero\n",
      "2024-05-01 12:25:18.333462: I tensorflow/compiler/xla/stream_executor/rocm/rocm_gpu_executor.cc:838] successful NUMA node read from SysFS had negative value (-1), but there must be at least one NUMA node, so returning NUMA node zero\n",
      "2024-05-01 12:25:18.334268: I tensorflow/compiler/xla/stream_executor/rocm/rocm_gpu_executor.cc:838] successful NUMA node read from SysFS had negative value (-1), but there must be at least one NUMA node, so returning NUMA node zero\n",
      "2024-05-01 12:25:18.334333: I tensorflow/compiler/xla/stream_executor/rocm/rocm_gpu_executor.cc:838] successful NUMA node read from SysFS had negative value (-1), but there must be at least one NUMA node, so returning NUMA node zero\n",
      "2024-05-01 12:25:18.334368: I tensorflow/compiler/xla/stream_executor/rocm/rocm_gpu_executor.cc:838] successful NUMA node read from SysFS had negative value (-1), but there must be at least one NUMA node, so returning NUMA node zero\n",
      "2024-05-01 12:25:18.334454: I tensorflow/compiler/xla/stream_executor/rocm/rocm_gpu_executor.cc:838] successful NUMA node read from SysFS had negative value (-1), but there must be at least one NUMA node, so returning NUMA node zero\n",
      "2024-05-01 12:25:18.334495: I tensorflow/compiler/xla/stream_executor/rocm/rocm_gpu_executor.cc:838] successful NUMA node read from SysFS had negative value (-1), but there must be at least one NUMA node, so returning NUMA node zero\n",
      "2024-05-01 12:25:18.334532: I tensorflow/compiler/xla/stream_executor/rocm/rocm_gpu_executor.cc:838] successful NUMA node read from SysFS had negative value (-1), but there must be at least one NUMA node, so returning NUMA node zero\n",
      "2024-05-01 12:25:18.334551: I tensorflow/core/common_runtime/gpu/gpu_device.cc:1639] Created device /job:localhost/replica:0/task:0/device:GPU:0 with 10610 MB memory:  -> device: 0, name: AMD Radeon RX 6700 XT, pci bus id: 0000:2d:00.0\n"
     ]
    }
   ],
   "source": [
    "import tensorflow as tf\n",
    "import tensorflow.keras as keras\n",
    "from tensorflow.keras.models import Model\n",
    "from tensorflow.keras.layers import Input, Conv1D, ELU, Dropout, Dense, Concatenate, LSTM\n",
    "\n",
    "gpus = tf.config.list_physical_devices('GPU')\n",
    "if gpus:\n",
    "  try:\n",
    "    # Currently, memory growth needs to be the same across GPUs\n",
    "    for gpu in gpus:\n",
    "      # allocated memory as needed, rather than 100% of it all the time\n",
    "      tf.config.experimental.set_memory_growth(gpu, True)\n",
    "    logical_gpus = tf.config.list_logical_devices('GPU')\n",
    "    print(len(gpus), \"Physical GPUs,\", len(logical_gpus), \"Logical GPUs\")\n",
    "  except RuntimeError as e:\n",
    "    # Memory growth must be set before GPUs have been initialized\n",
    "    print(e)"
   ]
  },
  {
   "cell_type": "code",
   "execution_count": 19,
   "metadata": {},
   "outputs": [],
   "source": [
    "def createClassifier(width=3, seq_len=180):\n",
    "    input_layer = Input(shape=(seq_len, width))\n",
    "    conv1 = Conv1D(filters=32, kernel_size=7, strides=2, activation=ELU())(input_layer)\n",
    "    conv2 = Conv1D(filters=32, kernel_size=3, strides=1, activation=ELU())(input_layer)\n",
    "\n",
    "    catted = Concatenate(axis=1)([conv1, conv2])\n",
    "    elu1 = ELU(32)(catted)\n",
    "    conv3 = Conv1D(filters=32, kernel_size=2, strides=1, activation=ELU())(elu1)\n",
    "    conv4 = Conv1D(filters=32, kernel_size=2, strides=1, activation=ELU())(conv3)\n",
    "    drop1 = Dropout(0.2)(conv4)\n",
    "\n",
    "    gru1 = LSTM(32, return_sequences=True)(drop1)\n",
    "    gru2 = LSTM(32)(gru1)\n",
    "    drop2 = Dropout(0.2)(gru2)\n",
    "\n",
    "    output = Dense(18, activation='softmax')(drop2)\n",
    "\n",
    "    model = Model(inputs=input_layer, outputs=output)\n",
    "    model.compile(loss='categorical_crossentropy', optimizer='adam', metrics=['accuracy'])\n",
    "    return model"
   ]
  },
  {
   "cell_type": "code",
   "execution_count": 20,
   "metadata": {},
   "outputs": [
    {
     "name": "stderr",
     "output_type": "stream",
     "text": [
      "2024-05-01 12:25:18.535802: I tensorflow/core/common_runtime/gpu_fusion_pass.cc:508] ROCm Fusion is enabled.\n",
      "2024-05-01 12:25:18.537368: I tensorflow/core/common_runtime/gpu_fusion_pass.cc:508] ROCm Fusion is enabled.\n",
      "2024-05-01 12:25:18.592117: I tensorflow/core/common_runtime/gpu_fusion_pass.cc:508] ROCm Fusion is enabled.\n",
      "2024-05-01 12:25:18.594839: I tensorflow/core/common_runtime/gpu_fusion_pass.cc:508] ROCm Fusion is enabled.\n",
      "2024-05-01 12:25:18.597318: I tensorflow/core/common_runtime/gpu_fusion_pass.cc:508] ROCm Fusion is enabled.\n",
      "2024-05-01 12:25:18.599260: I tensorflow/core/common_runtime/gpu_fusion_pass.cc:508] ROCm Fusion is enabled.\n",
      "2024-05-01 12:25:18.601032: I tensorflow/core/common_runtime/gpu_fusion_pass.cc:508] ROCm Fusion is enabled.\n",
      "2024-05-01 12:25:18.602823: I tensorflow/core/common_runtime/gpu_fusion_pass.cc:508] ROCm Fusion is enabled.\n",
      "2024-05-01 12:25:18.603400: I tensorflow/core/common_runtime/gpu_fusion_pass.cc:508] ROCm Fusion is enabled.\n",
      "2024-05-01 12:25:18.604656: I tensorflow/core/common_runtime/gpu_fusion_pass.cc:508] ROCm Fusion is enabled.\n",
      "2024-05-01 12:25:18.635586: I tensorflow/core/common_runtime/gpu_fusion_pass.cc:508] ROCm Fusion is enabled.\n",
      "2024-05-01 12:25:18.636188: I tensorflow/core/common_runtime/gpu_fusion_pass.cc:508] ROCm Fusion is enabled.\n",
      "2024-05-01 12:25:18.643907: I tensorflow/core/common_runtime/gpu_fusion_pass.cc:508] ROCm Fusion is enabled.\n",
      "2024-05-01 12:25:18.644456: I tensorflow/core/common_runtime/gpu_fusion_pass.cc:508] ROCm Fusion is enabled.\n",
      "2024-05-01 12:25:18.655927: I tensorflow/core/common_runtime/gpu_fusion_pass.cc:508] ROCm Fusion is enabled.\n",
      "2024-05-01 12:25:18.656480: I tensorflow/core/common_runtime/gpu_fusion_pass.cc:508] ROCm Fusion is enabled.\n",
      "2024-05-01 12:25:18.686428: I tensorflow/core/common_runtime/gpu_fusion_pass.cc:508] ROCm Fusion is enabled.\n",
      "2024-05-01 12:25:18.687000: I tensorflow/core/common_runtime/gpu_fusion_pass.cc:508] ROCm Fusion is enabled.\n",
      "2024-05-01 12:25:18.688332: I tensorflow/core/common_runtime/gpu_fusion_pass.cc:508] ROCm Fusion is enabled.\n",
      "2024-05-01 12:25:18.689147: I tensorflow/core/common_runtime/gpu_fusion_pass.cc:508] ROCm Fusion is enabled.\n",
      "2024-05-01 12:25:18.690120: I tensorflow/core/common_runtime/gpu_fusion_pass.cc:508] ROCm Fusion is enabled.\n",
      "2024-05-01 12:25:18.691680: I tensorflow/core/common_runtime/gpu_fusion_pass.cc:508] ROCm Fusion is enabled.\n",
      "2024-05-01 12:25:18.694932: I tensorflow/core/common_runtime/gpu_fusion_pass.cc:508] ROCm Fusion is enabled.\n",
      "2024-05-01 12:25:18.699062: I tensorflow/core/common_runtime/gpu_fusion_pass.cc:508] ROCm Fusion is enabled.\n",
      "2024-05-01 12:25:18.702180: I tensorflow/core/common_runtime/gpu_fusion_pass.cc:508] ROCm Fusion is enabled.\n",
      "2024-05-01 12:25:18.702877: I tensorflow/core/common_runtime/gpu_fusion_pass.cc:508] ROCm Fusion is enabled.\n",
      "2024-05-01 12:25:18.703398: I tensorflow/core/common_runtime/gpu_fusion_pass.cc:508] ROCm Fusion is enabled.\n"
     ]
    },
    {
     "name": "stdout",
     "output_type": "stream",
     "text": [
      "Model: \"model\"\n",
      "__________________________________________________________________________________________________\n",
      " Layer (type)                Output Shape                 Param #   Connected to                  \n",
      "==================================================================================================\n",
      " input_1 (InputLayer)        [(None, 180, 3)]             0         []                            \n",
      "                                                                                                  \n",
      " conv1d (Conv1D)             (None, 87, 32)               704       ['input_1[0][0]']             \n",
      "                                                                                                  \n",
      " conv1d_1 (Conv1D)           (None, 178, 32)              320       ['input_1[0][0]']             \n",
      "                                                                                                  \n",
      " concatenate (Concatenate)   (None, 265, 32)              0         ['conv1d[0][0]',              \n",
      "                                                                     'conv1d_1[0][0]']            \n",
      "                                                                                                  \n",
      " elu_2 (ELU)                 (None, 265, 32)              0         ['concatenate[0][0]']         \n",
      "                                                                                                  \n",
      " conv1d_2 (Conv1D)           (None, 264, 32)              2080      ['elu_2[0][0]']               \n",
      "                                                                                                  \n",
      " conv1d_3 (Conv1D)           (None, 263, 32)              2080      ['conv1d_2[0][0]']            \n",
      "                                                                                                  \n",
      " dropout (Dropout)           (None, 263, 32)              0         ['conv1d_3[0][0]']            \n",
      "                                                                                                  \n",
      " lstm (LSTM)                 (None, 263, 32)              8320      ['dropout[0][0]']             \n",
      "                                                                                                  \n",
      " lstm_1 (LSTM)               (None, 32)                   8320      ['lstm[0][0]']                \n",
      "                                                                                                  \n",
      " dropout_1 (Dropout)         (None, 32)                   0         ['lstm_1[0][0]']              \n",
      "                                                                                                  \n",
      " dense (Dense)               (None, 18)                   594       ['dropout_1[0][0]']           \n",
      "                                                                                                  \n",
      "==================================================================================================\n",
      "Total params: 22418 (87.57 KB)\n",
      "Trainable params: 22418 (87.57 KB)\n",
      "Non-trainable params: 0 (0.00 Byte)\n",
      "__________________________________________________________________________________________________\n"
     ]
    },
    {
     "name": "stderr",
     "output_type": "stream",
     "text": [
      "2024-05-01 12:25:18.933332: I tensorflow/core/common_runtime/gpu_fusion_pass.cc:508] ROCm Fusion is enabled.\n",
      "2024-05-01 12:25:18.934053: I tensorflow/core/common_runtime/gpu_fusion_pass.cc:508] ROCm Fusion is enabled.\n",
      "2024-05-01 12:25:18.934841: I tensorflow/core/common_runtime/gpu_fusion_pass.cc:508] ROCm Fusion is enabled.\n",
      "2024-05-01 12:25:18.935347: I tensorflow/core/common_runtime/gpu_fusion_pass.cc:508] ROCm Fusion is enabled.\n",
      "2024-05-01 12:25:18.938672: I tensorflow/core/common_runtime/gpu_fusion_pass.cc:508] ROCm Fusion is enabled.\n",
      "2024-05-01 12:25:18.939249: I tensorflow/core/common_runtime/gpu_fusion_pass.cc:508] ROCm Fusion is enabled.\n",
      "2024-05-01 12:25:18.939745: I tensorflow/core/common_runtime/gpu_fusion_pass.cc:508] ROCm Fusion is enabled.\n",
      "2024-05-01 12:25:18.942144: I tensorflow/core/common_runtime/gpu_fusion_pass.cc:508] ROCm Fusion is enabled.\n",
      "2024-05-01 12:25:18.942640: I tensorflow/core/common_runtime/gpu_fusion_pass.cc:508] ROCm Fusion is enabled.\n",
      "2024-05-01 12:25:18.952833: I tensorflow/core/common_runtime/gpu_fusion_pass.cc:508] ROCm Fusion is enabled.\n",
      "2024-05-01 12:25:18.954087: I tensorflow/core/common_runtime/gpu_fusion_pass.cc:508] ROCm Fusion is enabled.\n",
      "2024-05-01 12:25:18.958169: I tensorflow/core/common_runtime/gpu_fusion_pass.cc:508] ROCm Fusion is enabled.\n",
      "2024-05-01 12:25:18.961685: I tensorflow/core/common_runtime/gpu_fusion_pass.cc:508] ROCm Fusion is enabled.\n"
     ]
    }
   ],
   "source": [
    "model = createClassifier(3, 180)\n",
    "\n",
    "model.load_weights('models/demo')\n",
    "model.summary()"
   ]
  },
  {
   "cell_type": "code",
   "execution_count": 21,
   "metadata": {},
   "outputs": [
    {
     "name": "stderr",
     "output_type": "stream",
     "text": [
      "2024-05-01 12:25:18.989344: I tensorflow/core/common_runtime/gpu_fusion_pass.cc:508] ROCm Fusion is enabled.\n",
      "2024-05-01 12:25:18.990292: I tensorflow/core/common_runtime/gpu_fusion_pass.cc:508] ROCm Fusion is enabled.\n",
      "2024-05-01 12:25:18.995658: I tensorflow/core/common_runtime/gpu_fusion_pass.cc:508] ROCm Fusion is enabled.\n",
      "2024-05-01 12:25:18.996825: I tensorflow/core/common_runtime/gpu_fusion_pass.cc:508] ROCm Fusion is enabled.\n",
      "2024-05-01 12:25:19.005211: I tensorflow/core/common_runtime/gpu_fusion_pass.cc:508] ROCm Fusion is enabled.\n",
      "2024-05-01 12:25:19.006358: I tensorflow/core/common_runtime/gpu_fusion_pass.cc:508] ROCm Fusion is enabled.\n",
      "2024-05-01 12:25:19.007332: I tensorflow/core/common_runtime/gpu_fusion_pass.cc:508] ROCm Fusion is enabled.\n",
      "2024-05-01 12:25:19.008740: I tensorflow/core/common_runtime/gpu_fusion_pass.cc:508] ROCm Fusion is enabled.\n",
      "2024-05-01 12:25:19.013667: I tensorflow/core/common_runtime/gpu_fusion_pass.cc:508] ROCm Fusion is enabled.\n",
      "2024-05-01 12:25:19.014741: I tensorflow/core/common_runtime/gpu_fusion_pass.cc:508] ROCm Fusion is enabled.\n",
      "2024-05-01 12:25:19.015637: I tensorflow/core/common_runtime/gpu_fusion_pass.cc:508] ROCm Fusion is enabled.\n",
      "2024-05-01 12:25:19.016427: I tensorflow/core/common_runtime/gpu_fusion_pass.cc:508] ROCm Fusion is enabled.\n",
      "2024-05-01 12:25:19.017101: I tensorflow/core/common_runtime/gpu_fusion_pass.cc:508] ROCm Fusion is enabled.\n",
      "2024-05-01 12:25:19.031604: I tensorflow/core/common_runtime/gpu_fusion_pass.cc:508] ROCm Fusion is enabled.\n",
      "2024-05-01 12:25:19.032817: I tensorflow/core/common_runtime/gpu_fusion_pass.cc:508] ROCm Fusion is enabled.\n",
      "2024-05-01 12:25:19.033411: I tensorflow/core/common_runtime/gpu_fusion_pass.cc:508] ROCm Fusion is enabled.\n",
      "2024-05-01 12:25:19.058465: I tensorflow/core/common_runtime/gpu_fusion_pass.cc:508] ROCm Fusion is enabled.\n",
      "2024-05-01 12:25:19.062289: I tensorflow/core/common_runtime/gpu_fusion_pass.cc:508] ROCm Fusion is enabled.\n",
      "2024-05-01 12:25:19.064869: I tensorflow/core/common_runtime/gpu_fusion_pass.cc:508] ROCm Fusion is enabled.\n",
      "2024-05-01 12:25:19.452101: I tensorflow/core/common_runtime/gpu_fusion_pass.cc:508] ROCm Fusion is enabled.\n",
      "2024-05-01 12:25:19.950357: I tensorflow/core/common_runtime/gpu_fusion_pass.cc:508] ROCm Fusion is enabled.\n",
      "2024-05-01 12:25:20.131557: I tensorflow/core/common_runtime/gpu_fusion_pass.cc:508] ROCm Fusion is enabled.\n"
     ]
    },
    {
     "name": "stdout",
     "output_type": "stream",
     "text": [
      "1/1 [==============================] - 1s 1s/step\n"
     ]
    },
    {
     "data": {
      "text/plain": [
       "['axe', 'cynthia', 'amsa', 'cynthia']"
      ]
     },
     "execution_count": 21,
     "metadata": {},
     "output_type": "execute_result"
    }
   ],
   "source": [
    "predicts = model.predict(np.array(sequences, dtype=np.float32))\n",
    "\n",
    "hard_predicts = [np.argmax(predicts[i]) for i in range(predicts.shape[0])]\n",
    "\n",
    "[id_to_player[hp] for hp in hard_predicts]"
   ]
  }
 ],
 "metadata": {
  "kernelspec": {
   "display_name": "Python 3",
   "language": "python",
   "name": "python3"
  },
  "language_info": {
   "codemirror_mode": {
    "name": "ipython",
    "version": 3
   },
   "file_extension": ".py",
   "mimetype": "text/x-python",
   "name": "python",
   "nbconvert_exporter": "python",
   "pygments_lexer": "ipython3",
   "version": "3.10.12"
  }
 },
 "nbformat": 4,
 "nbformat_minor": 2
}
