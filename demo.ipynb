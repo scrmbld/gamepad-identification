{
 "cells": [
  {
   "cell_type": "code",
   "execution_count": null,
   "metadata": {},
   "outputs": [],
   "source": [
    "import os\n",
    "import pandas as pd\n",
    "\n",
    "# import classifier\n",
    "import inputs\n",
    "\n",
    "# py-slippi\n",
    "from slippi import Game"
   ]
  },
  {
   "cell_type": "code",
   "execution_count": null,
   "metadata": {},
   "outputs": [],
   "source": [
    "PATH='dataset/demo/inference'"
   ]
  },
  {
   "cell_type": "code",
   "execution_count": null,
   "metadata": {},
   "outputs": [],
   "source": [
    "file = os.path.join(PATH, os.listdir(PATH)[0])\n",
    "game = Game(file)\n",
    "game"
   ]
  },
  {
   "cell_type": "code",
   "execution_count": null,
   "metadata": {},
   "outputs": [],
   "source": [
    "# get the port indices used by the players\n",
    "def getPorts(game):\n",
    "    ports = []\n",
    "    for i in range(0, len(game.start.players)):\n",
    "        if game.start.players[i] is not None:\n",
    "            ports.append(i)\n",
    "\n",
    "    return ports\n",
    "\n",
    "# get the characters for each player, just for fun\n",
    "def getCharacters(game):\n",
    "    characters = []\n",
    "    for player in game.start.players:\n",
    "        if player is not None:\n",
    "            characters.append(player.character)\n",
    "    \n",
    "    return characters"
   ]
  },
  {
   "cell_type": "code",
   "execution_count": null,
   "metadata": {},
   "outputs": [],
   "source": [
    "START_FRAME = 64 # game starts on frame 64\n",
    "COLS = ['joy_x', 'joy_y', 'cstick_x', 'cstick_y', 'z', 'r_dig', 'l_dig', 'a', 'b', 'x', 'y']\n",
    "BUTTONS = ['Z', 'R', 'L', 'A', 'B', 'X', 'Y'] # names of the buttons in py-slippi\n",
    "\n",
    "def getFrameInputs(player):\n",
    "    # analog stick / c stick\n",
    "    analog = [player.joystick.x, player.joystick.y, player.cstick.x, player.cstick.y]\n",
    "\n",
    "    # buttons\n",
    "    pressed_buttons = []\n",
    "    # get the names of the buttons currently being pressed\n",
    "    logical_pressed_names = map(lambda x: x.name, player.buttons.physical.pressed())\n",
    "\n",
    "    for b in BUTTONS:\n",
    "\n",
    "        if b in logical_pressed_names:\n",
    "            pressed_buttons.append(1)\n",
    "        else:\n",
    "            pressed_buttons.append(0)\n",
    "\n",
    "    return analog + pressed_buttons \n",
    "\n",
    "def getGameInputs(game):\n",
    "    p1_inputs = pd.DataFrame(columns=COLS)\n",
    "    p2_inputs = pd.DataFrame(columns=COLS)\n",
    "\n",
    "    # get the controller port #s of the players\n",
    "    p1_port, p2_port = getPorts(game)\n",
    "\n",
    "    for i in range(START_FRAME, len(game.frames)):\n",
    "        p1 = game.frames[i].ports[p1_port].leader.pre \n",
    "        p1_inputs.loc[len(p1_inputs.index)] = getFrameInputs(p1)\n",
    "\n",
    "        p2 = game.frames[i].ports[p2_port].leader.pre\n",
    "        p2_inputs.loc[len(p2_inputs.index)] = getFrameInputs(p2)\n",
    "\n",
    "    return p1_inputs, p2_inputs"
   ]
  },
  {
   "cell_type": "code",
   "execution_count": null,
   "metadata": {},
   "outputs": [],
   "source": [
    "p1_inputs, _ = getGameInputs(game)\n",
    "p1_inputs.head(10)"
   ]
  }
 ],
 "metadata": {
  "kernelspec": {
   "display_name": "Python 3",
   "language": "python",
   "name": "python3"
  },
  "language_info": {
   "codemirror_mode": {
    "name": "ipython",
    "version": 3
   },
   "file_extension": ".py",
   "mimetype": "text/x-python",
   "name": "python",
   "nbconvert_exporter": "python",
   "pygments_lexer": "ipython3",
   "version": "3.10.12"
  }
 },
 "nbformat": 4,
 "nbformat_minor": 2
}
