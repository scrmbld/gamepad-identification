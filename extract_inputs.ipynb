{
 "cells": [
  {
   "cell_type": "code",
   "execution_count": 1,
   "metadata": {},
   "outputs": [],
   "source": [
    "from slippi.parse import parse\n",
    "from slippi.parse import ParseEvent\n",
    "from slippi import Game\n",
    "\n",
    "import pandas as pd\n",
    "import os\n",
    "import glob\n",
    "from datetime import datetime"
   ]
  },
  {
   "cell_type": "markdown",
   "metadata": {},
   "source": [
    "## get slp files"
   ]
  },
  {
   "cell_type": "code",
   "execution_count": 2,
   "metadata": {},
   "outputs": [
    {
     "name": "stdout",
     "output_type": "stream",
     "text": [
      "len(games)=6, games[0]='dataset/cynthia/cynthia_cpu_day2/Game_20240430T091645.slp'\n"
     ]
    }
   ],
   "source": [
    "# Get all of the files in the dataset\n",
    "path = \"dataset/cynthia/\"\n",
    "\n",
    "# get sets\n",
    "sets = glob.glob(os.path.join(path, '*'))\n",
    "\n",
    "games = []\n",
    "# get games in sets\n",
    "for s in sets:\n",
    "    games += (glob.glob(os.path.join(s, '*')))\n",
    "\n",
    "print(f'{len(games)=}, {games[0]=}')"
   ]
  },
  {
   "cell_type": "markdown",
   "metadata": {},
   "source": [
    "## get inputs from an slp file\n",
    "\n",
    "find the port numbers used in the game"
   ]
  },
  {
   "cell_type": "code",
   "execution_count": 3,
   "metadata": {},
   "outputs": [],
   "source": [
    "# get the port indices used by the players\n",
    "def getPorts(game):\n",
    "    ports = []\n",
    "    for i in range(0, len(game.start.players)):\n",
    "        if game.start.players[i] is not None:\n",
    "            ports.append(i)\n",
    "\n",
    "    return ports\n"
   ]
  },
  {
   "cell_type": "markdown",
   "metadata": {},
   "source": [
    "decide the names of the files we will write the inputs to (two per game -- one for each player)"
   ]
  },
  {
   "cell_type": "code",
   "execution_count": 4,
   "metadata": {},
   "outputs": [],
   "source": [
    "# determine filenames of extracted input files\n",
    "def decideFileNames(path):\n",
    "    # get the names of our 2 files\n",
    "    names = path.split('/')[-2].split('_')[0:2] # get the 2 player names from the directory name\n",
    "\n",
    "    # datetime for the game\n",
    "    gametime = path.split('_')[-1].split('.')[0]\n",
    "\n",
    "    # name for file w/ p1 inputs\n",
    "    p1_name = names[0] + '_' + names[1] + '_' + gametime\n",
    "    # name for file w/ p2 inputs\n",
    "    p2_name = names[1] + '_' + names[0] + '_' + gametime\n",
    "\n",
    "    return p1_name, p2_name"
   ]
  },
  {
   "cell_type": "code",
   "execution_count": 5,
   "metadata": {},
   "outputs": [],
   "source": [
    "def getCharacters(game):\n",
    "    characters = []\n",
    "    for player in game.start.players:\n",
    "        if player is not None:\n",
    "            characters.append(player.character)\n",
    "    \n",
    "    return characters"
   ]
  },
  {
   "cell_type": "markdown",
   "metadata": {},
   "source": [
    "get the inputs for every frame of the match"
   ]
  },
  {
   "cell_type": "code",
   "execution_count": 6,
   "metadata": {},
   "outputs": [],
   "source": [
    "START_FRAME = 64 # game starts on frame 64\n",
    "COLS = ['joy_x', 'joy_y', 'cstick_x', 'cstick_y', 'z', 'r_dig', 'l_dig', 'a', 'b', 'x', 'y']\n",
    "BUTTONS = ['Z', 'R', 'L', 'A', 'B', 'X', 'Y'] # names of the buttons in py-slippi\n",
    "\n",
    "def getFrameInputs(player):\n",
    "    # analog stick / c stick\n",
    "    analog = [player.joystick.x, player.joystick.y, player.cstick.x, player.cstick.y]\n",
    "\n",
    "    # buttons\n",
    "    pressed_buttons = []\n",
    "    # get the names of the buttons currently being pressed\n",
    "    logical_pressed_names = map(lambda x: x.name, player.buttons.physical.pressed())\n",
    "\n",
    "    for b in BUTTONS:\n",
    "\n",
    "        if b in logical_pressed_names:\n",
    "            pressed_buttons.append(1)\n",
    "        else:\n",
    "            pressed_buttons.append(0)\n",
    "\n",
    "    return analog + pressed_buttons \n",
    "\n",
    "def getGameInputs(game):\n",
    "    p1_inputs = pd.DataFrame(columns=COLS)\n",
    "    p2_inputs = pd.DataFrame(columns=COLS)\n",
    "\n",
    "    # get the controller port #s of the players\n",
    "    p1_port, p2_port = getPorts(game)\n",
    "\n",
    "    for i in range(START_FRAME, len(game.frames)):\n",
    "        p1 = game.frames[i].ports[p1_port].leader.pre \n",
    "        p1_inputs.loc[len(p1_inputs.index)] = getFrameInputs(p1)\n",
    "\n",
    "        p2 = game.frames[i].ports[p2_port].leader.pre\n",
    "        p2_inputs.loc[len(p2_inputs.index)] = getFrameInputs(p2)\n",
    "\n",
    "    return p1_inputs, p2_inputs\n"
   ]
  },
  {
   "cell_type": "markdown",
   "metadata": {},
   "source": [
    "### get inputs from all files & write them in csv form\n",
    "\n",
    "run getGameInputs on every replay file"
   ]
  },
  {
   "cell_type": "code",
   "execution_count": 7,
   "metadata": {},
   "outputs": [
    {
     "name": "stdout",
     "output_type": "stream",
     "text": [
      "cynthia_cpu_20240430T091645, cpu_cynthia_20240430T091645\n",
      "[12:PEACH, 10:MEWTWO]\n",
      "cynthia_cpu_20240430T092207, cpu_cynthia_20240430T092207\n",
      "[12:PEACH, 14:ICE_CLIMBERS]\n",
      "cynthia_cpu_20240430T091131, cpu_cynthia_20240430T091131\n",
      "[12:PEACH, 23:ROY]\n",
      "cynthia_cpu_20240429T163412, cpu_cynthia_20240429T163412\n",
      "[12:PEACH, 8:MARIO]\n",
      "cynthia_cpu_20240429T164626, cpu_cynthia_20240429T164626\n",
      "[12:PEACH, 2:FOX]\n",
      "cynthia_cpu_20240429T164109, cpu_cynthia_20240429T164109\n",
      "[12:PEACH, 5:BOWSER]\n"
     ]
    }
   ],
   "source": [
    "OUTPUT_DIR = 'dataset/demo/inputs/'\n",
    "\n",
    "for file in games:\n",
    "    game = Game(file)\n",
    "    p1_inputs, p2_inputs = getGameInputs(game)\n",
    "    p1_file, p2_file = decideFileNames(file)\n",
    "\n",
    "    # print some info for sanity checking\n",
    "    print(f'{p1_file}, {p2_file}')\n",
    "    print(getCharacters(game))    \n",
    "\n",
    "    p1_inputs.to_csv(OUTPUT_DIR + p1_file, index=False)\n",
    "    p2_inputs.to_csv(OUTPUT_DIR + p2_file, index=False)\n"
   ]
  }
 ],
 "metadata": {
  "kernelspec": {
   "display_name": "Python 3",
   "language": "python",
   "name": "python3"
  },
  "language_info": {
   "codemirror_mode": {
    "name": "ipython",
    "version": 3
   },
   "file_extension": ".py",
   "mimetype": "text/x-python",
   "name": "python",
   "nbconvert_exporter": "python",
   "pygments_lexer": "ipython3",
   "version": "3.10.12"
  }
 },
 "nbformat": 4,
 "nbformat_minor": 2
}
