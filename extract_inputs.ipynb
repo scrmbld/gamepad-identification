{
 "cells": [
  {
   "cell_type": "markdown",
   "metadata": {},
   "source": [
    "# Extracting Inputs From Replay Files\n",
    "\n",
    "This notebook is dedicated to reading the controller inputs from the replay files in the dataset. The controller data is organized based on the player and their opponent and then written in CSV format.\n",
    "\n",
    "This notebook helps illustrate the process. If you wish to repeat this process for another project, [inputs.py](inputs.py) contains code that will be easier to reuse."
   ]
  },
  {
   "cell_type": "code",
   "execution_count": null,
   "metadata": {},
   "outputs": [],
   "source": [
    "from slippi.parse import parse\n",
    "from slippi.parse import ParseEvent\n",
    "from slippi import Game\n",
    "\n",
    "import pandas as pd\n",
    "import os\n",
    "import glob\n",
    "from datetime import datetime"
   ]
  },
  {
   "cell_type": "markdown",
   "metadata": {},
   "source": [
    "## Get a list of the slp replay files"
   ]
  },
  {
   "cell_type": "code",
   "execution_count": null,
   "metadata": {},
   "outputs": [],
   "source": [
    "# Get all of the files in the dataset\n",
    "path = \"dataset/cynthia/\"\n",
    "\n",
    "# get sets\n",
    "sets = glob.glob(os.path.join(path, '*'))\n",
    "\n",
    "games = []\n",
    "# get games in sets\n",
    "for s in sets:\n",
    "    games += (glob.glob(os.path.join(s, '*')))\n",
    "\n",
    "print(f'{len(games)=}, {games[0]=}')"
   ]
  },
  {
   "cell_type": "markdown",
   "metadata": {},
   "source": [
    "## Reading the slp replay file\n"
   ]
  },
  {
   "cell_type": "markdown",
   "metadata": {},
   "source": [
    "\n",
    "Find the port numbers of the physical controller ports the players used in the game. This is needed to find where their inputs are stored in the frames."
   ]
  },
  {
   "cell_type": "code",
   "execution_count": null,
   "metadata": {},
   "outputs": [],
   "source": [
    "# get the port indices used by the players\n",
    "def getPorts(game):\n",
    "    ports = []\n",
    "    for i in range(0, len(game.start.players)):\n",
    "        if game.start.players[i] is not None:\n",
    "            ports.append(i)\n",
    "\n",
    "    return ports\n"
   ]
  },
  {
   "cell_type": "markdown",
   "metadata": {},
   "source": [
    "Decide the names of the files we will write the inputs to. There are tow per game -- one for each player.\n",
    "\n",
    "Filenames are in the format {player name}\\_{opponent name}\\_{datetime of game}.csv"
   ]
  },
  {
   "cell_type": "code",
   "execution_count": null,
   "metadata": {},
   "outputs": [],
   "source": [
    "# determine filenames of extracted input files\n",
    "def decideFileNames(path):\n",
    "    # get the names of our 2 files\n",
    "    names = path.split('/')[-2].split('_')[0:2] # get the 2 player names from the directory name\n",
    "\n",
    "    # datetime for the game\n",
    "    gametime = path.split('_')[-1].split('.')[0]\n",
    "\n",
    "    # name for file w/ p1 inputs\n",
    "    p1_name = names[0] + '_' + names[1] + '_' + gametime\n",
    "    # name for file w/ p2 inputs\n",
    "    p2_name = names[1] + '_' + names[0] + '_' + gametime\n",
    "\n",
    "    return p1_name, p2_name"
   ]
  },
  {
   "cell_type": "markdown",
   "metadata": {},
   "source": [
    "This functions reads the characters used in the game. Character data is not stored, so this is mostly to help with debugging by allowing cross-referencing with the replays as they appear in the replay browser."
   ]
  },
  {
   "cell_type": "code",
   "execution_count": null,
   "metadata": {},
   "outputs": [],
   "source": [
    "def getCharacters(game):\n",
    "    characters = []\n",
    "    for player in game.start.players:\n",
    "        if player is not None:\n",
    "            characters.append(player.character)\n",
    "    \n",
    "    return characters"
   ]
  },
  {
   "cell_type": "markdown",
   "metadata": {},
   "source": [
    "Get the inputs for every frame of the match."
   ]
  },
  {
   "cell_type": "code",
   "execution_count": null,
   "metadata": {},
   "outputs": [],
   "source": [
    "START_FRAME = 64 # game starts on frame 64\n",
    "COLS = ['joy_x', 'joy_y', 'cstick_x', 'cstick_y', 'z', 'r_dig', 'l_dig', 'a', 'b', 'x', 'y']\n",
    "BUTTONS = ['Z', 'R', 'L', 'A', 'B', 'X', 'Y'] # names of the buttons in py-slippi\n",
    "\n",
    "def getFrameInputs(player):\n",
    "    # analog stick / c stick\n",
    "    analog = [player.joystick.x, player.joystick.y, player.cstick.x, player.cstick.y]\n",
    "\n",
    "    # buttons\n",
    "    pressed_buttons = []\n",
    "    # get the names of the buttons currently being pressed\n",
    "    logical_pressed_names = map(lambda x: x.name, player.buttons.physical.pressed())\n",
    "\n",
    "    for b in BUTTONS:\n",
    "\n",
    "        if b in logical_pressed_names:\n",
    "            pressed_buttons.append(1)\n",
    "        else:\n",
    "            pressed_buttons.append(0)\n",
    "\n",
    "    return analog + pressed_buttons \n",
    "\n",
    "def getGameInputs(game):\n",
    "    p1_inputs = pd.DataFrame(columns=COLS)\n",
    "    p2_inputs = pd.DataFrame(columns=COLS)\n",
    "\n",
    "    # get the controller port #s of the players\n",
    "    p1_port, p2_port = getPorts(game)\n",
    "\n",
    "    for i in range(START_FRAME, len(game.frames)):\n",
    "        p1 = game.frames[i].ports[p1_port].leader.pre \n",
    "        p1_inputs.loc[len(p1_inputs.index)] = getFrameInputs(p1)\n",
    "\n",
    "        p2 = game.frames[i].ports[p2_port].leader.pre\n",
    "        p2_inputs.loc[len(p2_inputs.index)] = getFrameInputs(p2)\n",
    "\n",
    "    return p1_inputs, p2_inputs\n"
   ]
  },
  {
   "cell_type": "markdown",
   "metadata": {},
   "source": [
    "## Actually read all of the files and write the controller inputs to the CSVs\n",
    "\n",
    "Run `getGameInputs` on every replay file, use `decideFileNames` to determine where the data should be written, and then write the controller inputs to their respective files."
   ]
  },
  {
   "cell_type": "code",
   "execution_count": null,
   "metadata": {},
   "outputs": [],
   "source": [
    "OUTPUT_DIR = 'dataset/inputs/'\n",
    "\n",
    "for file in games:\n",
    "    game = Game(file)\n",
    "    p1_inputs, p2_inputs = getGameInputs(game)\n",
    "    p1_file, p2_file = decideFileNames(file)\n",
    "\n",
    "    # print some info for sanity checking\n",
    "    print(f'{p1_file}, {p2_file}')\n",
    "    print(getCharacters(game))    \n",
    "\n",
    "    p1_inputs.to_csv(OUTPUT_DIR + p1_file, index=False)\n",
    "    p2_inputs.to_csv(OUTPUT_DIR + p2_file, index=False)\n"
   ]
  }
 ],
 "metadata": {
  "kernelspec": {
   "display_name": "Python 3",
   "language": "python",
   "name": "python3"
  },
  "language_info": {
   "codemirror_mode": {
    "name": "ipython",
    "version": 3
   },
   "file_extension": ".py",
   "mimetype": "text/x-python",
   "name": "python",
   "nbconvert_exporter": "python",
   "pygments_lexer": "ipython3",
   "version": "3.10.12"
  }
 },
 "nbformat": 4,
 "nbformat_minor": 2
}
