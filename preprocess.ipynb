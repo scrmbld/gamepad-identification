{
    "cells": [
        {
            "cell_type": "markdown",
            "id": "af8fe90c",
            "metadata": {},
            "source": "# Data Preprocessing\n\nNow that we've extracted the inputs from the replays, we now precompute (some of) our preprocessing steps for the whole dataset so that we don't have to it over and over every time we want to change a hyperparameter."
        },
        {
            "cell_type": "code",
            "execution_count": 1,
            "id": "4b2fe359",
            "metadata": {
                "trusted": true
            },
            "outputs": [],
            "source": "import os\n\nimport pandas as pd"
        },
        {
            "cell_type": "markdown",
            "id": "6b2c4e33",
            "metadata": {},
            "source": "## Find the files"
        },
        {
            "cell_type": "code",
            "execution_count": null,
            "id": "498e6bc9",
            "metadata": {
                "trusted": true
            },
            "outputs": [],
            "source": "data_path = 'dataset/inputs' # set this to wherever your dataset is being stored\n\nall_files = os.listdir(data_path)\ngames_inputs = {}\nfor filename in all_files:\n    filepath = data_path + filename\n    inputs = pd.read_csv(filepath)\n    games_inputs[filename.split('.')[0]] = inputs[['joy_x', 'joy_y']] # we are only interested in joy_x and joy_y columns\n\ngames_inputs[all_files[5]].head(10)"
        },
        {
            "cell_type": "markdown",
            "id": "b8469371",
            "metadata": {},
            "source": "## Convert to displacement event representation\n\nThe output of a joystick is based on its position, rather than its displacement as is the case for a mouse. The result of this is that users tend to move the joystick to a position, hold it there for some time, and then move it somewhere else. The dataset contains the state of the controller for every single frame of gameplay. We can fit the same amount of information in a more compact representation by only saving the state on frames where the state has changed, and recording the amount of time since the previous change. This smaller representation improves performance because our models won't have to sift through large amounts of redundant information."
        },
        {
            "cell_type": "code",
            "execution_count": null,
            "id": "4f9ebae5",
            "metadata": {
                "trusted": true
            },
            "outputs": [],
            "source": "def nextDisplacement(df, index):\n    displacements = [] # stores both x and y displacement\n    for col in df.columns:\n        displacements.append(df.at[index+1, col] - df.at[index, col])\n\n    return displacements"
        },
        {
            "cell_type": "code",
            "execution_count": null,
            "id": "6a8cd285",
            "metadata": {
                "trusted": true
            },
            "outputs": [],
            "source": "game_displacements = {}\n\nfor g_name in games_inputs.keys():\n    game = games_inputs[g_name]\n\n    ds = []\n    prev_frame = 0\n    for i in range(game.shape[0] - 1):\n        # get next displacement\n        d = nextDisplacement(game, i)\n\n        if not d == [0, 0]: # only include frames that have some velocity\n            # get elapsed\n            elapsed = i - prev_frame\n            prev_frame = i\n\n            if elapsed > 60: # arbitrarily set all values > 60 to 0\n                elapsed = 0\n\n            ds.append((d[0], d[1], elapsed))\n\n    game_displacements[g_name] = pd.DataFrame(ds, columns=['d_x', 'd_y', 'frames_elapsed'])\n\ngame_displacements[all_files[0]].head(10)"
        },
        {
            "cell_type": "markdown",
            "id": "23b561c7",
            "metadata": {},
            "source": "## Scale frames_elapsed to between 0 and 1\nnorm(x) = (x / max_x)"
        },
        {
            "cell_type": "code",
            "execution_count": null,
            "id": "1a05c2bc",
            "metadata": {
                "trusted": true
            },
            "outputs": [],
            "source": "max = 60 # we know this is the maximum because we removed every value that was bigger\n\nfor game in game_displacements.values():\n    game['frames_elapsed'] = game['frames_elapsed'].map(lambda x : x / max)\n\ngame_displacements[all_files[0]].head(10)"
        },
        {
            "cell_type": "markdown",
            "id": "ef12b0e3",
            "metadata": {},
            "source": "## Write the preprocessed data to a CSV"
        },
        {
            "cell_type": "code",
            "execution_count": null,
            "id": "88a08173",
            "metadata": {
                "trusted": true
            },
            "outputs": [],
            "source": "output_dir = 'dataset/demo/displacements/'\nfor game in game_displacements.keys():\n    game_displacements[game].to_csv(output_dir+game+'.csv', index=False)"
        }
    ],
    "metadata": {
        "kernelspec": {
            "display_name": "Python 3 (ipykernel)",
            "language": "python",
            "name": "python3"
        },
        "language_info": {
            "codemirror_mode": {
                "name": "ipython",
                "version": 3
            },
            "file_extension": ".py",
            "mimetype": "text/x-python",
            "name": "python",
            "nbconvert_exporter": "python",
            "pygments_lexer": "ipython3",
            "version": "3.13.1"
        }
    },
    "nbformat": 4,
    "nbformat_minor": 5
}